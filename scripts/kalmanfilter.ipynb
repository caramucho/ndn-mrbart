{
 "cells": [
  {
   "cell_type": "code",
   "execution_count": 14,
   "metadata": {
    "collapsed": false
   },
   "outputs": [
    {
     "name": "stdout",
     "output_type": "stream",
     "text": [
      "Using matplotlib backend: TkAgg\n"
     ]
    }
   ],
   "source": [
    "import numpy as np\n",
    "import os\n",
    "import matplotlib.pyplot as plt\n",
    "%matplotlib"
   ]
  },
  {
   "cell_type": "code",
   "execution_count": 114,
   "metadata": {
    "collapsed": false
   },
   "outputs": [
    {
     "name": "stdout",
     "output_type": "stream",
     "text": [
      "0.01\n",
      "0.0120717561888\n",
      "0.0142839388542\n",
      "0.0157450715375\n",
      "0.0178796414568\n",
      "0.0209013286019\n",
      "0.024818552122\n",
      "0.0279549422238\n",
      "0.0325985128566\n",
      "0.0381737046049\n",
      "0.0463914625639\n",
      "0.0557049275404\n",
      "0.0629063034768\n",
      "0.0775855299117\n",
      "0.0957408964856\n",
      "0.109438523307\n",
      "0.126412538701\n",
      "0.15527404567\n",
      "0.188630665142\n",
      "0.216078624487\n",
      "0.248558967292\n",
      "0.299962722946\n",
      "0.362527752505\n",
      "0.432137612727\n",
      "0.52087945895\n",
      "0.595991747554\n",
      "0.662026510882\n",
      "0.785212925322\n",
      "0.884791390117\n",
      "0.720877849385\n",
      "0.864885259629\n",
      "0.417847824562\n",
      "0.474611541801\n",
      "0.485765156303\n",
      "0.478954434956\n",
      "0.485298999329\n",
      "0.475598485383\n",
      "0.485644823816\n",
      "0.482667320428\n",
      "0.481024204926\n",
      "0.480786471586\n",
      "0.482803155675\n",
      "0.482092140513\n",
      "0.484236916156\n",
      "0.481411369943\n",
      "0.484049504349\n",
      "0.485157770549\n",
      "0.487670135829\n",
      "0.488674047985\n",
      "0.488026370546\n",
      "0.487945470929\n",
      "0.485417862445\n",
      "0.482649492777\n",
      "0.4891572879\n",
      "0.484769122811\n",
      "0.489922120512\n",
      "0.490644189325\n",
      "0.492922724911\n",
      "0.49200861636\n",
      "0.491791712139\n",
      "0.491627589799\n",
      "0.569281120553\n",
      "0.693182530567\n",
      "0.847778227294\n",
      "0.913017715753\n",
      "0.871057675244\n",
      "0.929012055642\n",
      "0.845569747097\n",
      "0.938163597362\n",
      "0.909143731485\n",
      "0.893040115291\n",
      "0.955133568713\n",
      "0.896148818157\n",
      "0.954153831445\n",
      "0.941049810271\n",
      "0.94243939092\n",
      "0.939053206766\n",
      "0.913109641916\n",
      "0.956972415955\n",
      "0.94426764577\n",
      "0.9568396202\n",
      "0.958771579102\n",
      "0.980663955363\n",
      "0.968138303188\n",
      "0.953880595984\n",
      "0.950591703802\n",
      "0.976354113148\n",
      "0.967438916615\n",
      "0.967249286702\n",
      "0.971649771227\n",
      "0.976927528331\n",
      "0.968504297709\n",
      "0.982104450774\n",
      "0.985419972203\n",
      "0.990177761427\n",
      "0.976859476229\n",
      "0.982617147024\n",
      "0.982035520982\n",
      "0.979828879352\n",
      "0.980163587845\n"
     ]
    },
    {
     "data": {
      "text/plain": [
       "<matplotlib.legend.Legend at 0x7f1a445034d0>"
      ]
     },
     "execution_count": 114,
     "metadata": {},
     "output_type": "execute_result"
    }
   ],
   "source": [
    "a=np.array([100,-1])\n",
    "p=np.array([[10.0,0],\n",
    "             [0,1]])\n",
    "# u=np.array([-float(a[1])/float(a[0]),1])\n",
    "# y = np.zeros(100)\n",
    "H = np.array([[0.001,0],[0,0.001]]) #观测误差var\n",
    "Q = np.array([[0.001,0],[0,0.001]])\n",
    "abw = 1.0\n",
    "c = 1.0\n",
    "def model(u):\n",
    "    if u < abw:\n",
    "        return 0\n",
    "    else: \n",
    "        return ((1/c) * u - (abw/c))\n",
    "data = []\n",
    "\n",
    "for i in range(0,100):\n",
    "    if i == 30:\n",
    "        abw = 0.5\n",
    "    if i == 60:\n",
    "        abw = 1.0\n",
    "    eabw = -float(a[1])/float(a[0])\n",
    "    print eabw\n",
    "    data.append(eabw)\n",
    "    \n",
    "    u1 = np.random.uniform(eabw * 1.1 , eabw * 1.4,2)\n",
    "#     print u1[0]\n",
    "    u = np.array([[u1[0], 1],[u1[1],1]])\n",
    "    ips = np.array([model(u1[0]),model(u1[1])])\n",
    "#     if ips[0] == 0:\n",
    "#         continue;\n",
    "    v = ips - np.matmul(u,np.transpose(a))\n",
    "    f = np.matmul(np.matmul(u, p),np.transpose(u)) + H\n",
    "    k = np.matmul(np.matmul(p,np.transpose(u)), np.linalg.inv(f))\n",
    "    ahat = a + np.matmul(k, v)\n",
    "    phat = p - np.matmul(np.matmul(k,f), np.transpose(k))#??\n",
    "    a = ahat\n",
    "    p = phat + Q\n",
    "    \n",
    "#     print -float(a[1])/float(a[0]),1/float(a[0])\n",
    "plt.title(\"available bandwidth estimation\")\n",
    "plt.xlabel(\"samples\")\n",
    "plt.ylabel(\"available bandwidth [Mbps]\")\n",
    "plt.plot(range(0,100), data)\n",
    "x = np.array([0,30,30,60,60,99])\n",
    "y = np.array([1,1,0.5,0.5,1,1])\n",
    "plt.plot(x,y,label=\"real abw\")\n",
    "plt.ylim(0,1.2)\n",
    "plt.legend(loc='upper right')\n",
    "    "
   ]
  },
  {
   "cell_type": "code",
   "execution_count": 95,
   "metadata": {
    "collapsed": true
   },
   "outputs": [],
   "source": [
    "datafile = \"/home/zhaoliang/Documents/ndnSIM/ndnSIM-scenario-template/data/simu7/abw-1mbpsbn-0.5mbpsct.txt\"\n",
    "with open(datafile, 'r') as f:\n",
    "    data = []\n",
    "    lines = f.readlines()\n",
    "    for line in lines:\n",
    "        l = line.rstrip().split(\"\\t\")\n",
    "        if len(l) != 2:\n",
    "            continue\n",
    "        data.append(l)\n",
    "    npdata = np.array(data)\n",
    "    npdata = npdata.transpose()"
   ]
  },
  {
   "cell_type": "code",
   "execution_count": 3,
   "metadata": {
    "collapsed": false
   },
   "outputs": [],
   "source": [
    "# csvfile = \"/home/zhaoliang/Documents/ndnSIM/ndnSIM-scenario-template/data/u-ips2.csv\"\n",
    "csvfile = \"/home/zhaoliang/Documents/ndnSIM/ndnSIM-scenario-template/data/u-ips2.csv\"\n",
    "\n",
    "with open(csvfile, 'r') as f:\n",
    "    data = []\n",
    "    lines = f.readlines()\n",
    "    for line in lines:\n",
    "        l = map(lambda x: float(x),line.rstrip().split(\",\"))\n",
    "#         l = line.rstrip().split(\",\")\n",
    "#         print l\n",
    "        if l not in data:\n",
    "            data.append(l)\n",
    "#     print data\n",
    "    npdata = np.array(data)\n",
    "    npdata = npdata.transpose()"
   ]
  },
  {
   "cell_type": "code",
   "execution_count": 128,
   "metadata": {
    "collapsed": false
   },
   "outputs": [
    {
     "name": "stdout",
     "output_type": "stream",
     "text": [
      "0.5\n",
      "0.5\n"
     ]
    }
   ],
   "source": [
    "print model(1.7)"
   ]
  },
  {
   "cell_type": "code",
   "execution_count": 18,
   "metadata": {
    "collapsed": false
   },
   "outputs": [
    {
     "name": "stdout",
     "output_type": "stream",
     "text": [
      "[100  -1] [ 0.89146113  0.08705675] -101.3508197\n",
      "1.01798907032\n",
      "[ 9.64968418 -9.82327303] [ 0.32026701  0.67208466] 0.0267422269709\n",
      "1.0152254468\n",
      "[ 9.65824883 -9.80529999] [ 0.60988065  0.33642218] -0.580067743649\n",
      "1.07479957421\n",
      "[  9.30447674 -10.00044764] [ 0.36147921  0.60673544] 0.0200339451811\n",
      "1.0726583103\n",
      "[ 9.3117186  -9.98829234] [ 0.56071698  0.3540344 ] -0.553622487644\n",
      "1.13142563644\n",
      "[  9.00129307 -10.18429374] [ 0.37202737  0.57144343] 0.0223511238109\n",
      "1.12896376838\n",
      "[  9.0096083  -10.17152134] [ 0.52853991  0.35728012] -0.529260354978\n",
      "1.18680024891\n",
      "[  8.72987308 -10.36061554] [ 0.37387859  0.545379  ] 0.0250898789881\n",
      "1.18396060662\n",
      "[  8.73925365 -10.34693205] [ 0.50353864  0.355458  ] -0.53319061903\n",
      "1.24386058964\n",
      "[  8.47077157 -10.53645892] [ 0.37197713  0.52388214] 0.0272043101507\n",
      "1.2406959514\n",
      "[  8.48089095 -10.52220707] [ 0.48261371  0.35135663] -0.514408371103\n",
      "1.30006417298\n",
      "[  8.23263042 -10.70294786] [ 0.36817056  0.50518977] 0.0605145738687\n",
      "1.2928519365\n",
      "[  8.25491011 -10.67237652] [ 0.46439073  0.34612882] -0.495991913162\n",
      "1.35135532753\n",
      "[  8.02457606 -10.84405361] [ 0.36332244  0.48845156] 0.0338225172018\n",
      "1.34723347583\n",
      "[  8.03686454 -10.82753295] [ 0.4481355   0.34033669] -0.514359654125\n",
      "1.40943871258\n",
      "[  7.80636172 -11.00258842] [ 0.35789216  0.47319114] 0.035433960593\n",
      "1.40500838986\n",
      "[  7.81904326 -10.98582138] [ 0.43340509  0.33428288] -0.46325306616\n",
      "1.46236393627\n",
      "[  7.61826702 -11.14067895] [ 0.35214531  0.45911225] 0.0390208042295\n",
      "1.45738369227\n",
      "[  7.63200801 -11.12276402] [ 0.41990815  0.32814084] -0.447422803281\n",
      "1.51388804286\n",
      "[  7.44413153 -11.26958171] [ 0.34624436  0.44601567] 0.043182264717\n",
      "1.50827139561\n",
      "[  7.45908315 -11.25032175] [ 0.40744024  0.32201399] -0.477381608351\n",
      "1.56981510141\n",
      "[  7.26457867 -11.4040453 ] [ 0.3402926   0.43375908] 0.0455163947363\n",
      "1.56376325555\n",
      "[  7.28006756 -11.38430215] [ 0.39585063  0.31596521] -0.417876595733\n",
      "1.61867909794\n",
      "[  7.11465085 -11.51633662] [ 0.32680932  0.41436286] -0.40454670273\n",
      "1.67333535485\n",
      "[  6.98244121 -11.68396575] [ 0.38494507  0.31017402] 0.0537840910995\n",
      "1.66600621496\n",
      "[  7.00314513 -11.66728332] [ 0.32134151  0.40359484] -0.448201051169\n",
      "1.7273609088\n",
      "[  6.85911953 -11.84817495] [ 0.37473586  0.30448624] 0.0570430968768\n",
      "1.719470043\n",
      "[  6.88049563 -11.83080611] [ 0.31591708  0.39344346] -0.440351492203\n",
      "1.78065286666\n",
      "[  6.74138107 -12.00405953] [ 0.36514154  0.29892461] 0.0606078732048\n",
      "1.77214784117\n",
      "[  6.76351152 -11.98594234] [ 0.31056522  0.3838425 ] -0.368344517214\n",
      "1.82390074996\n",
      "[  6.64911653 -12.12732862] [ 0.34838135  0.28651182] -0.42554202727\n",
      "1.88424929181\n",
      "[  6.50086562 -12.24925144] [ 0.30528124  0.37478758] 0.0688086506335\n",
      "1.87422622576\n",
      "[  6.52187161 -12.22346282] [ 0.52727778  0.46006028] 5.61173298537\n",
      "1.01697255678\n"
     ]
    }
   ],
   "source": [
    "t = 0\n",
    "a=np.array([100,-1])\n",
    "p=np.array([[10.0,0],\n",
    "             [0,1]])\n",
    "# u=np.array([-float(a[1])/float(a[0]),1])\n",
    "# y = np.zeros(100)\n",
    "H = 0.001 #观测误差var\n",
    "Q = np.array([[0.001,0],[0,0.001]])\n",
    "for uips in npdata.transpose():\n",
    "    ips = float(uips[1])\n",
    "    u0 = float(uips[0])\n",
    "    if ips == 0:\n",
    "        continue;\n",
    "    u = np.array([u0, 1],[])\n",
    "    v = ips - np.matmul(u,np.transpose(a))\n",
    "#     print v\n",
    "#     f = np.matmul(np.matmul(np.transpose(u), p), u) + H\n",
    "    f = np.matmul(np.matmul(u, p), np.transpose(u)) + H\n",
    "    k = np.matmul(p,np.transpose(u)) * float(1/f)\n",
    "#     print k\n",
    "#     ppost = p - np.matmul((k.T * f), k) #??\n",
    "    ahat = a + k * v\n",
    "    print a, k ,v\n",
    "#     phat = p - np.matmul(k, u) * p #??\n",
    "    phat = p - np.matmul(k * f , np.transpose(k))#??\n",
    "    a = ahat\n",
    "    p = phat + Q\n",
    "    print -float(a[1])/float(a[0])\n",
    "#     print p\n",
    "    t = t + 1"
   ]
  },
  {
   "cell_type": "code",
   "execution_count": 4,
   "metadata": {
    "collapsed": false
   },
   "outputs": [
    {
     "name": "stdout",
     "output_type": "stream",
     "text": [
      "[[ 0.064      0.128      0.192      0.256      0.32       0.384      0.448\n",
      "   0.512      0.576      0.64       0.704      0.768      0.832      0.896\n",
      "   1.024      1.024      1.088      1.088      1.152      1.152      1.216\n",
      "   1.216      1.28       1.28       1.344      1.344      1.408      1.408\n",
      "   1.472      1.472      1.536      1.536      1.6        1.6        1.664\n",
      "   1.664      1.728      1.792      1.792      1.856      1.856      1.92\n",
      "   1.92       1.984      2.048      2.048      1.024    ]\n",
      " [ 0.         0.         0.         0.         0.         0.         0.         0.\n",
      "   0.         0.         0.         0.         0.         0.         0.0491803\n",
      "   0.0847458  0.122807   0.142857   0.185185   0.207547   0.254902   0.28\n",
      "   0.306122   0.333333   0.361702   0.422222   0.454545   0.488372\n",
      "   0.488372   0.52381    0.560976   0.6        0.641026   0.684211\n",
      "   0.684211   0.72973    0.777778   0.828571   0.882353   0.882353\n",
      "   0.939394   0.939394   1.         1.06452    1.06452    1.13333\n",
      "   0.0666667]]\n"
     ]
    },
    {
     "data": {
      "text/plain": [
       "[<matplotlib.lines.Line2D at 0x7f946dff2650>]"
      ]
     },
     "execution_count": 4,
     "metadata": {},
     "output_type": "execute_result"
    }
   ],
   "source": [
    "# print npdata.transpose\n",
    "print npdata\n",
    "plt.plot(npdata[0],npdata[1])"
   ]
  },
  {
   "cell_type": "code",
   "execution_count": 131,
   "metadata": {
    "collapsed": false
   },
   "outputs": [
    {
     "name": "stdout",
     "output_type": "stream",
     "text": [
      "0.787974602495 0.234977983931\n",
      "0.818730477477 0.97785012227\n",
      "0.84349622473 1.14361293989\n",
      "0.857954613823 1.22314162886\n",
      "0.869161147076 1.28394717696\n",
      "0.878620958576 1.33512278136\n",
      "0.886792821016 1.37935457876\n",
      "0.893917778963 1.41809662995\n",
      "0.900165575656 1.45236593551\n",
      "0.905667441881 1.48292923186\n",
      "0.910528286039 1.51038129077\n",
      "0.914833581836 1.53519187238\n",
      "0.918653984348 1.55773752138\n",
      "0.927658364555 1.57905852656\n",
      "0.93446365506 1.59186286264\n",
      "0.94070508372 1.60330665922\n",
      "0.944622996969 1.62583940313\n",
      "0.73226125835 1.93543469863\n"
     ]
    }
   ],
   "source": [
    "from numpy.linalg import inv\n",
    "t = 0\n",
    "a=np.array([100,-1])\n",
    "p=np.array([[10.0,0],\n",
    "             [0,1]])\n",
    "# # u=np.array([-float(a[1])/float(a[0]),1])\n",
    "# # y = np.zeros(100)\n",
    "H = np.array([[0.001,0],[0,0.001]]) #观测误差var\n",
    "Q = np.array([[0.001,0],[0,0.001]])\n",
    "data = npdata.transpose()[1:].reshape(23,2,2)\n",
    "for pair in data:\n",
    "    \n",
    "    u = np.array([[pair[0][0], 1],[pair[1][0], 1]])\n",
    "#     ips = [pair[0][1],pair[1][1]]\n",
    "#     print u\n",
    "    ips = [model(pair[0][0]),model(pair[1][0])]\n",
    "    if ips[0] == 0:\n",
    "        continue;\n",
    "    v = ips - np.matmul(u,np.transpose(a))\n",
    "#     print v\n",
    "    \n",
    "    f = np.matmul(np.matmul(u, p),np.transpose(u)) + H\n",
    "#     print f\n",
    "#     f = np.matmul(np.matmul(u, p), np.transpose(u)) + H\n",
    "    \n",
    "    k = np.matmul(np.matmul(p,np.transpose(u)), np.linalg.inv(f))\n",
    "#     print k\n",
    "#     ppost = p - np.matmul((k.T * f), k) #??\n",
    "    ahat = a + np.matmul(k, v)\n",
    "#     print a, k ,v\n",
    "# #     phat = p - np.matmul(k, u) * p #??\n",
    "    phat = p - np.matmul(np.matmul(k,f), np.transpose(k))#??\n",
    "    a = ahat\n",
    "    p = phat + Q\n",
    "#     print a\n",
    "    print -float(a[1])/float(a[0]),1/float(a[0])\n",
    "#     print p\n",
    "#     t = t + 1"
   ]
  },
  {
   "cell_type": "code",
   "execution_count": 1,
   "metadata": {
    "collapsed": false
   },
   "outputs": [
    {
     "ename": "NameError",
     "evalue": "name 'np' is not defined",
     "output_type": "error",
     "traceback": [
      "\u001b[0;31m---------------------------------------------------------------------------\u001b[0m",
      "\u001b[0;31mNameError\u001b[0m                                 Traceback (most recent call last)",
      "\u001b[0;32m<ipython-input-1-fc94668bf95d>\u001b[0m in \u001b[0;36m<module>\u001b[0;34m()\u001b[0m\n\u001b[1;32m      9\u001b[0m         \u001b[0ml\u001b[0m \u001b[0;34m=\u001b[0m \u001b[0mmap\u001b[0m\u001b[0;34m(\u001b[0m\u001b[0;32mlambda\u001b[0m \u001b[0mx\u001b[0m\u001b[0;34m:\u001b[0m \u001b[0mfloat\u001b[0m\u001b[0;34m(\u001b[0m\u001b[0mx\u001b[0m\u001b[0;34m)\u001b[0m\u001b[0;34m,\u001b[0m\u001b[0ml\u001b[0m\u001b[0;34m)\u001b[0m\u001b[0;34m\u001b[0m\u001b[0m\n\u001b[1;32m     10\u001b[0m         \u001b[0mdata\u001b[0m\u001b[0;34m.\u001b[0m\u001b[0mappend\u001b[0m\u001b[0;34m(\u001b[0m\u001b[0ml\u001b[0m\u001b[0;34m)\u001b[0m\u001b[0;34m\u001b[0m\u001b[0m\n\u001b[0;32m---> 11\u001b[0;31m     \u001b[0mnpdata\u001b[0m \u001b[0;34m=\u001b[0m \u001b[0mnp\u001b[0m\u001b[0;34m.\u001b[0m\u001b[0marray\u001b[0m\u001b[0;34m(\u001b[0m\u001b[0mdata\u001b[0m\u001b[0;34m)\u001b[0m\u001b[0;34m\u001b[0m\u001b[0m\n\u001b[0m\u001b[1;32m     12\u001b[0m     \u001b[0mnpdata\u001b[0m \u001b[0;34m=\u001b[0m \u001b[0mnpdata\u001b[0m\u001b[0;34m.\u001b[0m\u001b[0mtranspose\u001b[0m\u001b[0;34m(\u001b[0m\u001b[0;34m)\u001b[0m\u001b[0;34m\u001b[0m\u001b[0m\n",
      "\u001b[0;31mNameError\u001b[0m: name 'np' is not defined"
     ]
    }
   ],
   "source": [
    "datafile = \"/home/zhaoliang/Documents/ndnSIM/ndnSIM-DashPlayer/data/simu7/uips-sample.txt\"\n",
    "with open(datafile, 'r') as f:\n",
    "    data = []\n",
    "    lines = f.readlines()\n",
    "    for line in lines:\n",
    "        l = line.rstrip().split(\"\\t\")\n",
    "        if len(l) != 2:\n",
    "            continue\n",
    "        l = map(lambda x: float(x),l)\n",
    "        data.append(l)\n",
    "    npdata = np.array(data)\n",
    "    npdata = npdata.transpose()"
   ]
  },
  {
   "cell_type": "code",
   "execution_count": 4,
   "metadata": {
    "collapsed": false
   },
   "outputs": [
    {
     "ename": "NameError",
     "evalue": "name 'npdata' is not defined",
     "output_type": "error",
     "traceback": [
      "\u001b[0;31m---------------------------------------------------------------------------\u001b[0m",
      "\u001b[0;31mNameError\u001b[0m                                 Traceback (most recent call last)",
      "\u001b[0;32m<ipython-input-4-04652203282d>\u001b[0m in \u001b[0;36m<module>\u001b[0;34m()\u001b[0m\n\u001b[1;32m      6\u001b[0m \u001b[0;31m# u 0.475527 ips 0.0163044\u001b[0m\u001b[0;34m\u001b[0m\u001b[0;34m\u001b[0m\u001b[0m\n\u001b[1;32m      7\u001b[0m \u001b[0;31m# u 0.486094 ips 0.0388889\u001b[0m\u001b[0;34m\u001b[0m\u001b[0;34m\u001b[0m\u001b[0m\n\u001b[0;32m----> 8\u001b[0;31m \u001b[0;32mfor\u001b[0m \u001b[0mpair\u001b[0m \u001b[0;32min\u001b[0m \u001b[0mnpdata\u001b[0m\u001b[0;34m.\u001b[0m\u001b[0mtranspose\u001b[0m\u001b[0;34m(\u001b[0m\u001b[0;34m)\u001b[0m\u001b[0;34m.\u001b[0m\u001b[0mreshape\u001b[0m\u001b[0;34m(\u001b[0m\u001b[0mnpdata\u001b[0m\u001b[0;34m.\u001b[0m\u001b[0mshape\u001b[0m\u001b[0;34m[\u001b[0m\u001b[0;36m1\u001b[0m\u001b[0;34m]\u001b[0m\u001b[0;34m/\u001b[0m\u001b[0;36m2\u001b[0m\u001b[0;34m,\u001b[0m\u001b[0;36m2\u001b[0m\u001b[0;34m,\u001b[0m\u001b[0;36m2\u001b[0m\u001b[0;34m)\u001b[0m\u001b[0;34m:\u001b[0m\u001b[0;34m\u001b[0m\u001b[0m\n\u001b[0m\u001b[1;32m      9\u001b[0m     \u001b[0mu\u001b[0m \u001b[0;34m=\u001b[0m \u001b[0mnp\u001b[0m\u001b[0;34m.\u001b[0m\u001b[0marray\u001b[0m\u001b[0;34m(\u001b[0m\u001b[0;34m[\u001b[0m\u001b[0;34m[\u001b[0m\u001b[0mpair\u001b[0m\u001b[0;34m[\u001b[0m\u001b[0;36m0\u001b[0m\u001b[0;34m]\u001b[0m\u001b[0;34m[\u001b[0m\u001b[0;36m0\u001b[0m\u001b[0;34m]\u001b[0m\u001b[0;34m,\u001b[0m \u001b[0;36m1\u001b[0m\u001b[0;34m]\u001b[0m\u001b[0;34m,\u001b[0m\u001b[0;34m[\u001b[0m\u001b[0mpair\u001b[0m\u001b[0;34m[\u001b[0m\u001b[0;36m1\u001b[0m\u001b[0;34m]\u001b[0m\u001b[0;34m[\u001b[0m\u001b[0;36m0\u001b[0m\u001b[0;34m]\u001b[0m\u001b[0;34m,\u001b[0m \u001b[0;36m1\u001b[0m\u001b[0;34m]\u001b[0m\u001b[0;34m]\u001b[0m\u001b[0;34m)\u001b[0m\u001b[0;34m\u001b[0m\u001b[0m\n\u001b[1;32m     10\u001b[0m     \u001b[0mips\u001b[0m \u001b[0;34m=\u001b[0m \u001b[0;34m[\u001b[0m\u001b[0mpair\u001b[0m\u001b[0;34m[\u001b[0m\u001b[0;36m0\u001b[0m\u001b[0;34m]\u001b[0m\u001b[0;34m[\u001b[0m\u001b[0;36m1\u001b[0m\u001b[0;34m]\u001b[0m\u001b[0;34m,\u001b[0m\u001b[0mpair\u001b[0m\u001b[0;34m[\u001b[0m\u001b[0;36m1\u001b[0m\u001b[0;34m]\u001b[0m\u001b[0;34m[\u001b[0m\u001b[0;36m1\u001b[0m\u001b[0;34m]\u001b[0m\u001b[0;34m]\u001b[0m\u001b[0;34m\u001b[0m\u001b[0m\n",
      "\u001b[0;31mNameError\u001b[0m: name 'npdata' is not defined"
     ]
    }
   ],
   "source": [
    "a=np.array([2.0115,-1])\n",
    "H = np.array([[0.001,0],[0,0.001]]) #观测误差var\n",
    "Q = np.array([[0.001,0],[0,0.001]])\n",
    "p=np.array([[10.0,0],\n",
    "             [0,1]])\n",
    "# u 0.475527 ips 0.0163044\n",
    "# u 0.486094 ips 0.0388889\n",
    "for pair in npdata.transpose().reshape(npdata.shape[1]/2,2,2):\n",
    "    u = np.array([[pair[0][0], 1],[pair[1][0], 1]])\n",
    "    ips = [pair[0][1],pair[1][1]]\n",
    "#     u = np.array([[0.475527, 1],[0.486094,1]])\n",
    "#     ips = np.array([0.0163044,0.0388889])\n",
    "    v = ips - np.matmul(u,np.transpose(a))\n",
    "    f = np.matmul(np.matmul(u, p),np.transpose(u)) + H\n",
    "    k = np.matmul(np.matmul(p,np.transpose(u)), np.linalg.inv(f))\n",
    "    ahat = a + np.matmul(k, v)\n",
    "    phat = p - np.matmul(np.matmul(k,f), np.transpose(k))#??\n",
    "    a = ahat\n",
    "    p = phat + Q\n",
    "    print -float(a[1])/float(a[0]),1/float(a[0])"
   ]
  },
  {
   "cell_type": "code",
   "execution_count": null,
   "metadata": {
    "collapsed": true
   },
   "outputs": [],
   "source": []
  }
 ],
 "metadata": {
  "kernelspec": {
   "display_name": "Python 2",
   "language": "python",
   "name": "python2"
  },
  "language_info": {
   "codemirror_mode": {
    "name": "ipython",
    "version": 2
   },
   "file_extension": ".py",
   "mimetype": "text/x-python",
   "name": "python",
   "nbconvert_exporter": "python",
   "pygments_lexer": "ipython2",
   "version": "2.7.13"
  }
 },
 "nbformat": 4,
 "nbformat_minor": 2
}
