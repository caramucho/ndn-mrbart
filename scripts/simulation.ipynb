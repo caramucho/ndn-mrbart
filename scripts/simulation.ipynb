{
 "cells": [
  {
   "cell_type": "code",
   "execution_count": 93,
   "metadata": {
    "collapsed": false
   },
   "outputs": [
    {
     "name": "stdout",
     "output_type": "stream",
     "text": [
      "Using matplotlib backend: TkAgg\n"
     ]
    }
   ],
   "source": [
    "import os\n",
    "import matplotlib.pyplot as plt\n",
    "import numpy as np\n",
    "%matplotlib\n"
   ]
  },
  {
   "cell_type": "code",
   "execution_count": 14,
   "metadata": {
    "collapsed": false
   },
   "outputs": [
    {
     "name": "stdout",
     "output_type": "stream",
     "text": [
      "Using matplotlib backend: TkAgg\n"
     ]
    },
    {
     "data": {
      "text/plain": [
       "[<matplotlib.lines.Line2D at 0x7f159477c850>]"
      ]
     },
     "execution_count": 14,
     "metadata": {},
     "output_type": "execute_result"
    }
   ],
   "source": [
    "import os\n",
    "import matplotlib.pyplot as plt\n",
    "import numpy as np\n",
    "%matplotlib\n",
    "\n",
    "algorithm = \"fdash\"\n",
    "directory = \"/home/zhaoliang/Documents/ndnSIM/ndnSIM-DashPlayer/data/issue21/\"\n",
    "file = algorithm + \"-const-ba.txt\"\n",
    "files = os.listdir(directory)\n",
    "\n",
    "\n",
    "# for file in files:\n",
    "with open(directory + file, 'r') as f:\n",
    "    data = []\n",
    "    lines = f.readlines()\n",
    "    for line in lines[2:]:\n",
    "        l = line.rstrip().split(\"\\t\")\n",
    "        if len(l) != 2:\n",
    "            continue\n",
    "        data.append(l)\n",
    "    data = data[2:]\n",
    "    plt.xlabel(\"time [s]\")\n",
    "    plt.ylabel(\"Bitrate[Mbps]\")\n",
    "    plt.ylim([0,1.1])\n",
    "\n",
    "    npdata = np.array(data)[1:]\n",
    "\n",
    "#     subnpdata = npdata[npdata[:,0]==\"1\"]\n",
    "    npdata = npdata.transpose()\n",
    "\n",
    "    plt.plot(npdata[0],npdata[1],label=\"video bitrate\")\n",
    "\n",
    "x = np.array([0,300])\n",
    "y = np.array([0.5,0.5])\n",
    "        \n",
    "\n",
    "# x = np.array([0,500/3,500/3,500*2/3,500*2/3,500])\n",
    "# y = np.array([1,1,0.5,0.5,1,1])\n",
    "plt.plot(x,y,label=\"real abw\")\n"
   ]
  },
  {
   "cell_type": "code",
   "execution_count": 61,
   "metadata": {
    "collapsed": false
   },
   "outputs": [
    {
     "data": {
      "text/plain": [
       "[<matplotlib.lines.Line2D at 0x7f159368df50>]"
      ]
     },
     "execution_count": 61,
     "metadata": {},
     "output_type": "execute_result"
    }
   ],
   "source": [
    "directory = \"/home/zhaoliang/Documents/ndnSIM/ndnSIM-DashPlayer/data/\"\n",
    "filename = \"Rtr1-1s-2apps.txt\"\n",
    "with open(directory + filename, 'r') as f:\n",
    "    data = []\n",
    "    lines = f.readlines()\n",
    "    for line in lines:\n",
    "        l = line.rstrip().split(\"\\t\")\n",
    "        if len(l) != 9:\n",
    "            continue\n",
    "        data.append(l)\n",
    "        \n",
    "data = data[1:] \n",
    "npdata = np.array(data)\n",
    "ct = npdata[npdata[:,2]==\"257\"]\n",
    "ct = ct[ct[:,4]==\"OutData\"]\n",
    "app = npdata[npdata[:,2]==\"256\"]\n",
    "app = app[app[:,4]==\"OutData\"]\n",
    "\n",
    "# plt.title(\"Average Data Thoughput\")\n",
    "# plt.xlabel(\"Time[second]\")\n",
    "# plt.ylabel(\"Average Data Thoughput[Mbps]\")\n",
    "plt.ylim([0,1.1])\n",
    "# plt.plot(ct[:,0].astype(float),1-ct[:,6].astype(float)*8/1000,label=\"real available bw\")\n",
    "\n",
    "ct2 = np.append(np.zeros(100)+1 ,(1-ct[:,6].astype(float)*8/1000))\n",
    "plt.plot(app[:,0].astype(float),ct2,label=\"real available bw\")\n",
    "# plt.plot(app[:,0].astype(float),app[:,6].astype(float)*8/1000,label=\"data throughtput\")"
   ]
  },
  {
   "cell_type": "code",
   "execution_count": 62,
   "metadata": {
    "collapsed": false
   },
   "outputs": [
    {
     "data": {
      "text/plain": [
       "<matplotlib.legend.Legend at 0x7f159315a3d0>"
      ]
     },
     "execution_count": 62,
     "metadata": {},
     "output_type": "execute_result"
    }
   ],
   "source": [
    "plt.title(\"bitrate adaptation\")\n",
    "plt.legend(loc='lower right')"
   ]
  },
  {
   "cell_type": "code",
   "execution_count": 51,
   "metadata": {
    "collapsed": false
   },
   "outputs": [
    {
     "data": {
      "text/plain": [
       "<matplotlib.legend.Legend at 0x7f1592bf2190>"
      ]
     },
     "execution_count": 51,
     "metadata": {},
     "output_type": "execute_result"
    }
   ],
   "source": [
    "plt.title(\"available bandwidth estimation\")\n",
    "plt.legend(loc='upper right')"
   ]
  },
  {
   "cell_type": "code",
   "execution_count": 78,
   "metadata": {
    "collapsed": false
   },
   "outputs": [
    {
     "data": {
      "text/plain": [
       "<matplotlib.text.Text at 0x7f1593708650>"
      ]
     },
     "execution_count": 78,
     "metadata": {},
     "output_type": "execute_result"
    }
   ],
   "source": [
    "plt.title(\"buffer level\")\n",
    "# plt.legend(loc='lower right')\n",
    "plt.ylabel(\"buffer level[s]\")\n"
   ]
  },
  {
   "cell_type": "code",
   "execution_count": 79,
   "metadata": {
    "collapsed": false
   },
   "outputs": [],
   "source": [
    "plt.savefig(\"/home/zhaoliang/Documents/ndnSIM/ndnSIM-DashPlayer/data/issue21/fdashb.eps\")"
   ]
  },
  {
   "cell_type": "code",
   "execution_count": 77,
   "metadata": {
    "collapsed": false
   },
   "outputs": [],
   "source": [
    "algorithm = \"fdash\"\n",
    "directory = \"/home/zhaoliang/Documents/ndnSIM/ndnSIM-DashPlayer/data/issue21/\"\n",
    "file = \"fdash-buffer2.txt\"\n",
    "files = os.listdir(directory)\n",
    "\n",
    "\n",
    "# for file in files:\n",
    "with open(directory + file, 'r') as f:\n",
    "    data = []\n",
    "    lines = f.readlines()\n",
    "    for line in lines[2:]:\n",
    "        l = line.rstrip().split(\"\\t\")\n",
    "        if len(l) != 2:\n",
    "            continue\n",
    "        data.append(l)\n",
    "    data = data[2:]\n",
    "    plt.xlabel(\"time [s]\")\n",
    "    plt.ylabel(\"Bitrate[Mbps]\")\n",
    "#     plt.ylim([0,1.1])\n",
    "\n",
    "    npdata = np.array(data)[1:]\n",
    "\n",
    "#     subnpdata = npdata[npdata[:,0]==\"1\"]\n",
    "    npdata = npdata.transpose()\n",
    "\n",
    "#     plt.plot(npdata[0],npdata[1],label=\"estimated bandwidth\")\n",
    "#     plt.plot(npdata[0],npdata[1],label=\"video bitrate\")\n",
    "    plt.plot(npdata[0],npdata[1],label=\"buffer level\")\n",
    "\n",
    "# x = np.array([0,300])\n",
    "# y = np.array([0.5,0.5])\n",
    "        \n",
    "\n",
    "# x = np.array([0,500/3,500/3,500*2/3,500*2/3,500])\n",
    "# y = np.array([1,1,0.5,0.5,1,1])\n",
    "# plt.plot(x,y,label=\"real abw\")\n"
   ]
  },
  {
   "cell_type": "code",
   "execution_count": 3,
   "metadata": {
    "collapsed": false
   },
   "outputs": [],
   "source": [
    "# issue22\n",
    "directory = \"/home/zhaoliang/Documents/ndnSIM/ndnSIM-DashPlayer/data/issue22/\"\n",
    "file = \"bn1M-bandwidth-estimation.txt\"\n",
    "with open(directory + file, 'r') as f:\n",
    "    data = []\n",
    "    lines = f.readlines()\n",
    "    for line in lines[2:]:\n",
    "        l = line.rstrip().split(\"\\t\")\n",
    "        if len(l) != 2:\n",
    "            continue\n",
    "        data.append(l)\n",
    "    data = data[2:]\n",
    "    plt.xlabel(\"time [s]\")\n",
    "    plt.ylabel(\"Bitrate[Mbps]\")\n",
    "    npdata = np.array(data)[1:]\n",
    "    npdata = npdata.transpose()\n",
    "    plt.plot(npdata[0],npdata[1],label=\"buffer level\")\n",
    "    "
   ]
  },
  {
   "cell_type": "code",
   "execution_count": 5,
   "metadata": {
    "collapsed": true
   },
   "outputs": [],
   "source": [
    "file = \"bn3M/bandwidth-estimation.txt\"\n",
    "with open(directory + file, 'r') as f:\n",
    "    data = []\n",
    "    lines = f.readlines()\n",
    "    for line in lines[2:]:\n",
    "        l = line.rstrip().split(\"\\t\")\n",
    "        if len(l) != 2:\n",
    "            continue\n",
    "        data.append(l)\n",
    "    data = data[2:]\n",
    "    plt.xlabel(\"time [s]\")\n",
    "    plt.ylabel(\"Bitrate[Mbps]\")\n",
    "    npdata = np.array(data)[1:]\n",
    "    npdata = npdata.transpose()\n",
    "    plt.plot(npdata[0],npdata[1],label=\"buffer level\")"
   ]
  },
  {
   "cell_type": "code",
   "execution_count": 37,
   "metadata": {
    "collapsed": false
   },
   "outputs": [],
   "source": [
    "# issue23 simu1 11 rates\n",
    "\n",
    "directory = \"/home/zhaoliang/Documents/ndnSIM/ndnSIM-DashPlayer/data/issue23/\"\n",
    "file = \"bn3M-11rates/bandwidth-estimation.txt\"\n",
    "with open(directory + file, 'r') as f:\n",
    "    data = []\n",
    "    lines = f.readlines()\n",
    "    for line in lines[2:]:\n",
    "        l = line.rstrip().split(\"\\t\")\n",
    "        if len(l) != 2:\n",
    "            continue\n",
    "        data.append(l)\n",
    "    data = data[2:]\n",
    "    plt.xlabel(\"time [s]\")\n",
    "    plt.ylabel(\"Bitrate[Mbps]\")\n",
    "    npdata = np.array(data)[1:]\n",
    "    npdata = npdata.transpose()\n",
    "    plt.plot(npdata[0],npdata[1],label=\"abw-estimation\")\n",
    "    \n",
    "file = \"bn3M-11rates/bitrate.txt\"\n",
    "with open(directory + file, 'r') as f:\n",
    "    data = []\n",
    "    lines = f.readlines()\n",
    "    for line in lines[2:]:\n",
    "        l = line.rstrip().split(\"\\t\")\n",
    "        if len(l) != 2:\n",
    "            continue\n",
    "        data.append(l)\n",
    "    data = data[2:]\n",
    "    plt.xlabel(\"time [s]\")\n",
    "    plt.ylabel(\"Bitrate[Mbps]\")\n",
    "    npdata = np.array(data)[1:]\n",
    "    npdata = npdata.transpose()\n",
    "    plt.plot(npdata[0],npdata[1],label=\"bitrate p1=2 p2=4\")\n",
    "    plt.ylim(0,3.2)"
   ]
  },
  {
   "cell_type": "code",
   "execution_count": 38,
   "metadata": {
    "collapsed": false
   },
   "outputs": [],
   "source": [
    "plt.title(\"bitrate adaptation with 11 bitrates\")\n",
    "plt.legend(loc='lower right')\n",
    "plt.savefig(\"/home/zhaoliang/Documents/ndnSIM/ndnSIM-DashPlayer/data/issue23/11rates.eps\") "
   ]
  },
  {
   "cell_type": "code",
   "execution_count": 39,
   "metadata": {
    "collapsed": true
   },
   "outputs": [],
   "source": [
    "# issue23 simu1 p = 8\n",
    "\n",
    "directory = \"/home/zhaoliang/Documents/ndnSIM/ndnSIM-DashPlayer/data/issue23/\"\n",
    "file = \"bn3M-p8/bandwidth-estimation.txt\"\n",
    "# file = \"bn3M-p8/bitrate.txt\"\n",
    "with open(directory + file, 'r') as f:\n",
    "    data = []\n",
    "    lines = f.readlines()\n",
    "    for line in lines[2:]:\n",
    "        l = line.rstrip().split(\"\\t\")\n",
    "        if len(l) != 2:\n",
    "            continue\n",
    "        data.append(l)\n",
    "    data = data[2:]\n",
    "    plt.xlabel(\"time [s]\")\n",
    "    plt.ylabel(\"Bitrate[Mbps]\")\n",
    "    npdata = np.array(data)[1:]\n",
    "    npdata = npdata.transpose()\n",
    "    plt.plot(npdata[0],npdata[1],label=\"abw-estimation\")\n",
    "    \n",
    "file = \"bn3M-p8/bitrate.txt\"\n",
    "with open(directory + file, 'r') as f:\n",
    "    data = []\n",
    "    lines = f.readlines()\n",
    "    for line in lines[2:]:\n",
    "        l = line.rstrip().split(\"\\t\")\n",
    "        if len(l) != 2:\n",
    "            continue\n",
    "        data.append(l)\n",
    "    data = data[2:]\n",
    "    plt.xlabel(\"time [s]\")\n",
    "    plt.ylabel(\"Bitrate[Mbps]\")\n",
    "    npdata = np.array(data)[1:]\n",
    "    npdata = npdata.transpose()\n",
    "    plt.plot(npdata[0],npdata[1],label=\"bitrate p1=4 p2=8\")\n",
    "    plt.ylim(0,4)"
   ]
  },
  {
   "cell_type": "code",
   "execution_count": 41,
   "metadata": {
    "collapsed": true
   },
   "outputs": [],
   "source": [
    "plt.title(\"bitrate adaptation with 11 bitrates(2)\")\n",
    "plt.legend(loc='lower right')\n",
    "plt.savefig(\"/home/zhaoliang/Documents/ndnSIM/ndnSIM-DashPlayer/data/issue23/p8.eps\") "
   ]
  },
  {
   "cell_type": "code",
   "execution_count": 43,
   "metadata": {
    "collapsed": false
   },
   "outputs": [],
   "source": [
    "# issue23 simu1 5rates\n",
    "\n",
    "directory = \"/home/zhaoliang/Documents/ndnSIM/ndnSIM-DashPlayer/data/issue23/\"\n",
    "file = \"bn3M-5rates/bandwidth-estimation.txt\"\n",
    "# file = \"bn3M-p8/bitrate.txt\"\n",
    "with open(directory + file, 'r') as f:\n",
    "    data = []\n",
    "    lines = f.readlines()\n",
    "    for line in lines[2:]:\n",
    "        l = line.rstrip().split(\"\\t\")\n",
    "        if len(l) != 2:\n",
    "            continue\n",
    "        data.append(l)\n",
    "    data = data[2:]\n",
    "    plt.xlabel(\"time [s]\")\n",
    "    plt.ylabel(\"Bitrate[Mbps]\")\n",
    "    npdata = np.array(data)[1:]\n",
    "    npdata = npdata.transpose()\n",
    "    plt.plot(npdata[0],npdata[1],label=\"abw-estimation\")\n",
    "    \n",
    "file = \"bn3M-5rates/bitrate.txt\"\n",
    "with open(directory + file, 'r') as f:\n",
    "    data = []\n",
    "    lines = f.readlines()\n",
    "    for line in lines[2:]:\n",
    "        l = line.rstrip().split(\"\\t\")\n",
    "        if len(l) != 2:\n",
    "            continue\n",
    "        data.append(l)\n",
    "    data = data[2:]\n",
    "    plt.xlabel(\"time [s]\")\n",
    "    plt.ylabel(\"Bitrate[Mbps]\")\n",
    "    npdata = np.array(data)[1:]\n",
    "    npdata = npdata.transpose()\n",
    "    plt.plot(npdata[0],npdata[1],label=\"bitrate 5rates\")\n",
    "    plt.ylim(0,4)"
   ]
  },
  {
   "cell_type": "code",
   "execution_count": 44,
   "metadata": {
    "collapsed": true
   },
   "outputs": [],
   "source": [
    "plt.title(\"bitrate adaptation with 5 bitrates\")\n",
    "plt.legend(loc='lower right')\n",
    "plt.savefig(\"/home/zhaoliang/Documents/ndnSIM/ndnSIM-DashPlayer/data/issue23/5rates.eps\") "
   ]
  },
  {
   "cell_type": "code",
   "execution_count": 78,
   "metadata": {
    "collapsed": false
   },
   "outputs": [],
   "source": [
    "# issue24 buffer\n",
    "directory = \"/home/zhaoliang/Documents/ndnSIM/ndnSIM-DashPlayer/data/issue23/\"\n",
    "# file = \"bn3M-p8/buffer.txt\"\n",
    "# file = \"bn3M-11rates/buffer.txt\"\n",
    "# file = \"bn3M-p8/bitrate.txt\"\n",
    "file = \"bn3M-11rates/buffer.txt\"\n",
    "with open(directory + file, 'r') as f:\n",
    "    data = []\n",
    "    lines = f.readlines()\n",
    "    for line in lines[2:]:\n",
    "        l = line.rstrip().split(\"\\t\")\n",
    "        if len(l) != 2:\n",
    "            continue\n",
    "        data.append(l)\n",
    "    data = data[2:]\n",
    "    plt.xlabel(\"time [s]\")\n",
    "    plt.ylabel(\"Bitrate[Mbps]\")\n",
    "    npdata = np.array(data)[1:]\n",
    "    npdata = npdata.transpose()\n",
    "    plt.plot(npdata[0],npdata[1],label=\"11rates\")\n",
    "#     plt.ylim(0,45)    "
   ]
  },
  {
   "cell_type": "code",
   "execution_count": 79,
   "metadata": {
    "collapsed": true
   },
   "outputs": [],
   "source": [
    "plt.title(\"the buffer level\")\n",
    "plt.legend(loc='lower right')\n",
    "plt.savefig(\"/home/zhaoliang/Documents/ndnSIM/ndnSIM-DashPlayer/data/issue23/simu1-buffer.eps\") "
   ]
  },
  {
   "cell_type": "code",
   "execution_count": 63,
   "metadata": {
    "collapsed": true
   },
   "outputs": [],
   "source": [
    "# issue23 simu1 target17\n",
    "\n",
    "directory = \"/home/zhaoliang/Documents/ndnSIM/ndnSIM-DashPlayer/data/issue23/\"\n",
    "file = \"bn3M-target17/bandwidth-estimation.txt\"\n",
    "# file = \"bn3M-p8/bitrate.txt\"\n",
    "with open(directory + file, 'r') as f:\n",
    "    data = []\n",
    "    lines = f.readlines()\n",
    "    for line in lines[2:]:\n",
    "        l = line.rstrip().split(\"\\t\")\n",
    "        if len(l) != 2:\n",
    "            continue\n",
    "        data.append(l)\n",
    "    data = data[2:]\n",
    "    plt.xlabel(\"time [s]\")\n",
    "    plt.ylabel(\"Bitrate[Mbps]\")\n",
    "    npdata = np.array(data)[1:]\n",
    "    npdata = npdata.transpose()\n",
    "    plt.plot(npdata[0],npdata[1],label=\"abw-estimation\")\n",
    "    \n",
    "file = \"bn3M-target17/bitrate.txt\"\n",
    "with open(directory + file, 'r') as f:\n",
    "    data = []\n",
    "    lines = f.readlines()\n",
    "    for line in lines[2:]:\n",
    "        l = line.rstrip().split(\"\\t\")\n",
    "        if len(l) != 2:\n",
    "            continue\n",
    "        data.append(l)\n",
    "    data = data[2:]\n",
    "    plt.xlabel(\"time [s]\")\n",
    "    plt.ylabel(\"Bitrate[Mbps]\")\n",
    "    npdata = np.array(data)[1:]\n",
    "    npdata = npdata.transpose()\n",
    "    plt.plot(npdata[0],npdata[1],label=\"bitrate target17\")\n",
    "    plt.ylim(0,4)"
   ]
  },
  {
   "cell_type": "code",
   "execution_count": 65,
   "metadata": {
    "collapsed": true
   },
   "outputs": [],
   "source": [
    "plt.title(\"bitrate adaptation with 5 bitrates target 17\")\n",
    "plt.legend(loc='lower right')\n",
    "plt.savefig(\"/home/zhaoliang/Documents/ndnSIM/ndnSIM-DashPlayer/data/issue23/target17.eps\") "
   ]
  },
  {
   "cell_type": "code",
   "execution_count": 24,
   "metadata": {
    "collapsed": false
   },
   "outputs": [],
   "source": [
    "# issue24 simu1 \n",
    "directory = \"/home/zhaoliang/Documents/ndnSIM/ndnSIM-DashPlayer/data/issue24/\"\n",
    "file = \"simu5/0-bwe.txt\"\n",
    "# file = \"bn3M-p8/bitrate.txt\"\n",
    "\n",
    "for i in range(10)\n",
    "with open(directory + file, 'r') as f:\n",
    "    data = []\n",
    "    lines = f.readlines()\n",
    "    for line in lines[2:]:\n",
    "        l = line.rstrip().split(\"\\t\")\n",
    "        if len(l) != 2:\n",
    "            continue\n",
    "        data.append(l)\n",
    "    data = data[2:]\n",
    "    plt.xlabel(\"time [s]\")\n",
    "    plt.ylabel(\"Bitrate[Mbps]\")\n",
    "    npdata = np.array(data)[1:]\n",
    "    npdata = npdata.transpose()\n",
    "    plt.plot(npdata[0],npdata[1],label=\"consumer 1\")\n",
    "    \n",
    "file = \"simu5/1-bwe.txt\"\n",
    "with open(directory + file, 'r') as f:\n",
    "    data = []\n",
    "    lines = f.readlines()\n",
    "    for line in lines[2:]:\n",
    "        l = line.rstrip().split(\"\\t\")\n",
    "        if len(l) != 2:\n",
    "            continue\n",
    "        data.append(l)\n",
    "    data = data[2:]\n",
    "    plt.xlabel(\"time [s]\")\n",
    "    plt.ylabel(\"Bitrate[Mbps]\")\n",
    "    npdata = np.array(data)[1:]\n",
    "    npdata = npdata.transpose()\n",
    "    plt.plot(npdata[0],npdata[1],label=\"consumer 2\")\n",
    "    plt.ylim(0,3)"
   ]
  },
  {
   "cell_type": "code",
   "execution_count": 21,
   "metadata": {
    "collapsed": false
   },
   "outputs": [
    {
     "data": {
      "text/plain": [
       "[<matplotlib.lines.Line2D at 0x7f81006b4290>]"
      ]
     },
     "execution_count": 21,
     "metadata": {},
     "output_type": "execute_result"
    }
   ],
   "source": [
    "x = np.array([0,150,150,300])\n",
    "y = np.array([0.0,0.0,1,1])\n",
    "plt.plot(x,y,label=\"cross traffic\")\n",
    "# plt.ylim(0,3)"
   ]
  },
  {
   "cell_type": "code",
   "execution_count": 15,
   "metadata": {
    "collapsed": false
   },
   "outputs": [
    {
     "data": {
      "text/plain": [
       "(0, 3)"
      ]
     },
     "execution_count": 15,
     "metadata": {},
     "output_type": "execute_result"
    }
   ],
   "source": [
    "plt.ylim(0,3)"
   ]
  },
  {
   "cell_type": "code",
   "execution_count": 22,
   "metadata": {
    "collapsed": true
   },
   "outputs": [],
   "source": [
    "plt.title(\"bandwidth estimation with 2 consumer\")\n",
    "plt.legend(loc='lower right')\n",
    "plt.savefig(\"/home/zhaoliang/Documents/ndnSIM/ndnSIM-DashPlayer/data/issue24/simu4.eps\") "
   ]
  },
  {
   "cell_type": "code",
   "execution_count": 28,
   "metadata": {
    "collapsed": false
   },
   "outputs": [],
   "source": [
    "for i in range(10):\n",
    "    directory = \"/home/zhaoliang/Documents/ndnSIM/ndnSIM-DashPlayer/data/issue24/\"\n",
    "    file = \"simu5/\"+str(i)+\"-bwe.txt\"\n",
    "    # file = \"bn3M-p8/bitrate.txt\"\n",
    "\n",
    "    with open(directory + file, 'r') as f:\n",
    "        data = []\n",
    "        lines = f.readlines()\n",
    "        for line in lines[2:]:\n",
    "            l = line.rstrip().split(\"\\t\")\n",
    "            if len(l) != 2:\n",
    "                continue\n",
    "            data.append(l)\n",
    "        data = data[2:]\n",
    "        plt.xlabel(\"time [s]\")\n",
    "        plt.ylabel(\"Bitrate[Mbps]\")\n",
    "        npdata = np.array(data)[1:]\n",
    "        npdata = npdata.transpose()\n",
    "        plt.plot(npdata[0],npdata[1],label=\"consumer \"+str(i))"
   ]
  },
  {
   "cell_type": "code",
   "execution_count": 32,
   "metadata": {
    "collapsed": false
   },
   "outputs": [
    {
     "data": {
      "text/plain": [
       "<matplotlib.legend.Legend at 0x7f80fcb3bad0>"
      ]
     },
     "execution_count": 32,
     "metadata": {},
     "output_type": "execute_result"
    }
   ],
   "source": [
    "plt.ylim(0,3)\n",
    "plt.title(\"bandwidth estimation with 10 consumer\")\n",
    "plt.legend(loc='lower left')\n"
   ]
  },
  {
   "cell_type": "code",
   "execution_count": 33,
   "metadata": {
    "collapsed": true
   },
   "outputs": [],
   "source": [
    "plt.savefig(\"/home/zhaoliang/Documents/ndnSIM/ndnSIM-DashPlayer/data/issue24/simu5.eps\") "
   ]
  },
  {
   "cell_type": "code",
   "execution_count": 73,
   "metadata": {
    "collapsed": false
   },
   "outputs": [],
   "source": [
    "# issue25 simu2\n",
    "directory = \"/home/zhaoliang/Documents/ndnSIM/ndnSIM-DashPlayer/data/issue25/\"\n",
    "file = \"simu2/bandwidth-estimation.txt\"\n",
    "# file = \"bn3M-p8/bitrate.txt\"\n",
    "\n",
    "with open(directory + file, 'r') as f:\n",
    "    data = []\n",
    "    lines = f.readlines()\n",
    "    for line in lines[2:]:\n",
    "        l = line.rstrip().split(\"\\t\")\n",
    "        if len(l) != 2:\n",
    "            continue\n",
    "        data.append(l)\n",
    "    data = data[2:]\n",
    "    plt.xlabel(\"time [s]\")\n",
    "    plt.ylabel(\"Bitrate[Mbps]\")\n",
    "    npdata = np.array(data)[1:]\n",
    "    npdata = npdata.transpose()\n",
    "#     print npdata[1].astype(float)\n",
    "    plt.plot(npdata[0].astype(float),npdata[1].astype(float),label=\"bandwidth estimation\")\n",
    "\n",
    "file = \"simu2/bitrate.txt\"\n",
    "with open(directory + file, 'r') as f:\n",
    "    data = []\n",
    "    lines = f.readlines()\n",
    "    for line in lines[2:]:\n",
    "        l = line.rstrip().split(\"\\t\")\n",
    "        if len(l) != 2:\n",
    "            continue\n",
    "        data.append(l)\n",
    "    data = data[2:]\n",
    "    plt.xlabel(\"time [s]\")\n",
    "    plt.ylabel(\"Bitrate[Mbps]\")\n",
    "    npdata = np.array(data)[1:]\n",
    "    npdata = npdata.transpose()\n",
    "#     print npdata[1].astype(float)\n",
    "    plt.plot(npdata[0].astype(float),npdata[1].astype(float),label=\"bitrate\")"
   ]
  },
  {
   "cell_type": "code",
   "execution_count": 72,
   "metadata": {
    "collapsed": false,
    "scrolled": true
   },
   "outputs": [
    {
     "data": {
      "text/plain": [
       "[<matplotlib.lines.Line2D at 0x7f80fc2ba810>]"
      ]
     },
     "execution_count": 72,
     "metadata": {},
     "output_type": "execute_result"
    }
   ],
   "source": [
    "x = np.array([0,300])\n",
    "y = np.array([1,1])\n",
    "plt.plot(x,y,label=\"available bandwidth\")"
   ]
  },
  {
   "cell_type": "code",
   "execution_count": 74,
   "metadata": {
    "collapsed": false
   },
   "outputs": [
    {
     "data": {
      "text/plain": [
       "<matplotlib.legend.Legend at 0x7f80fc289b90>"
      ]
     },
     "execution_count": 74,
     "metadata": {},
     "output_type": "execute_result"
    }
   ],
   "source": [
    "plt.ylim(0,1.1)\n",
    "plt.title(\"bitrate adaptation with NDN\")\n",
    "plt.legend(loc='lower right')"
   ]
  },
  {
   "cell_type": "code",
   "execution_count": 75,
   "metadata": {
    "collapsed": true
   },
   "outputs": [],
   "source": [
    "plt.savefig(\"/home/zhaoliang/Documents/ndnSIM/ndnSIM-DashPlayer/data/issue25/simu2.eps\") "
   ]
  },
  {
   "cell_type": "code",
   "execution_count": 81,
   "metadata": {
    "collapsed": true
   },
   "outputs": [],
   "source": [
    "# issue25 simu3\n",
    "directory = \"/home/zhaoliang/Documents/ndnSIM/ndnSIM-DashPlayer/data/issue25/\"\n",
    "file = \"simu3/0-bwe.txt\"\n",
    "# file = \"bn3M-p8/bitrate.txt\"\n",
    "\n",
    "with open(directory + file, 'r') as f:\n",
    "    data = []\n",
    "    lines = f.readlines()\n",
    "    for line in lines[2:]:\n",
    "        l = line.rstrip().split(\"\\t\")\n",
    "        if len(l) != 2:\n",
    "            continue\n",
    "        data.append(l)\n",
    "    data = data[2:]\n",
    "    plt.xlabel(\"time [s]\")\n",
    "    plt.ylabel(\"Bitrate[Mbps]\")\n",
    "    npdata = np.array(data)[1:]\n",
    "    npdata = npdata.transpose()\n",
    "#     print npdata[1].astype(float)\n",
    "    plt.plot(npdata[0].astype(float),npdata[1].astype(float)/1000000.0,label=\"bandwidth estimation C1\")\n",
    "\n",
    "file = \"simu3/1-bwe.txt\"\n",
    "with open(directory + file, 'r') as f:\n",
    "    data = []\n",
    "    lines = f.readlines()\n",
    "    for line in lines[2:]:\n",
    "        l = line.rstrip().split(\"\\t\")\n",
    "        if len(l) != 2:\n",
    "            continue\n",
    "        data.append(l)\n",
    "    data = data[2:]\n",
    "    plt.xlabel(\"time [s]\")\n",
    "    plt.ylabel(\"Bitrate[Mbps]\")\n",
    "    npdata = np.array(data)[1:]\n",
    "    npdata = npdata.transpose()\n",
    "#     print npdata[1].astype(float)\n",
    "    plt.plot(npdata[0].astype(float),npdata[1].astype(float)/1000000.0,label=\"bandwidth estimation C2\")"
   ]
  },
  {
   "cell_type": "code",
   "execution_count": 83,
   "metadata": {
    "collapsed": false
   },
   "outputs": [
    {
     "data": {
      "text/plain": [
       "<matplotlib.legend.Legend at 0x7f80fc1d9990>"
      ]
     },
     "execution_count": 83,
     "metadata": {},
     "output_type": "execute_result"
    }
   ],
   "source": [
    "plt.ylim(0,1.1)\n",
    "plt.title(\"bandwidth estimation with TCP/IP 2 clients\")\n",
    "plt.legend(loc='upper right')"
   ]
  },
  {
   "cell_type": "code",
   "execution_count": 84,
   "metadata": {
    "collapsed": true
   },
   "outputs": [],
   "source": [
    "plt.savefig(\"/home/zhaoliang/Documents/ndnSIM/ndnSIM-DashPlayer/data/issue25/simu3.eps\") "
   ]
  },
  {
   "cell_type": "code",
   "execution_count": 116,
   "metadata": {
    "collapsed": false
   },
   "outputs": [
    {
     "name": "stdout",
     "output_type": "stream",
     "text": [
      "(array([ 0,  1,  2,  3,  4,  5,  6,  7,  8,  9, 10, 11, 12, 13, 14, 15, 16,\n",
      "       17, 18, 19]), <a list of 20 Text xticklabel objects>)\n",
      "[0, 1, 2, 3, 4, 5, 6, 7, 8, 9, 10, 11, 12, 13, 14, 15, 16, 17, 18, 19]\n"
     ]
    },
    {
     "data": {
      "text/plain": [
       "<matplotlib.collections.PathCollection at 0x7fd440d9df50>"
      ]
     },
     "execution_count": 116,
     "metadata": {},
     "output_type": "execute_result"
    }
   ],
   "source": [
    "x = [ 45000, 89000, 131000, 178000, 221000, 263000, 334000, 396000, 522000,\n",
    "          595000, 791000, 1033000, 1245000, 1547000, 2134000, 2484000, 3079000,\n",
    "          3527000, 3840000, 4220000 ];\n",
    "x1 = [45000, 221000,522000,2134000,3840000];\n",
    "x2 = [45000, 131000, 221000, 334000, 522000, 791000, 1245000, 2134000, 3079000, 3840000];\n",
    "y = range(20)\n",
    "plt.xlim(-1,20)\n",
    "# plt.sticks([0, 1,2])\n",
    "plt.xticks([0, 1, 2, 3, 4, 5, 6, 7, 8, 9, 10, 11, 12, 13, 14, 15, 16, 17, 18, 19])\n",
    "print( plt.xticks() )\n",
    "print y\n",
    "plt.scatter(np.array(y).astype(int),np.array(x)/1000000.0)\n",
    "# plt.scatter(np.array(y).astype(int),np.array(x2)/1000000.0)"
   ]
  },
  {
   "cell_type": "code",
   "execution_count": 119,
   "metadata": {
    "collapsed": false
   },
   "outputs": [
    {
     "data": {
      "text/plain": [
       "<matplotlib.text.Text at 0x7fd440dd41d0>"
      ]
     },
     "execution_count": 119,
     "metadata": {},
     "output_type": "execute_result"
    }
   ],
   "source": [
    "plt.title(\"available bitrates\")\n",
    "plt.legend(loc='upper right')\n",
    "plt.xlabel(\"variaty\")\n",
    "plt.ylabel(\"Bitrate[Mbps]\")"
   ]
  },
  {
   "cell_type": "code",
   "execution_count": 120,
   "metadata": {
    "collapsed": true
   },
   "outputs": [],
   "source": [
    "plt.savefig(\"/home/zhaoliang/Documents/ndnSIM/ndnSIM-DashPlayer/data/issue23/available-bitrates.eps\") "
   ]
  },
  {
   "cell_type": "code",
   "execution_count": null,
   "metadata": {
    "collapsed": true
   },
   "outputs": [],
   "source": []
  }
 ],
 "metadata": {
  "kernelspec": {
   "display_name": "Python 2",
   "language": "python",
   "name": "python2"
  },
  "language_info": {
   "codemirror_mode": {
    "name": "ipython",
    "version": 2
   },
   "file_extension": ".py",
   "mimetype": "text/x-python",
   "name": "python",
   "nbconvert_exporter": "python",
   "pygments_lexer": "ipython2",
   "version": "2.7.13"
  }
 },
 "nbformat": 4,
 "nbformat_minor": 2
}
