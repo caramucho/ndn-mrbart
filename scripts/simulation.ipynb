{
 "cells": [
  {
   "cell_type": "code",
   "execution_count": 14,
   "metadata": {
    "collapsed": false
   },
   "outputs": [
    {
     "name": "stdout",
     "output_type": "stream",
     "text": [
      "Using matplotlib backend: TkAgg\n"
     ]
    },
    {
     "data": {
      "text/plain": [
       "[<matplotlib.lines.Line2D at 0x7f159477c850>]"
      ]
     },
     "execution_count": 14,
     "metadata": {},
     "output_type": "execute_result"
    }
   ],
   "source": [
    "import os\n",
    "import matplotlib.pyplot as plt\n",
    "import numpy as np\n",
    "%matplotlib\n",
    "\n",
    "algorithm = \"fdash\"\n",
    "directory = \"/home/zhaoliang/Documents/ndnSIM/ndnSIM-DashPlayer/data/issue21/\"\n",
    "file = algorithm + \"-const-ba.txt\"\n",
    "files = os.listdir(directory)\n",
    "\n",
    "\n",
    "# for file in files:\n",
    "with open(directory + file, 'r') as f:\n",
    "    data = []\n",
    "    lines = f.readlines()\n",
    "    for line in lines[2:]:\n",
    "        l = line.rstrip().split(\"\\t\")\n",
    "        if len(l) != 2:\n",
    "            continue\n",
    "        data.append(l)\n",
    "    data = data[2:]\n",
    "    plt.xlabel(\"time [s]\")\n",
    "    plt.ylabel(\"Bitrate[Mbps]\")\n",
    "    plt.ylim([0,1.1])\n",
    "\n",
    "    npdata = np.array(data)[1:]\n",
    "\n",
    "#     subnpdata = npdata[npdata[:,0]==\"1\"]\n",
    "    npdata = npdata.transpose()\n",
    "\n",
    "    plt.plot(npdata[0],npdata[1],label=\"video bitrate\")\n",
    "\n",
    "x = np.array([0,300])\n",
    "y = np.array([0.5,0.5])\n",
    "        \n",
    "\n",
    "# x = np.array([0,500/3,500/3,500*2/3,500*2/3,500])\n",
    "# y = np.array([1,1,0.5,0.5,1,1])\n",
    "plt.plot(x,y,label=\"real abw\")\n"
   ]
  },
  {
   "cell_type": "code",
   "execution_count": 61,
   "metadata": {
    "collapsed": false
   },
   "outputs": [
    {
     "data": {
      "text/plain": [
       "[<matplotlib.lines.Line2D at 0x7f159368df50>]"
      ]
     },
     "execution_count": 61,
     "metadata": {},
     "output_type": "execute_result"
    }
   ],
   "source": [
    "directory = \"/home/zhaoliang/Documents/ndnSIM/ndnSIM-DashPlayer/data/\"\n",
    "filename = \"Rtr1-1s-2apps.txt\"\n",
    "with open(directory + filename, 'r') as f:\n",
    "    data = []\n",
    "    lines = f.readlines()\n",
    "    for line in lines:\n",
    "        l = line.rstrip().split(\"\\t\")\n",
    "        if len(l) != 9:\n",
    "            continue\n",
    "        data.append(l)\n",
    "        \n",
    "data = data[1:] \n",
    "npdata = np.array(data)\n",
    "ct = npdata[npdata[:,2]==\"257\"]\n",
    "ct = ct[ct[:,4]==\"OutData\"]\n",
    "app = npdata[npdata[:,2]==\"256\"]\n",
    "app = app[app[:,4]==\"OutData\"]\n",
    "\n",
    "# plt.title(\"Average Data Thoughput\")\n",
    "# plt.xlabel(\"Time[second]\")\n",
    "# plt.ylabel(\"Average Data Thoughput[Mbps]\")\n",
    "plt.ylim([0,1.1])\n",
    "# plt.plot(ct[:,0].astype(float),1-ct[:,6].astype(float)*8/1000,label=\"real available bw\")\n",
    "\n",
    "ct2 = np.append(np.zeros(100)+1 ,(1-ct[:,6].astype(float)*8/1000))\n",
    "plt.plot(app[:,0].astype(float),ct2,label=\"real available bw\")\n",
    "# plt.plot(app[:,0].astype(float),app[:,6].astype(float)*8/1000,label=\"data throughtput\")"
   ]
  },
  {
   "cell_type": "code",
   "execution_count": 62,
   "metadata": {
    "collapsed": false
   },
   "outputs": [
    {
     "data": {
      "text/plain": [
       "<matplotlib.legend.Legend at 0x7f159315a3d0>"
      ]
     },
     "execution_count": 62,
     "metadata": {},
     "output_type": "execute_result"
    }
   ],
   "source": [
    "plt.title(\"bitrate adaptation\")\n",
    "plt.legend(loc='lower right')"
   ]
  },
  {
   "cell_type": "code",
   "execution_count": 51,
   "metadata": {
    "collapsed": false
   },
   "outputs": [
    {
     "data": {
      "text/plain": [
       "<matplotlib.legend.Legend at 0x7f1592bf2190>"
      ]
     },
     "execution_count": 51,
     "metadata": {},
     "output_type": "execute_result"
    }
   ],
   "source": [
    "plt.title(\"available bandwidth estimation\")\n",
    "plt.legend(loc='upper right')"
   ]
  },
  {
   "cell_type": "code",
   "execution_count": 78,
   "metadata": {
    "collapsed": false
   },
   "outputs": [
    {
     "data": {
      "text/plain": [
       "<matplotlib.text.Text at 0x7f1593708650>"
      ]
     },
     "execution_count": 78,
     "metadata": {},
     "output_type": "execute_result"
    }
   ],
   "source": [
    "plt.title(\"buffer level\")\n",
    "# plt.legend(loc='lower right')\n",
    "plt.ylabel(\"buffer level[s]\")\n"
   ]
  },
  {
   "cell_type": "code",
   "execution_count": 79,
   "metadata": {
    "collapsed": false
   },
   "outputs": [],
   "source": [
    "plt.savefig(\"/home/zhaoliang/Documents/ndnSIM/ndnSIM-DashPlayer/data/issue21/fdashb.eps\")"
   ]
  },
  {
   "cell_type": "code",
   "execution_count": 77,
   "metadata": {
    "collapsed": false
   },
   "outputs": [],
   "source": [
    "\n",
    "algorithm = \"fdash\"\n",
    "directory = \"/home/zhaoliang/Documents/ndnSIM/ndnSIM-DashPlayer/data/issue21/\"\n",
    "file = \"fdash-buffer2.txt\"\n",
    "files = os.listdir(directory)\n",
    "\n",
    "\n",
    "# for file in files:\n",
    "with open(directory + file, 'r') as f:\n",
    "    data = []\n",
    "    lines = f.readlines()\n",
    "    for line in lines[2:]:\n",
    "        l = line.rstrip().split(\"\\t\")\n",
    "        if len(l) != 2:\n",
    "            continue\n",
    "        data.append(l)\n",
    "    data = data[2:]\n",
    "    plt.xlabel(\"time [s]\")\n",
    "    plt.ylabel(\"Bitrate[Mbps]\")\n",
    "#     plt.ylim([0,1.1])\n",
    "\n",
    "    npdata = np.array(data)[1:]\n",
    "\n",
    "#     subnpdata = npdata[npdata[:,0]==\"1\"]\n",
    "    npdata = npdata.transpose()\n",
    "\n",
    "#     plt.plot(npdata[0],npdata[1],label=\"estimated bandwidth\")\n",
    "#     plt.plot(npdata[0],npdata[1],label=\"video bitrate\")\n",
    "    plt.plot(npdata[0],npdata[1],label=\"buffer level\")\n",
    "\n",
    "# x = np.array([0,300])\n",
    "# y = np.array([0.5,0.5])\n",
    "        \n",
    "\n",
    "# x = np.array([0,500/3,500/3,500*2/3,500*2/3,500])\n",
    "# y = np.array([1,1,0.5,0.5,1,1])\n",
    "# plt.plot(x,y,label=\"real abw\")\n"
   ]
  },
  {
   "cell_type": "code",
   "execution_count": null,
   "metadata": {
    "collapsed": true
   },
   "outputs": [],
   "source": []
  }
 ],
 "metadata": {
  "kernelspec": {
   "display_name": "Python 2",
   "language": "python",
   "name": "python2"
  },
  "language_info": {
   "codemirror_mode": {
    "name": "ipython",
    "version": 2
   },
   "file_extension": ".py",
   "mimetype": "text/x-python",
   "name": "python",
   "nbconvert_exporter": "python",
   "pygments_lexer": "ipython2",
   "version": "2.7.13"
  }
 },
 "nbformat": 4,
 "nbformat_minor": 2
}
