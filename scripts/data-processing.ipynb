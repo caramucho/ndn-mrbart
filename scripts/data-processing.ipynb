{
 "cells": [
  {
   "cell_type": "code",
   "execution_count": 44,
   "metadata": {
    "collapsed": false
   },
   "outputs": [
    {
     "name": "stdout",
     "output_type": "stream",
     "text": [
      "Using matplotlib backend: TkAgg\n"
     ]
    }
   ],
   "source": [
    "import os\n",
    "import matplotlib.pyplot as plt\n",
    "import numpy as np\n",
    "%matplotlib\n",
    "\n",
    "directory = \"/home/zhaoliang/Documents/ndnSIM/ndnSIM-scenario-template/data/mean/\"\n",
    "files = os.listdir(directory)\n",
    "\n",
    "\n",
    "for file in files:\n",
    "    with open(directory + file, 'r') as f:\n",
    "        data = []\n",
    "        lines = f.readlines()\n",
    "        for line in lines:\n",
    "            l = line.rstrip().split(\"\\t\")\n",
    "            if len(l) != 4:\n",
    "                continue\n",
    "            data.append(l)\n",
    "#         print data\n",
    "        plt.title(\"segment fetch time\")\n",
    "        plt.xlabel(\"time [s]\")\n",
    "        plt.ylabel(\"segment fetch time [s]\")\n",
    "        npdata = np.array(data)\n",
    "        npdata = npdata.transpose()\n",
    "        plt.plot(npdata[0],npdata[1],label=float(file.split(\".txt\")[0]))\n",
    "        plt.legend(loc='upper left')\n",
    "    \n",
    "\n",
    "\n",
    "        \n",
    "#             print lineA"
   ]
  },
  {
   "cell_type": "code",
   "execution_count": 45,
   "metadata": {
    "collapsed": false
   },
   "outputs": [
    {
     "name": "stdout",
     "output_type": "stream",
     "text": [
      "Using matplotlib backend: TkAgg\n"
     ]
    }
   ],
   "source": [
    "import os\n",
    "import matplotlib.pyplot as plt\n",
    "import numpy as np\n",
    "%matplotlib\n",
    "\n",
    "directory = \"/home/zhaoliang/Documents/ndnSIM/ndnSIM-scenario-template/data/mean/\"\n",
    "files = os.listdir(directory)\n",
    "\n",
    "\n",
    "for file in files:\n",
    "    with open(directory + file, 'r') as f:\n",
    "        data = []\n",
    "        lines = f.readlines()\n",
    "        for line in lines:\n",
    "            l = line.rstrip().split(\"\\t\")\n",
    "            if len(l) != 4:\n",
    "                continue\n",
    "            data.append(l)\n",
    "#         print data\n",
    "        \n",
    "        plt.title(\"segment average bitrate\")\n",
    "        plt.xlabel(\"time [s]\")\n",
    "        plt.ylabel(\"average bitrate [bps]\")\n",
    "        plt.ylim([0,380000])\n",
    "        npdata = np.array(data)\n",
    "        npdata = npdata.transpose()\n",
    "        plt.plot(npdata[0],npdata[2],label=float(file.split(\".txt\")[0]))\n",
    "        plt.legend(loc='upper left')\n",
    "        \n",
    "#             print lineA"
   ]
  },
  {
   "cell_type": "code",
   "execution_count": 36,
   "metadata": {
    "collapsed": false
   },
   "outputs": [
    {
     "name": "stdout",
     "output_type": "stream",
     "text": [
      "Using matplotlib backend: TkAgg\n"
     ]
    }
   ],
   "source": [
    "import os\n",
    "import matplotlib.pyplot as plt\n",
    "import numpy as np\n",
    "%matplotlib\n",
    "\n",
    "directory = \"/home/zhaoliang/Documents/ndnSIM/ndnSIM-scenario-template/data/mean/\"\n",
    "files = os.listdir(directory)\n",
    "\n",
    "\n",
    "for file in files:\n",
    "    with open(directory + file, 'r') as f:\n",
    "        data = []\n",
    "        lines = f.readlines()\n",
    "        for line in lines:\n",
    "            l = line.rstrip().split(\"\\t\")\n",
    "            if len(l) != 4:\n",
    "                continue\n",
    "            data.append(l)\n",
    "#         print data\n",
    "\n",
    "        plt.title(\"interest requesting bitrate of content\")\n",
    "        plt.xlabel(\"time [s]\")\n",
    "        plt.ylabel(\"requesting bitrate [bps]\")\n",
    "        npdata = np.array(data)\n",
    "        npdata = npdata.transpose()\n",
    "        plt.plot(npdata[0],npdata[3],label=float(file.split(\".txt\")[0]))\n",
    "        plt.legend(loc='upper left')\n",
    "        \n",
    "#             print lineA"
   ]
  },
  {
   "cell_type": "code",
   "execution_count": 63,
   "metadata": {
    "collapsed": false
   },
   "outputs": [
    {
     "name": "stdout",
     "output_type": "stream",
     "text": [
      "Using matplotlib backend: TkAgg\n"
     ]
    }
   ],
   "source": [
    "import os\n",
    "import matplotlib.pyplot as plt\n",
    "import numpy as np\n",
    "%matplotlib\n",
    "\n",
    "directory = \"/home/zhaoliang/Documents/ndnSIM/ndnSIM-scenario-template/data/simu2/\"\n",
    "files = os.listdir(directory)\n",
    "\n",
    "\n",
    "for file in files:\n",
    "    with open(directory + file, 'r') as f:\n",
    "        data = []\n",
    "        lines = f.readlines()\n",
    "        for line in lines:\n",
    "            l = line.rstrip().split(\"\\t\")\n",
    "            if len(l) != 5:\n",
    "                continue\n",
    "            data.append(l)\n",
    "\n",
    "        plt.title(\"segment fetch time\")\n",
    "        plt.xlabel(\"time [s]\")\n",
    "        plt.ylabel(\"segment fetch time [s]\")\n",
    "        npdata = np.array(data)\n",
    "        npdata1 = npdata[npdata[:,0]==\"1\"]\n",
    "        npdata1 = npdata1.transpose()\n",
    "        \n",
    "        plt.plot(npdata1[1],npdata1[2],label=\"consumer1\")\n",
    "        npdata2 = npdata[npdata[:,0]==\"2\"]\n",
    "        \n",
    "        npdata2 = npdata2.transpose()\n",
    "        plt.plot(npdata2[1],npdata2[2],label=\"consumer2\")\n",
    "        \n",
    "        plt.legend(loc='upper left')\n",
    "    \n",
    "\n",
    "\n",
    "        \n",
    "#             print lineA"
   ]
  },
  {
   "cell_type": "code",
   "execution_count": 64,
   "metadata": {
    "collapsed": false
   },
   "outputs": [
    {
     "name": "stdout",
     "output_type": "stream",
     "text": [
      "Using matplotlib backend: TkAgg\n",
      "[['1' '1' '1' ..., '1' '1' '1']\n",
      " ['1.54867' '2.97089' '4.563' ..., '994.956' '996.786' '998.616']\n",
      " ['0.252894' '0.382142' '0.686554' ..., '1.49518' '1.49518' '1.49518']\n",
      " ['432751' '466005' '442733' ..., '374870' '376542' '376542']\n",
      " ['45000' '89000' '131000' ..., '263000' '263000' '263000']]\n"
     ]
    }
   ],
   "source": [
    "import os\n",
    "import matplotlib.pyplot as plt\n",
    "import numpy as np\n",
    "%matplotlib\n",
    "\n",
    "directory = \"/home/zhaoliang/Documents/ndnSIM/ndnSIM-scenario-template/data/simu2/\"\n",
    "files = os.listdir(directory)\n",
    "\n",
    "\n",
    "for file in files:\n",
    "    with open(directory + file, 'r') as f:\n",
    "        data = []\n",
    "        lines = f.readlines()\n",
    "        for line in lines:\n",
    "            l = line.rstrip().split(\"\\t\")\n",
    "            if len(l) != 5:\n",
    "                continue\n",
    "            data.append(l)\n",
    "        \n",
    "        plt.title(\"segment average bitrate\")\n",
    "        plt.xlabel(\"time [s]\")\n",
    "        plt.ylabel(\"average bitrate [bps]\")\n",
    "#         plt.ylim([0,380000])\n",
    "        npdata = np.array(data)\n",
    "        \n",
    "        npdata1 = npdata[npdata[:,0]==\"1\"]\n",
    "        npdata1 = npdata1.transpose()\n",
    "        print npdata1\n",
    "        \n",
    "        plt.plot(npdata1[1],npdata1[3],label=\"consumer1\")\n",
    "        \n",
    "        npdata2 = npdata[npdata[:,0]==\"2\"]\n",
    "        npdata2 = npdata2.transpose()\n",
    "        plt.plot(npdata2[1],npdata2[3],label=\"consumer2\")\n",
    "\n",
    "        plt.legend(loc='upper left')\n",
    "        \n",
    "#             print lineA"
   ]
  },
  {
   "cell_type": "code",
   "execution_count": 65,
   "metadata": {
    "collapsed": false
   },
   "outputs": [
    {
     "name": "stdout",
     "output_type": "stream",
     "text": [
      "Using matplotlib backend: TkAgg\n",
      "[['1' '1' '1' ..., '1' '1' '1']\n",
      " ['1.54867' '2.97089' '4.563' ..., '994.956' '996.786' '998.616']\n",
      " ['0.252894' '0.382142' '0.686554' ..., '1.49518' '1.49518' '1.49518']\n",
      " ['432751' '466005' '442733' ..., '374870' '376542' '376542']\n",
      " ['45000' '89000' '131000' ..., '263000' '263000' '263000']]\n"
     ]
    }
   ],
   "source": [
    "import os\n",
    "import matplotlib.pyplot as plt\n",
    "import numpy as np\n",
    "%matplotlib\n",
    "\n",
    "directory = \"/home/zhaoliang/Documents/ndnSIM/ndnSIM-scenario-template/data/simu2/\"\n",
    "files = os.listdir(directory)\n",
    "\n",
    "\n",
    "for file in files:\n",
    "    with open(directory + file, 'r') as f:\n",
    "        data = []\n",
    "        lines = f.readlines()\n",
    "        for line in lines:\n",
    "            l = line.rstrip().split(\"\\t\")\n",
    "            if len(l) != 5:\n",
    "                continue\n",
    "            data.append(l)\n",
    "        \n",
    "        plt.title(\"interest requesting bitrate of content\")\n",
    "        plt.xlabel(\"time [s]\")\n",
    "        plt.ylabel(\"requesting bitrate [bps]\")\n",
    "#         plt.ylim([0,380000])\n",
    "        npdata = np.array(data)\n",
    "        \n",
    "        npdata1 = npdata[npdata[:,0]==\"1\"]\n",
    "        npdata1 = npdata1.transpose()\n",
    "        print npdata1\n",
    "        \n",
    "        plt.plot(npdata1[1],npdata1[4],label=\"consumer1\")\n",
    "        \n",
    "        npdata2 = npdata[npdata[:,0]==\"2\"]\n",
    "        npdata2 = npdata2.transpose()\n",
    "        plt.plot(npdata2[1],npdata2[4],label=\"consumer2\")\n",
    "\n",
    "        plt.legend(loc='upper left')\n",
    "        \n",
    "#             print lineA"
   ]
  },
  {
   "cell_type": "code",
   "execution_count": 5,
   "metadata": {
    "collapsed": false
   },
   "outputs": [
    {
     "name": "stdout",
     "output_type": "stream",
     "text": [
      "Using matplotlib backend: TkAgg\n"
     ]
    }
   ],
   "source": [
    "import os\n",
    "import matplotlib.pyplot as plt\n",
    "import numpy as np\n",
    "%matplotlib\n",
    "\n",
    "directory = \"/home/zhaoliang/Documents/ndnSIM/ndnSIM-scenario-template/data/simu4/\"\n",
    "files = os.listdir(directory)\n",
    "\n",
    "\n",
    "for file in files:\n",
    "    with open(directory + file, 'r') as f:\n",
    "        data = []\n",
    "        lines = f.readlines()\n",
    "        for line in lines:\n",
    "            l = line.rstrip().split(\"\\t\")\n",
    "            if len(l) != 5:\n",
    "                continue\n",
    "            data.append(l)\n",
    "\n",
    "        plt.title(\"segment fetch time\")\n",
    "        plt.xlabel(\"time [s]\")\n",
    "        plt.ylabel(\"segment fetch time [s]\")\n",
    "        npdata = np.array(data)\n",
    "        npdata1 = npdata[npdata[:,0]==\"1\"]\n",
    "        npdata1 = npdata1.transpose()\n",
    "        plt.plot(npdata1[1],npdata1[2],label=\"consumer1\")\n",
    "        \n",
    "        npdata2 = npdata[npdata[:,0]==\"2\"]\n",
    "        npdata2 = npdata2.transpose()\n",
    "        plt.plot(npdata2[1],npdata2[2],label=\"consumer2\")\n",
    "        \n",
    "        subnpdata = npdata[npdata[:,0]==\"3\"]\n",
    "        subnpdata = subnpdata.transpose()\n",
    "        plt.plot(subnpdata[1],subnpdata[2],label=\"consumer3\")\n",
    "        \n",
    "        subnpdata = npdata[npdata[:,0]==\"4\"]\n",
    "        subnpdata = subnpdata.transpose()\n",
    "        plt.plot(subnpdata[1],subnpdata[2],label=\"consumer4\")\n",
    "        \n",
    "        subnpdata = npdata[npdata[:,0]==\"5\"]\n",
    "        subnpdata = subnpdata.transpose()\n",
    "        plt.plot(subnpdata[1],subnpdata[2],label=\"consumer5\")\n",
    "        \n",
    "        plt.legend(loc='upper left')\n",
    "    \n",
    "\n",
    "\n",
    "        \n",
    "#             print lineA"
   ]
  },
  {
   "cell_type": "code",
   "execution_count": 3,
   "metadata": {
    "collapsed": false
   },
   "outputs": [
    {
     "name": "stdout",
     "output_type": "stream",
     "text": [
      "Using matplotlib backend: TkAgg\n"
     ]
    }
   ],
   "source": [
    "import os\n",
    "import matplotlib.pyplot as plt\n",
    "import numpy as np\n",
    "%matplotlib\n",
    "\n",
    "directory = \"/home/zhaoliang/Documents/ndnSIM/ndnSIM-scenario-template/data/simu3/\"\n",
    "files = os.listdir(directory)\n",
    "\n",
    "\n",
    "for file in files:\n",
    "    with open(directory + file, 'r') as f:\n",
    "        data = []\n",
    "        lines = f.readlines()\n",
    "        for line in lines:\n",
    "            l = line.rstrip().split(\"\\t\")\n",
    "            if len(l) != 5:\n",
    "                continue\n",
    "            data.append(l)\n",
    "\n",
    "        plt.title(\"segment average bitrate\")\n",
    "        plt.xlabel(\"time [s]\")\n",
    "        plt.ylabel(\"average bitrate [bps]\")\n",
    "        npdata = np.array(data)\n",
    "        npdata1 = npdata[npdata[:,0]==\"1\"]\n",
    "        npdata1 = npdata1.transpose()\n",
    "        plt.plot(npdata1[1],npdata1[3],label=\"consumer1\")\n",
    "        \n",
    "        npdata2 = npdata[npdata[:,0]==\"2\"]\n",
    "        npdata2 = npdata2.transpose()\n",
    "        plt.plot(npdata2[1],npdata2[3],label=\"consumer2\")\n",
    "        \n",
    "        subnpdata = npdata[npdata[:,0]==\"3\"]\n",
    "        subnpdata = subnpdata.transpose()\n",
    "        plt.plot(subnpdata[1],subnpdata[3],label=\"consumer3\")\n",
    "        \n",
    "        subnpdata = npdata[npdata[:,0]==\"4\"]\n",
    "        subnpdata = subnpdata.transpose()\n",
    "        plt.plot(subnpdata[1],subnpdata[3],label=\"consumer4\")\n",
    "        \n",
    "        subnpdata = npdata[npdata[:,0]==\"5\"]\n",
    "        subnpdata = subnpdata.transpose()\n",
    "        plt.plot(subnpdata[1],subnpdata[3],label=\"consumer5\")\n",
    "        \n",
    "        plt.legend(loc='upper left')\n",
    "    \n",
    "\n",
    "\n",
    "        \n",
    "#             print lineA"
   ]
  },
  {
   "cell_type": "code",
   "execution_count": 2,
   "metadata": {
    "collapsed": false
   },
   "outputs": [
    {
     "name": "stdout",
     "output_type": "stream",
     "text": [
      "Using matplotlib backend: TkAgg\n"
     ]
    },
    {
     "ename": "IndexError",
     "evalue": "index 5 is out of bounds for axis 0 with size 5",
     "output_type": "error",
     "traceback": [
      "\u001b[0;31m---------------------------------------------------------------------------\u001b[0m",
      "\u001b[0;31mIndexError\u001b[0m                                Traceback (most recent call last)",
      "\u001b[0;32m<ipython-input-2-61c80257063b>\u001b[0m in \u001b[0;36m<module>\u001b[0;34m()\u001b[0m\n\u001b[1;32m     44\u001b[0m         \u001b[0msubnpdata\u001b[0m \u001b[0;34m=\u001b[0m \u001b[0mnpdata\u001b[0m\u001b[0;34m[\u001b[0m\u001b[0mnpdata\u001b[0m\u001b[0;34m[\u001b[0m\u001b[0;34m:\u001b[0m\u001b[0;34m,\u001b[0m\u001b[0;36m0\u001b[0m\u001b[0;34m]\u001b[0m\u001b[0;34m==\u001b[0m\u001b[0;34m\"6\"\u001b[0m\u001b[0;34m]\u001b[0m\u001b[0;34m\u001b[0m\u001b[0m\n\u001b[1;32m     45\u001b[0m         \u001b[0msubnpdata\u001b[0m \u001b[0;34m=\u001b[0m \u001b[0msubnpdata\u001b[0m\u001b[0;34m.\u001b[0m\u001b[0mtranspose\u001b[0m\u001b[0;34m(\u001b[0m\u001b[0;34m)\u001b[0m\u001b[0;34m\u001b[0m\u001b[0m\n\u001b[0;32m---> 46\u001b[0;31m         \u001b[0mplt\u001b[0m\u001b[0;34m.\u001b[0m\u001b[0mplot\u001b[0m\u001b[0;34m(\u001b[0m\u001b[0msubnpdata\u001b[0m\u001b[0;34m[\u001b[0m\u001b[0;36m1\u001b[0m\u001b[0;34m]\u001b[0m\u001b[0;34m,\u001b[0m\u001b[0msubnpdata\u001b[0m\u001b[0;34m[\u001b[0m\u001b[0;36m5\u001b[0m\u001b[0;34m]\u001b[0m\u001b[0;34m,\u001b[0m\u001b[0mlabel\u001b[0m\u001b[0;34m=\u001b[0m\u001b[0;34m\"consumer5\"\u001b[0m\u001b[0;34m)\u001b[0m\u001b[0;34m\u001b[0m\u001b[0m\n\u001b[0m\u001b[1;32m     47\u001b[0m \u001b[0;34m\u001b[0m\u001b[0m\n\u001b[1;32m     48\u001b[0m         \u001b[0msubnpdata\u001b[0m \u001b[0;34m=\u001b[0m \u001b[0mnpdata\u001b[0m\u001b[0;34m[\u001b[0m\u001b[0mnpdata\u001b[0m\u001b[0;34m[\u001b[0m\u001b[0;34m:\u001b[0m\u001b[0;34m,\u001b[0m\u001b[0;36m0\u001b[0m\u001b[0;34m]\u001b[0m\u001b[0;34m==\u001b[0m\u001b[0;34m\"7\"\u001b[0m\u001b[0;34m]\u001b[0m\u001b[0;34m\u001b[0m\u001b[0m\n",
      "\u001b[0;31mIndexError\u001b[0m: index 5 is out of bounds for axis 0 with size 5"
     ]
    }
   ],
   "source": [
    "import os\n",
    "import matplotlib.pyplot as plt\n",
    "import numpy as np\n",
    "%matplotlib\n",
    "\n",
    "directory = \"/home/zhaoliang/Documents/ndnSIM/ndnSIM-scenario-template/data/simu3/\"\n",
    "files = os.listdir(directory)\n",
    "\n",
    "\n",
    "for file in files:\n",
    "    with open(directory + file, 'r') as f:\n",
    "        data = []\n",
    "        lines = f.readlines()\n",
    "        for line in lines:\n",
    "            l = line.rstrip().split(\"\\t\")\n",
    "            if len(l) != 5:\n",
    "                continue\n",
    "            data.append(l)\n",
    "\n",
    "        plt.title(\"interest requesting bitrate of content\")\n",
    "        plt.xlabel(\"time [s]\")\n",
    "        plt.ylabel(\"requesting bitrate [bps]\")\n",
    "        npdata = np.array(data)\n",
    "        npdata1 = npdata[npdata[:,0]==\"1\"]\n",
    "        npdata1 = npdata1.transpose()\n",
    "        plt.plot(npdata1[1],npdata1[4],label=\"consumer1\")\n",
    "        \n",
    "        npdata2 = npdata[npdata[:,0]==\"2\"]\n",
    "        npdata2 = npdata2.transpose()\n",
    "        plt.plot(npdata2[1],npdata2[4],label=\"consumer2\")\n",
    "        \n",
    "        subnpdata = npdata[npdata[:,0]==\"3\"]\n",
    "        subnpdata = subnpdata.transpose()\n",
    "        plt.plot(subnpdata[1],subnpdata[4],label=\"consumer3\")\n",
    "        \n",
    "        subnpdata = npdata[npdata[:,0]==\"4\"]\n",
    "        subnpdata = subnpdata.transpose()\n",
    "        plt.plot(subnpdata[1],subnpdata[4],label=\"consumer4\")\n",
    "        \n",
    "        subnpdata = npdata[npdata[:,0]==\"5\"]\n",
    "        subnpdata = subnpdata.transpose()\n",
    "        plt.plot(subnpdata[1],subnpdata[4],label=\"consumer5\")\n",
    "        \n",
    "        subnpdata = npdata[npdata[:,0]==\"6\"]\n",
    "        subnpdata = subnpdata.transpose()\n",
    "        plt.plot(subnpdata[1],subnpdata[5],label=\"consumer5\")\n",
    "        \n",
    "        subnpdata = npdata[npdata[:,0]==\"7\"]\n",
    "        subnpdata = subnpdata.transpose()\n",
    "        plt.plot(subnpdata[1],subnpdata[6],label=\"consumer5\")\n",
    "        \n",
    "        subnpdata = npdata[npdata[:,0]==\"8\"]\n",
    "        subnpdata = subnpdata.transpose()\n",
    "        plt.plot(subnpdata[1],subnpdata[7],label=\"consumer5\")\n",
    "        \n",
    "        subnpdata = npdata[npdata[:,0]==\"9\"]\n",
    "        subnpdata = subnpdata.transpose()\n",
    "        plt.plot(subnpdata[1],subnpdata[8],label=\"consumer5\")\n",
    "        \n",
    "        subnpdata = npdata[npdata[:,0]==\"10\"]\n",
    "        subnpdata = subnpdata.transpose()\n",
    "        plt.plot(subnpdata[1],subnpdata[9],label=\"consumer5\")\n",
    "        \n",
    "        plt.legend(loc='upper left')\n",
    "    \n",
    "\n",
    "\n",
    "        \n",
    "#             print lineA"
   ]
  },
  {
   "cell_type": "code",
   "execution_count": 1,
   "metadata": {
    "collapsed": false
   },
   "outputs": [
    {
     "name": "stdout",
     "output_type": "stream",
     "text": [
      "Using matplotlib backend: TkAgg\n"
     ]
    }
   ],
   "source": [
    "import os\n",
    "import matplotlib.pyplot as plt\n",
    "import numpy as np\n",
    "%matplotlib\n",
    "\n",
    "directory = \"/home/zhaoliang/Documents/ndnSIM/ndnSIM-scenario-template/data/simu5/\"\n",
    "files = os.listdir(directory)\n",
    "\n",
    "\n",
    "for file in files:\n",
    "    if file != \"100Mbps-aaash.txt\":\n",
    "        break\n",
    "   \n",
    "    with open(directory + file, 'r') as f:\n",
    "        data = []\n",
    "        lines = f.readlines()\n",
    "        for line in lines:\n",
    "            l = line.rstrip().split(\"\\t\")\n",
    "            if len(l) != 6:\n",
    "                continue\n",
    "            data.append(l)\n",
    "\n",
    "        plt.title(\"segment download time\")\n",
    "        plt.xlabel(\"time [s]\")\n",
    "        plt.ylabel(\"average bitrate [bps]\")\n",
    "        npdata = np.array(data)\n",
    "        col = 2\n",
    "        \n",
    "        subnpdata = npdata[npdata[:,0]==\"1\"]\n",
    "        subnpdata = subnpdata.transpose()\n",
    "        plt.plot(subnpdata[1],subnpdata[col],label=\"consumer1\")\n",
    "        \n",
    "        subnpdata = npdata[npdata[:,0]==\"2\"]\n",
    "        subnpdata = subnpdata.transpose()\n",
    "        plt.plot(subnpdata[1],subnpdata[col],label=\"consumer2\")\n",
    "        \n",
    "        subnpdata = npdata[npdata[:,0]==\"3\"]\n",
    "        subnpdata = subnpdata.transpose()\n",
    "        plt.plot(subnpdata[1],subnpdata[col],label=\"consumer3\")\n",
    "        \n",
    "        subnpdata = npdata[npdata[:,0]==\"4\"]\n",
    "        subnpdata = subnpdata.transpose()\n",
    "        plt.plot(subnpdata[1],subnpdata[col],label=\"consumer4\")\n",
    "        \n",
    "        subnpdata = npdata[npdata[:,0]==\"5\"]\n",
    "        subnpdata = subnpdata.transpose()\n",
    "        plt.plot(subnpdata[1],subnpdata[col],label=\"consumer5\")\n",
    "        \n",
    "        plt.legend(loc='upper left')\n",
    "    \n",
    "\n",
    "\n",
    "        \n",
    "#             print lineA"
   ]
  },
  {
   "cell_type": "code",
   "execution_count": 27,
   "metadata": {
    "collapsed": false
   },
   "outputs": [
    {
     "name": "stdout",
     "output_type": "stream",
     "text": [
      "Using matplotlib backend: TkAgg\n",
      "100Mbps-raash.txt\n"
     ]
    }
   ],
   "source": [
    "import os\n",
    "import matplotlib.pyplot as plt\n",
    "import numpy as np\n",
    "%matplotlib\n",
    "\n",
    "directory = \"/home/zhaoliang/Documents/ndnSIM/ndnSIM-scenario-template/data/simu5/\"\n",
    "files = os.listdir(directory)\n",
    "\n",
    "\n",
    "for file in files:\n",
    " \n",
    "    if file != \"100Mbps-raash.txt\":\n",
    "        continue\n",
    "    print file\n",
    "    with open(directory + file, 'r') as f:\n",
    "        data = []\n",
    "        lines = f.readlines()\n",
    "        for line in lines:\n",
    "            l = line.rstrip().split(\"\\t\")\n",
    "            if len(l) != 6:\n",
    "                continue\n",
    "            data.append(l)\n",
    "\n",
    "        plt.title(\"segment download time\")\n",
    "        plt.xlabel(\"time [s]\")\n",
    "        plt.ylabel(\"segment download time [s]\")\n",
    "        npdata = np.array(data)\n",
    "        col = 5\n",
    "        # 1 \n",
    "        # 2 segment fetch time\n",
    "        # 3 segment average bitrate\n",
    "        # 4 interest requesting bitrate of content\n",
    "        # 5 segment download time\n",
    "        \n",
    "       \n",
    "        subnpdata = npdata[npdata[:,0]==\"1\"]\n",
    "        # the last item is 0 \n",
    "        subnpdata = subnpdata[:-1]\n",
    "        subnpdata = subnpdata.transpose()\n",
    "        plt.plot(subnpdata[1],subnpdata[col],label=\"consumer1\")\n",
    "        \n",
    "        subnpdata = npdata[npdata[:,0]==\"2\"]\n",
    "        subnpdata = subnpdata[:-1]\n",
    "        subnpdata = subnpdata.transpose()\n",
    "        plt.plot(subnpdata[1],subnpdata[col],label=\"consumer2\")\n",
    "        \n",
    "        subnpdata = npdata[npdata[:,0]==\"3\"]\n",
    "        subnpdata = subnpdata[:-1]\n",
    "        subnpdata = subnpdata.transpose()\n",
    "        plt.plot(subnpdata[1],subnpdata[col],label=\"consumer3\")\n",
    "        \n",
    "        subnpdata = npdata[npdata[:,0]==\"4\"]\n",
    "        subnpdata = subnpdata[:-1]\n",
    "        subnpdata = subnpdata.transpose()\n",
    "        plt.plot(subnpdata[1],subnpdata[col],label=\"consumer4\")\n",
    "        \n",
    "        subnpdata = npdata[npdata[:,0]==\"5\"]\n",
    "        subnpdata = subnpdata[:-1]\n",
    "        subnpdata = subnpdata.transpose()\n",
    "        plt.plot(subnpdata[1],subnpdata[col],label=\"consumer5\")\n",
    "        \n",
    "        plt.legend(loc='upper left')\n",
    "    "
   ]
  },
  {
   "cell_type": "code",
   "execution_count": 51,
   "metadata": {
    "collapsed": false
   },
   "outputs": [
    {
     "name": "stdout",
     "output_type": "stream",
     "text": [
      "Using matplotlib backend: TkAgg\n",
      "simple.txt\n",
      "[0.0, 0.3223499999999999, 0.7191100000000001, 0.38076, 0.32235999999999976, 0.015980000000000327, 0.4725699999999997, 0.4885500000000005, 0.48855000000000004, 0.3223799999999999, 0.16615999999999964, 0.3223900000000004, 0.48855000000000004, 0.48855000000000004, 0.3223799999999999, 0.16616999999999926, 0.3223800000000008, 0.48855000000000004, 0.48855000000000004, 0.322379999999999, 0.16617000000000104, 0.322379999999999, 0.48855000000000004, 0.48855000000000004, 0.32235999999999976, 0.1661999999999999, 0.3224, 0.48850000000000016, 0.4885999999999999, 0.3224, 0.16610000000000014, 0.3224, 0.4885999999999999, 0.48850000000000016, 0.3224, 0.1661999999999999, 0.32230000000000025, 0.4885999999999999, 0.48850000000000016, 0.3224, 0.1661999999999999, 0.3224000000000018, 0.4884999999999984, 0.4886000000000017, 0.32239999999999824, 0.16610000000000014, 0.32239999999999824, 0.4886000000000017, 0.4884999999999984, 0.32250000000000156, 0.16610000000000014, 0.32239999999999824, 0.4886000000000017, 0.4884999999999984, 0.3224000000000018, 0.1661999999999999, 0.32239999999999824, 0.48850000000000193, 0.48859999999999815, 0.3224000000000018, 0.16610000000000014, 0.32239999999999824, 0.4886000000000017, 0.4884999999999984, 0.32250000000000156, 0.16610000000000014, 0.32239999999999824, 0.48850000000000193, 0.48859999999999815, 0.3224000000000018, 0.16610000000000014, 0.322499999999998, 0.48850000000000193, 0.48859999999999815, 0.3224000000000018, 0.16610000000000014, 0.32239999999999824, 0.4886000000000017, 0.4884999999999984, 0.3224000000000018, 0.1661999999999999, 0.32239999999999824, 0.48850000000000193, 0.48859999999999815, 0.3224000000000018, 0.16610000000000014, 0.32250000000000156, 0.4884999999999948, 0.48860000000000525, 0.3223999999999947, 0.16610000000000014, 0.3224000000000018, 0.48859999999999815, 0.48850000000000193, 0.3224000000000018, 0.16619999999999635, 0.3224000000000018, 0.48850000000000193, 0.48859999999999815, 0.3224000000000018, 0.16610000000000014, 0.322499999999998, 0.48850000000000193, 0.48859999999999815, 0.3224000000000018, 0.16610000000000014, 0.3224000000000018, 0.48859999999999815, 0.48850000000000193, 0.3223999999999947, 0.16620000000000346, 0.3224000000000018, 0.4884999999999948, 0.48860000000000525, 0.3223999999999947, 0.16610000000000014, 0.3224000000000018, 0.48859999999999815, 0.48850000000000193, 0.322499999999998, 0.16610000000000014, 0.3224000000000018, 0.48859999999999815, 0.48850000000000193, 0.3224000000000018, 0.16619999999999635, 0.3224000000000018, 0.48850000000000193, 0.48859999999999815, 0.3224000000000018, 0.16610000000000014, 0.3223999999999947, 0.48860000000000525, 0.4884999999999948, 0.3225000000000051, 0.16610000000000014, 0.3223999999999947, 0.48860000000000525, 0.4884999999999948, 0.3224000000000018, 0.16620000000000346, 0.3223999999999947, 0.48850000000000193, 0.48859999999999815, 0.3224000000000018, 0.16610000000000014, 0.3224000000000018, 0.48859999999999815, 0.48850000000000193, 0.322499999999998, 0.16610000000000014, 0.3224000000000018, 0.48859999999999815, 0.48850000000000193, 0.3224000000000018, 0.16619999999999635, 0.3224000000000018, 0.48850000000000193, 0.48859999999999815, 0.3224000000000018, 0.16610000000000014, 0.3223999999999947, 0.48860000000000525, 0.4884999999999948, 0.3224000000000018, 0.16620000000000346, 0.3223999999999947, 0.48850000000000193, 0.48859999999999815, 0.3224000000000018, 0.16610000000000014, 0.322499999999998, 0.48850000000000193, 0.48859999999999815, 0.3224000000000018, 0.16610000000000724, 0.3223999999999876, 0.48860000000000525, 0.48850000000000193, 0.3224000000000018, 0.16620000000000346, 0.3223999999999876, 0.48850000000000193, 0.48860000000000525, 0.3224000000000018, 0.16610000000000014, 0.3224999999999909, 0.48850000000000193, 0.48860000000000525, 0.3224000000000018, 0.16610000000000014, 0.3224000000000018, 0.48859999999999104, 0.48850000000000193, 0.3224000000000018, 0.16620000000000346, 0.3224000000000018, 0.48850000000000193, 0.48859999999999104, 0.3224000000000018, 0.16610000000000014, 0.3225000000000051, 0.48850000000000193, 0.48859999999999104, 0.3224000000000018, 0.16610000000000014, 0.3224000000000018, 0.48860000000000525, 0.4884999999999877, 0.3224000000000018, 0.16620000000000346, 0.3224000000000018, 0.48850000000000193, 0.48859999999999104, 0.3224000000000018, 0.16610000000000014, 0.3224000000000018, 0.48860000000000525, 0.48850000000000193, 0.3224999999999909, 0.16610000000000014, 0.3224000000000018, 0.48860000000000525, 0.48850000000000193, 0.3223999999999876, 0.16620000000000346, 0.3224000000000018, 0.48850000000000193, 0.48860000000000525, 0.3223999999999876, 0.16610000000000014, 0.3224000000000018, 0.48860000000000525, 0.48850000000000193, 0.3224999999999909, 0.16610000000000014, 0.3224000000000018, 0.48860000000000525, 0.48850000000000193, 0.3224000000000018, 0.16619999999998925, 0.3224000000000018, 0.48850000000000193, 0.48860000000000525, 0.3224000000000018, 0.16610000000000014, 0.3224000000000018, 0.48859999999999104, 0.48850000000000193, 0.3254000000000019, 0.16320000000000334, 0.3254000000000019, 0.4884999999999877, 0.48860000000000525, 0.33429999999999893, 0.154200000000003, 0.33440000000000225, 0.48850000000000193, 0.48859999999999104, 0.33429999999999893, 0.154200000000003, 0.33440000000000225, 0.48850000000000193, 0.48859999999999104, 0.33430000000001314, 0.1541999999999888, 0.33440000000000225, 0.48850000000000193, 0.48860000000000525, 0.33429999999999893, 0.154200000000003, 0.33439999999998804, 0.48850000000000193, 0.48860000000000525, 0.33429999999999893, 0.154200000000003, 0.3340999999999923, 0.4890000000000043, 0.48799999999999955, 0.33499999999999375, 0.15400000000001057, 0.333999999999989, 0.4890000000000043, 0.48799999999999955, 0.33500000000000796, 0.15399999999999636, 0.3340000000000032, 0.4889999999999901, 0.48799999999999955, 0.33500000000000796, 0.15399999999999636, 0.3340000000000032, 0.4890000000000043, 0.48799999999999955, 0.33499999999999375, 0.15399999999999636, 0.3340000000000032, 0.4890000000000043, 0.48799999999999955, 0.33499999999999375, 0.15399999999999636, 0.3340000000000032, 0.4890000000000043, 0.48799999999999955, 0.33499999999999375, 0.15400000000001057, 0.333999999999989, 0.4890000000000043, 0.48799999999999955, 0.33500000000000796, 0.15399999999999636, 0.3340000000000032, 0.4889999999999901, 0.48799999999999955, 0.33500000000000796, 0.15399999999999636, 0.3340000000000032, 0.4890000000000043, 0.48799999999999955, 0.33499999999999375, 0.15399999999999636, 0.3340000000000032, 0.4890000000000043, 0.48799999999999955, 0.33499999999999375, 0.15399999999999636, 0.3340000000000032, 0.4890000000000043, 0.48799999999999955, 0.33499999999999375, 0.15400000000001057, 0.333999999999989, 0.4890000000000043, 0.48799999999999955, 0.33500000000000796, 0.15399999999999636, 0.3340000000000032, 0.4889999999999901, 0.48799999999999955, 0.33500000000000796, 0.15399999999999636, 0.3340000000000032, 0.4890000000000043, 0.48799999999999955, 0.33499999999999375, 0.15399999999999636, 0.3340000000000032, 0.4890000000000043, 0.48799999999999955, 0.33499999999999375, 0.15399999999999636, 0.3340000000000032, 0.4890000000000043, 0.48799999999999955, 0.33500000000000796, 0.15399999999999636, 0.3340000000000032, 0.4890000000000043, 0.48799999999999955, 0.33499999999997954, 0.15399999999999636, 0.3340000000000032, 0.4890000000000043, 0.48799999999999955, 0.33500000000000796, 0.15399999999999636, 0.3340000000000032, 0.4890000000000043, 0.48799999999999955, 0.33500000000000796, 0.15399999999999636, 0.3340000000000032, 0.4889999999999759, 0.48799999999999955, 0.33500000000000796, 0.15399999999999636, 0.3340000000000032, 0.4890000000000043, 0.48799999999999955, 0.33500000000000796, 0.15399999999999636, 0.3340000000000032, 0.4890000000000043, 0.48799999999999955, 0.33499999999997954, 0.15399999999999636, 0.3340000000000032, 0.4890000000000043, 0.48799999999999955, 0.33500000000000796, 0.15399999999999636, 0.3340000000000032, 0.4890000000000043, 0.48799999999999955, 0.33500000000000796, 0.15399999999999636, 0.3340000000000032, 0.4889999999999759, 0.48799999999999955, 0.33500000000000796, 0.15399999999999636, 0.3340000000000032, 0.4890000000000043, 0.48799999999999955, 0.33500000000000796, 0.15399999999999636, 0.3340000000000032, 0.4890000000000043, 0.48799999999999955, 0.33499999999997954, 0.15399999999999636, 0.3340000000000032, 0.4890000000000043, 0.48799999999999955, 0.33500000000000796, 0.15399999999999636, 0.3340000000000032, 0.4890000000000043, 0.48799999999999955, 0.33500000000000796, 0.15399999999999636, 0.3340000000000032, 0.4889999999999759, 0.48799999999999955, 0.33500000000000796, 0.15399999999999636, 0.3340000000000032, 0.4890000000000043, 0.48799999999999955, 0.33500000000000796, 0.15399999999999636, 0.3340000000000032, 0.4890000000000043, 0.48799999999999955, 0.33499999999997954, 0.15399999999999636, 0.3340000000000032, 0.4890000000000043, 0.48799999999999955, 0.33500000000000796, 0.15399999999999636, 0.3340000000000032, 0.4890000000000043, 0.48799999999999955, 0.33500000000000796, 0.15399999999999636, 0.3340000000000032, 0.4889999999999759, 0.48799999999999955, 0.33500000000000796, 0.15399999999999636, 0.3340000000000032, 0.4890000000000043, 0.48799999999999955, 0.33500000000000796, 0.15399999999999636, 0.3340000000000032, 0.4890000000000043, 0.48799999999999955, 0.33499999999997954, 0.15399999999999636, 0.3340000000000032, 0.4890000000000043, 0.48799999999999955, 0.33500000000000796, 0.15399999999999636, 0.32200000000000273, 0.7189999999999941, 0.22700000000000387, 0.32200000000000273, 0.1699999999999875, 0.3190000000000168, 0.48799999999999955, 0.4890000000000043, 0.32200000000000273, 0.16599999999999682, 0.3229999999999791, 0.48799999999999955, 0.4890000000000043, 0.32200000000000273, 0.1670000000000016, 0.32200000000000273, 0.48799999999999955, 0.4890000000000043, 0.32200000000000273, 0.1670000000000016, 0.32200000000000273, 0.48799999999999955, 0.4889999999999759, 0.32200000000000273, 0.1670000000000016, 0.32200000000000273, 0.4890000000000043, 0.48799999999999955, 0.32200000000000273, 0.1670000000000016, 0.32200000000000273, 0.4890000000000043, 0.48799999999999955, 0.32200000000000273, 0.1670000000000016, 0.3219999999999743, 0.4890000000000043, 0.48799999999999955, 0.3230000000000075, 0.16599999999999682, 0.32200000000000273, 0.4890000000000043, 0.48799999999999955, 0.3230000000000075, 0.16599999999999682, 0.32200000000000273, 0.4890000000000043, 0.48799999999999955, 0.3229999999999791, 0.16599999999999682, 0.32200000000000273, 0.4890000000000043, 0.48799999999999955, 0.3230000000000075, 0.16599999999999682, 0.32200000000000273, 0.4890000000000043, 0.48799999999999955, 0.3230000000000075, 0.16599999999999682, 0.32200000000000273, 0.4889999999999759, 0.48799999999999955, 0.3230000000000075, 0.16599999999999682, 0.32200000000000273, 0.4890000000000043, 0.48799999999999955, 0.3230000000000075, 0.16599999999999682, 0.32200000000000273, 0.4890000000000043, 0.4889999999999759, 0.32200000000000273, 0.16599999999999682, 0.3230000000000075, 0.48799999999999955, 0.4890000000000043, 0.32200000000000273, 0.16599999999999682, 0.3230000000000075, 0.48799999999999955, 0.4890000000000043, 0.32200000000000273, 0.16599999999999682, 0.3229999999999791, 0.48799999999999955, 0.4890000000000043, 0.32200000000000273, 0.16599999999999682, 0.3230000000000075, 0.48799999999999955, 0.4890000000000043, 0.32200000000000273, 0.16599999999999682, 0.3230000000000075, 0.48799999999999955, 0.4890000000000043, 0.3219999999999743, 0.16600000000002524, 0.3229999999999791, 0.48799999999999955, 0.4890000000000043, 0.32200000000000273, 0.16599999999999682, 0.3230000000000075, 0.48799999999999955, 0.4890000000000043, 0.32200000000000273, 0.1670000000000016, 0.32200000000000273, 0.4889999999999759, 0.48799999999999955, 0.32200000000000273, 0.1670000000000016, 0.32200000000000273, 0.4890000000000043, 0.48799999999999955, 0.3230000000000075, 0.16599999999999682, 0.32200000000000273, 0.4890000000000043, 0.48799999999999955, 0.3229999999999791, 0.16599999999999682, 0.32200000000000273, 0.4890000000000043, 0.48799999999999955, 0.3230000000000075, 0.16599999999999682, 0.32200000000000273, 0.4890000000000043, 0.48799999999999955, 0.3230000000000075, 0.16599999999999682, 0.32200000000000273, 0.4889999999999759, 0.48799999999999955, 0.3230000000000075, 0.16599999999999682, 0.32200000000000273, 0.4890000000000043, 0.48799999999999955, 0.3230000000000075, 0.16599999999999682, 0.32200000000000273, 0.4890000000000043, 0.4890000000000043, 0.3219999999999743, 0.16600000000002524, 0.3219999999999743, 0.4890000000000043, 0.4890000000000043, 0.32200000000000273, 0.16599999999999682, 0.3230000000000075, 0.48799999999999955, 0.4890000000000043, 0.32200000000000273, 0.16599999999999682, 0.3230000000000075, 0.48799999999999955, 0.4889999999999759, 0.32200000000000273, 0.16599999999999682, 0.3230000000000075, 0.48799999999999955, 0.4890000000000043, 0.32200000000000273, 0.16599999999999682, 0.3230000000000075, 0.48799999999999955, 0.4890000000000043, 0.32200000000000273, 0.16599999999999682, 0.3229999999999791, 0.48799999999999955, 0.4890000000000043, 0.32200000000000273, 0.16599999999999682, 0.3230000000000075, 0.48799999999999955, 0.4890000000000043, 0.32200000000000273, 0.1670000000000016, 0.32200000000000273, 0.48799999999999955, 0.4889999999999759, 0.32200000000000273, 0.1670000000000016, 0.32200000000000273, 0.4890000000000043, 0.48799999999999955, 0.3230000000000075, 0.16599999999999682, 0.32200000000000273, 0.4890000000000043, 0.48799999999999955, 0.3229999999999791, 0.16600000000002524, 0.3219999999999743, 0.4890000000000043, 0.48799999999999955, 0.3230000000000075, 0.16599999999999682, 0.32200000000000273, 0.4890000000000043, 0.48799999999999955, 0.3230000000000075, 0.16599999999999682, 0.32200000000000273, 0.4890000000000043, 0.48799999999999955, 0.3229999999999791, 0.16599999999999682, 0.32200000000000273, 0.4890000000000043, 0.48799999999999955, 0.3230000000000075, 0.16599999999999682, 0.32200000000000273, 0.4890000000000043, 0.48799999999999955, 0.3230000000000075, 0.16599999999999682, 0.32200000000000273, 0.4889999999999759, 0.4890000000000043, 0.32200000000000273, 0.16599999999999682, 0.3230000000000075, 0.48799999999999955, 0.4890000000000043, 0.32200000000000273, 0.16599999999999682, 0.3230000000000075, 0.48799999999999955, 0.4889999999999759, 0.32200000000000273, 0.16599999999999682, 0.3230000000000075, 0.48799999999999955, 0.4890000000000043, 0.32200000000000273, 0.16599999999999682, 0.3230000000000075, 0.48799999999999955, 0.4889999999999759, 0.32200000000000273, 0.16599999999999682, 0.3230000000000359, 0.48799999999999955, 0.4889999999999759, 0.32200000000000273, 0.16599999999999682, 0.3230000000000359, 0.48799999999999955, 0.4889999999999759, 0.32200000000000273, 0.16599999999999682, 0.3229999999999791, 0.48799999999999955, 0.48900000000003274, 0.32200000000000273, 0.16699999999997317, 0.32200000000000273, 0.48900000000003274, 0.48799999999999955, 0.32200000000000273, 0.16699999999997317, 0.32200000000000273, 0.4889999999999759, 0.48799999999999955, 0.3230000000000359, 0.16599999999999682, 0.32200000000000273, 0.4889999999999759, 0.48799999999999955, 0.3230000000000359, 0.16599999999999682, 0.32200000000000273, 0.4889999999999759, 0.48799999999999955, 0.3229999999999791, 0.16599999999999682, 0.32200000000000273, 0.48900000000003274, 0.48799999999999955, 0.3229999999999791, 0.16599999999999682, 0.32200000000000273, 0.48900000000003274, 0.48799999999999955, 0.3229999999999791, 0.16599999999999682, 0.32200000000000273, 0.4889999999999759, 0.48799999999999955, 0.3230000000000359, 0.16599999999999682, 0.32200000000000273, 0.4889999999999759, 0.48900000000003274, 0.32200000000000273, 0.16599999999999682, 0.32200000000000273, 0.4889999999999759, 0.4889999999999759, 0.32200000000000273, 0.16599999999999682, 0.3230000000000359, 0.48799999999999955, 0.4889999999999759, 0.32200000000000273, 0.16599999999999682, 0.3230000000000359, 0.48799999999999955, 0.4889999999999759, 0.32200000000000273, 0.16599999999999682, 0.3229999999999791, 0.48799999999999955, 0.48900000000003274, 0.32200000000000273, 0.16599999999999682, 0.3229999999999791, 0.48799999999999955, 0.48900000000003274, 0.32200000000000273, 0.16599999999999682, 0.3229999999999791, 0.48799999999999955, 0.48900000000003274, 0.3219999999999459, 0.16600000000005366, 0.3229999999999791, 0.48799999999999955, 0.4889999999999759, 0.32200000000000273, 0.16700000000003, 0.32200000000000273, 0.48799999999999955, 0.4889999999999759, 0.32200000000000273, 0.16700000000003, 0.3219999999999459, 0.48900000000003274, 0.48799999999999955, 0.3229999999999791, 0.16599999999999682, 0.32200000000000273, 0.48900000000003274, 0.48799999999999955, 0.3229999999999791, 0.16599999999999682, 0.32200000000000273, 0.48900000000003274, 0.48799999999999955, 0.3229999999999791, 0.16599999999999682, 0.32200000000000273, 0.4889999999999759, 0.48799999999999955, 0.3230000000000359, 0.16599999999999682, 0.32200000000000273, 0.4889999999999759, 0.48799999999999955, 0.3230000000000359, 0.16599999999999682, 0.32200000000000273, 0.4889999999999759, 0.48799999999999955, 0.3229999999999791, 0.16599999999999682, 0.32200000000000273, 0.48900000000003274, 0.4889999999999759, 0.32200000000000273, 0.16599999999999682, 0.32200000000000273, 0.48900000000003274, 0.4889999999999759, 0.32200000000000273, 0.16599999999999682, 0.3229999999999791, 0.48799999999999955, 0.48900000000003274, 0.32200000000000273, 0.16599999999999682, 0.3229999999999791, 0.48799999999999955, 0.48900000000003274, 0.32200000000000273, 0.16599999999999682, 0.3229999999999791, 0.48799999999999955, 0.4889999999999759, 0.32200000000000273, 0.16599999999999682, 0.3230000000000359, 0.48799999999999955, 0.4889999999999759, 0.32200000000000273, 0.16599999999999682, 0.3230000000000359, 0.48799999999999955, 0.4889999999999759, 0.32200000000000273, 0.16599999999999682, 0.3229999999999791, 0.48799999999999955, 0.48900000000003274, 0.32200000000000273, 0.16699999999997317, 0.32200000000000273, 0.48799999999999955, 0.48900000000003274, 0.32200000000000273, 0.16699999999997317, 0.32200000000000273, 0.4889999999999759, 0.48799999999999955, 0.3230000000000359, 0.16599999999999682, 0.32200000000000273, 0.4889999999999759, 0.48799999999999955, 0.3230000000000359, 0.16599999999999682, 0.32200000000000273, 0.4889999999999759, 0.48799999999999955, 0.3229999999999791, 0.16600000000005366, 0.3219999999999459, 0.48900000000003274, 0.48799999999999955, 0.3229999999999791, 0.16599999999999682, 0.32200000000000273, 0.48900000000003274, 0.48799999999999955, 0.3229999999999791, 0.16599999999999682, 0.32200000000000273, 0.4889999999999759, 0.4880000000000564, 0.3229999999999791, 0.16599999999999682, 0.32200000000000273, 0.4889999999999759, 0.48799999999999955, 0.3230000000000359, 0.16599999999999682, 0.32200000000000273, 0.4889999999999759, 0.48900000000003274, 0.3219999999999459, 0.16600000000005366, 0.3229999999999791, 0.48799999999999955, 0.4889999999999759, 0.32200000000000273, 0.16599999999999682, 0.3230000000000359, 0.48799999999999955, 0.4889999999999759, 0.32200000000000273, 0.16599999999999682, 0.3230000000000359, 0.48799999999999955, 0.4889999999999759, 0.32200000000000273, 0.16599999999999682, 0.3229999999999791, 0.48799999999999955, 0.48900000000003274, 0.32200000000000273, 0.16599999999999682, 0.3229999999999791, 0.48799999999999955, 0.48900000000003274, 0.32200000000000273, 0.16599999999999682, 0.3229999999999791, 0.7189999999999941, 0.214999999999975, 0.32200000000000273, 0.18200000000001637, 0.3059999999999832, 0.48900000000003274, 0.4889999999999759, 0.32200000000000273, 0.16599999999999682, 0.32200000000000273, 0.48900000000003274, 0.4889999999999759, 0.32200000000000273, 0.16599999999999682, 0.32200000000000273, 0.4889999999999759, 0.48900000000003274, 0.32200000000000273, 0.16599999999999682, 0.3229999999999791, 0.48799999999999955, 0.48900000000003274, 0.32200000000000273, 0.16599999999999682, 0.3229999999999791, 0.48799999999999955, 0.48900000000003274, 0.3219999999999459, 0.16600000000005366, 0.3229999999999791, 0.48799999999999955, 0.4889999999999759, 0.32200000000000273, 0.16599999999999682, 0.3230000000000359, 0.48799999999999955, 0.4889999999999759, 0.32200000000000273, 0.16599999999999682, 0.3230000000000359, 0.48799999999999955, 0.4889999999999759, 0.32200000000000273, 0.16599999999999682, 0.3229999999999791, 0.48799999999999955, 0.48900000000003274, 0.32200000000000273, 0.16599999999999682, 0.3229999999999791, 0.48799999999999955, 0.48900000000003274, 0.32200000000000273, 0.16599999999999682, 0.3229999999999791, 0.48799999999999955, 0.4889999999999759, 0.32200000000000273, 0.16599999999999682, 0.3230000000000359, 0.48799999999999955, 0.4889999999999759, 0.32200000000000273, 0.16700000000003, 0.32200000000000273, 0.4889999999999759, 0.48799999999999955, 0.32200000000000273, 0.16699999999997317, 0.32200000000000273, 0.48900000000003274, 0.48799999999999955, 0.3229999999999791, 0.16599999999999682, 0.32200000000000273, 0.48900000000003274, 0.48799999999999955, 0.3229999999999791, 0.16599999999999682, 0.32200000000000273, 0.4889999999999759, 0.48799999999999955, 0.3230000000000359, 0.16599999999999682, 0.32200000000000273, 0.4889999999999759, 0.48799999999999955, 0.3230000000000359, 0.16599999999999682, 0.32200000000000273, 0.4889999999999759, 0.48799999999999955, 0.3229999999999791, 0.16599999999999682, 0.32200000000000273, 0.48900000000003274, 0.48799999999999955, 0.3229999999999791, 0.16599999999999682, 0.32200000000000273, 0.48900000000003274, 0.4889999999999759, 0.32200000000000273, 0.16599999999999682, 0.32200000000000273, 0.4889999999999759, 0.48900000000003274, 0.32200000000000273, 0.16599999999999682, 0.3229999999999791, 0.48799999999999955, 0.48900000000003274, 0.32200000000000273, 0.16599999999999682, 0.3229999999999791, 0.48799999999999955, 0.4889999999999759, 0.32200000000000273, 0.16600000000005366, 0.3229999999999791, 0.48799999999999955, 0.4889999999999759, 0.32200000000000273, 0.16599999999999682, 0.3230000000000359, 0.48799999999999955, 0.4889999999999759, 0.32200000000000273, 0.16599999999999682, 0.3229999999999791, 0.48799999999999955, 0.48900000000003274, 0.32200000000000273, 0.16599999999999682, 0.3229999999999791, 0.48799999999999955, 0.48900000000003274, 0.32200000000000273, 0.16699999999997317, 0.32200000000000273, 0.48799999999999955, 0.48900000000003274, 0.3219999999999459, 0.16700000000003, 0.32200000000000273, 0.4889999999999759, 0.48799999999999955, 0.3230000000000359, 0.16599999999999682, 0.32200000000000273, 0.4889999999999759, 0.48799999999999955, 0.3230000000000359, 0.16599999999999682, 0.32200000000000273, 0.4889999999999759, 0.48799999999999955, 0.3229999999999791, 0.16599999999999682, 0.32200000000000273, 0.48900000000003274, 0.48799999999999955, 0.3229999999999791, 0.16599999999999682, 0.32200000000000273, 0.48900000000003274, 0.48799999999999955, 0.3229999999999791, 0.16599999999999682, 0.32200000000000273, 0.4889999999999759, 0.48799999999999955, 0.3230000000000359, 0.16599999999999682, 0.32200000000000273, 0.4889999999999759, 0.48799999999999955, 0.3230000000000359, 0.16599999999999682, 0.32200000000000273, 0.4889999999999759, 0.4889999999999759, 0.32200000000000273, 0.16599999999999682, 0.3230000000000359, 0.48799999999999955, 0.4889999999999759, 0.32200000000000273, 0.16599999999999682, 0.3230000000000359, 0.48799999999999955, 0.4889999999999759, 0.32200000000000273, 0.16599999999999682, 0.3229999999999791, 0.48799999999999955, 0.48900000000003274, 0.32200000000000273, 0.16599999999999682, 0.3229999999999791, 0.48799999999999955, 0.48900000000003274, 0.32200000000000273, 0.16599999999999682, 0.3229999999999791, 0.48799999999999955, 0.4889999999999759, 0.32200000000000273, 0.16599999999999682, 0.3230000000000359, 0.48799999999999955, 0.4889999999999759, 0.32200000000000273, 0.16599999999999682, 0.3230000000000359, 0.48799999999999955, 0.4889999999999759, 0.32200000000000273, 0.16699999999997317, 0.32200000000000273, 0.48900000000003274, 0.48799999999999955, 0.32200000000000273, 0.16699999999997317, 0.32200000000000273, 0.48900000000003274, 0.48799999999999955, 0.3229999999999791, 0.16599999999999682, 0.32200000000000273, 0.4889999999999759, 0.48799999999999955, 0.3230000000000359, 0.16599999999999682, 0.32200000000000273, 0.4889999999999759, 0.48799999999999955, 0.3230000000000359, 0.16599999999999682, 0.32200000000000273, 0.4889999999999759, 0.48799999999999955, 0.3229999999999791, 0.16600000000005366, 0.3219999999999459, 0.48900000000003274, 0.48799999999999955, 0.3229999999999791, 0.16599999999999682, 0.32200000000000273, 0.48900000000003274, 0.48799999999999955, 0.3229999999999791, 0.16599999999999682, 0.32200000000000273, 0.48900000000003274, 0.4889999999999759, 0.32200000000000273, 0.16599999999999682, 0.32200000000000273, 0.4889999999999759, 0.48900000000003274, 0.32200000000000273, 0.16599999999999682, 0.3229999999999791, 0.48799999999999955, 0.48900000000003274, 0.32200000000000273, 0.16599999999999682, 0.3229999999999791, 0.48799999999999955, 0.4889999999999759, 0.32200000000000273, 0.16599999999999682, 0.3230000000000359, 0.48799999999999955, 0.4889999999999759, 0.32200000000000273, 0.16599999999999682, 0.3230000000000359, 0.48799999999999955, 0.4889999999999759, 0.32200000000000273, 0.16599999999999682, 0.3229999999999791, 0.48799999999999955, 0.48900000000003274, 0.32200000000000273, 0.16599999999999682, 0.3229999999999791, 0.48799999999999955, 0.48900000000003274, 0.32200000000000273, 0.16699999999997317, 0.32200000000000273, 0.48799999999999955, 0.4889999999999759, 0.32200000000000273, 0.16700000000003, 0.32200000000000273, 0.4889999999999759, 0.48799999999999955, 0.3230000000000359, 0.16599999999999682, 0.32200000000000273, 0.4889999999999759, 0.48799999999999955, 0.3229999999999791, 0.16599999999999682, 0.32200000000000273, 0.48900000000003274, 0.48799999999999955, 0.3229999999999791, 0.16599999999999682, 0.32200000000000273, 0.48900000000003274, 0.48799999999999955, 0.3229999999999791, 0.16599999999999682, 0.32200000000000273, 0.4889999999999759, 0.48799999999999955, 0.3230000000000359, 0.16599999999999682, 0.32200000000000273, 0.4889999999999759, 0.48799999999999955, 0.3230000000000359, 0.16599999999999682, 0.32200000000000273, 0.4889999999999759, 0.48799999999999955, 0.3229999999999791, 0.16599999999999682, 0.32200000000000273, 0.48900000000003274, 0.4889999999999759, 0.32200000000000273, 0.16599999999999682, 0.0, 0.7189999999999941, 0.5370000000000346, 0.0, 0.18200000000001637, 0.3069999999999595, 0.48799999999999955, 0.48900000000003274, 0.0, 0.35899999999998045, 0.1290000000000191, 0.23099999999999454, 0.35899999999998045, 0.36000000000001364, 0.32200000000000273, 0.038000000000010914, 0.32200000000000273, 0.3599999999999568, 0.3590000000000373, 0.3599999999999568, 0.32200000000000273, 0.03700000000003456, 0.3229999999999791, 0.35899999999998045, 0.36000000000001364, 0.3590000000000373, 0.3229999999999791, 0.03699999999997772, 0.32200000000000273, 0.36000000000001364, 0.35899999999998045, 0.36000000000001364, 0.32200000000000273, 0.03700000000003456, 0.3229999999999791, 0.35899999999998045, 0.36000000000001364, 0.35899999999998045, 0.3230000000000359, 0.03699999999997772, 0.32200000000000273, 0.36000000000001364, 0.35899999999998045, 0.36000000000001364, 0.32200000000000273, 0.038000000000010914, 0.32200000000000273, 0.35899999999998045, 0.36000000000001364, 0.3599999999999568, 0.32200000000000273, 0.03700000000003456, 0.3229999999999791, 0.3590000000000373, 0.3599999999999568, 0.3590000000000373, 0.3229999999999791, 0.03699999999997772, 0.32200000000000273, 0.36000000000001364, 0.35899999999998045, 0.36000000000001364, 0.32200000000000273, 0.03700000000003456, 0.3229999999999791, 0.35899999999998045, 0.36000000000001364, 0.35899999999998045, 0.3230000000000359, 0.03699999999997772, 0.32200000000000273, 0.36000000000001364, 0.35899999999998045, 0.36000000000001364, 0.32200000000000273, 0.038000000000010914, 0.32200000000000273, 0.3599999999999568, 0.3590000000000373, 0.36000000000001364, 0.3219999999999459, 0.03700000000003456, 0.3229999999999791, 0.3590000000000373, 0.3599999999999568, 0.3590000000000373, 0.3229999999999791, 0.03699999999997772, 0.32200000000000273, 0.36000000000001364, 0.3590000000000373, 0.3599999999999568, 0.32200000000000273, 0.03700000000003456, 0.3229999999999791, 0.35899999999998045, 0.36000000000001364, 0.36000000000001364, 0.32200000000000273, 0.03699999999997772, 0.32200000000000273, 0.36000000000001364, 0.36000000000001364, 0.35899999999998045, 0.3229999999999791, 0.03700000000003456, 0.32200000000000273, 0.3599999999999568, 0.3590000000000373, 0.36000000000001364, 0.32200000000000273, 0.03699999999997772, 0.3229999999999791, 0.3590000000000373, 0.3599999999999568, 0.3590000000000373, 0.3229999999999791, 0.03700000000003456, 0.3219999999999459, 0.36000000000001364, 0.3590000000000373, 0.3599999999999568, 0.32200000000000273, 0.038000000000010914, 0.32200000000000273, 0.36000000000001364, 0.35899999999998045, 0.36000000000001364, 0.32200000000000273, 0.03699999999997772, 0.3230000000000359, 0.35899999999998045, 0.36000000000001364, 0.35899999999998045, 0.3229999999999791, 0.03700000000003456, 0.32200000000000273, 0.36000000000001364, 0.35899999999998045, 0.36000000000001364, 0.32200000000000273, 0.03699999999997772, 0.3229999999999791, 0.3590000000000373, 0.3599999999999568, 0.3590000000000373, 0.3229999999999791, 0.03700000000003456, 0.32200000000000273, 0.3599999999999568, 0.36000000000001364, 0.35899999999998045, 0.32200000000000273, 0.038000000000010914, 0.32200000000000273, 0.36000000000001364, 0.35899999999998045, 0.36000000000001364, 0.32200000000000273, 0.03699999999997772, 0.3230000000000359, 0.35899999999998045, 0.36000000000001364, 0.35899999999998045, 0.3229999999999791, 0.03700000000003456, 0.3219999999999459, 0.36000000000001364, 0.3590000000000373, 0.36000000000001364, 0.32200000000000273, 0.03700000000003456, 0.3229999999999791, 0.3589999999999236, 0.36000000000001364, 0.36000000000001364, 0.32200000000000273, 0.03700000000003456, 0.3229999999999791, 0.3590000000000373, 0.36000000000001364, 0.3589999999999236, 0.3229999999999791, 0.03700000000003456, 0.32200000000000273, 0.36000000000001364, 0.3590000000000373, 0.35999999999989996, 0.32200000000000273, 0.03700000000003456, 0.3229999999999791, 0.3590000000000373, 0.36000000000001364, 0.3590000000000373, 0.3229999999999791, 0.036999999999920874, 0.32200000000000273, 0.36000000000001364, 0.3590000000000373, 0.36000000000001364, 0.32200000000000273, 0.038000000000010914, 0.32200000000000273, 0.36000000000001364, 0.3589999999999236, 0.36000000000001364, 0.32200000000000273, 0.03700000000003456, 0.3229999999999791, 0.3590000000000373, 0.36000000000001364, 0.3589999999999236, 0.3229999999999791, 0.03700000000003456, 0.32200000000000273, 0.36000000000001364, 0.3590000000000373, 0.36000000000001364, 0.32199999999988904, 0.03700000000003456, 0.3229999999999791, 0.3590000000000373, 0.36000000000001364, 0.3590000000000373, 0.3229999999999791, 0.036999999999920874, 0.32200000000000273, 0.36000000000001364, 0.36000000000001364, 0.3590000000000373, 0.3229999999999791, 0.03700000000003456, 0.32200000000000273, 0.36000000000001364, 0.3589999999999236, 0.36000000000001364, 0.32200000000000273, 0.03700000000003456, 0.3229999999999791, 0.3590000000000373, 0.36000000000001364, 0.3589999999999236, 0.3229999999999791, 0.03700000000003456, 0.32200000000000273, 0.36000000000001364, 0.3590000000000373, 0.36000000000001364, 0.32200000000000273, 0.03799999999989723, 0.32200000000000273, 0.3590000000000373, 0.36000000000001364, 0.36000000000001364, 0.32200000000000273, 0.03700000000003456, 0.3229999999999791, 0.3589999999999236, 0.36000000000001364, 0.3590000000000373, 0.3229999999999791, 0.03700000000003456, 0.32200000000000273, 0.36000000000001364, 0.3589999999999236, 0.36000000000001364, 0.32200000000000273, 0.03700000000003456, 0.3229999999999791, 0.3590000000000373, 0.36000000000001364, 0.3589999999999236, 0.3229999999999791, 0.03700000000003456, 0.32200000000000273, 0.36000000000001364, 0.36000000000001364, 0.3590000000000373, 0.32200000000000273, 0.03799999999989723, 0.32200000000000273, 0.36000000000001364, 0.3590000000000373, 0.36000000000001364, 0.32200000000000273, 0.03700000000003456, 0.3229999999999791, 0.3589999999999236, 0.36000000000001364, 0.3590000000000373, 0.3229999999999791, 0.03700000000003456, 0.32200000000000273, 0.36000000000001364, 0.3589999999999236, 0.36000000000001364, 0.32200000000000273, 0.03700000000003456, 0.3229999999999791, 0.3590000000000373, 0.36000000000001364, 0.36000000000001364, 0.32199999999988904, 0.03700000000003456, 0.32200000000000273, 0.36000000000001364, 0.36000000000001364, 0.3590000000000373, 0.3229999999999791, 0.036999999999920874, 0.32200000000000273, 0.36000000000001364, 0.3590000000000373, 0.36000000000001364, 0.32200000000000273, 0.03700000000003456, 0.3229999999999791, 0.3589999999999236, 0.36000000000001364, 0.3590000000000373, 0.3229999999999791, 0.03700000000003456, 0.32200000000000273, 0.36000000000001364, 0.3589999999999236, 0.36000000000001364, 0.32200000000000273, 0.038000000000010914, 0.32200000000000273, 0.36000000000001364, 0.3590000000000373, 0.36000000000001364, 0.32200000000000273, 0.036999999999920874, 0.3229999999999791, 0.3590000000000373, 0.36000000000001364, 0.3590000000000373, 0.3229999999999791, 0.036999999999920874, 0.32200000000000273, 0.36000000000001364, 0.3590000000000373, 0.36000000000001364, 0.32200000000000273, 0.03700000000003456, 0.3229999999999791, 0.3589999999999236, 0.36000000000001364, 0.3590000000000373, 0.3229999999999791, 0.03700000000003456, 0.32200000000000273, 0.36000000000001364, 0.36000000000001364, 0.3589999999999236, 0.3229999999999791, 0.03700000000003456, 0.32200000000000273, 0.36000000000001364, 0.3590000000000373, 0.36000000000001364, 0.32200000000000273, 0.036999999999920874, 0.3229999999999791, 0.3590000000000373, 0.36000000000001364, 0.3590000000000373, 0.3229999999999791, 0.03700000000003456, 0.32199999999988904, 0.36000000000001364, 0.3590000000000373, 0.36000000000001364, 0.32200000000000273, 0.038000000000010914, 0.32200000000000273, 0.3589999999999236, 0.36000000000001364, 0.36000000000001364, 0.32200000000000273, 0.03700000000003456, 0.3229999999999791, 0.3590000000000373, 0.36000000000001364, 0.3589999999999236, 0.3229999999999791, 0.03700000000003456, 0.32200000000000273, 0.36000000000001364, 0.3590000000000373, 0.36000000000001364, 0.32200000000000273, 0.036999999999920874, 0.3229999999999791, 0.3590000000000373, 0.36000000000001364, 0.3590000000000373, 0.3229999999999791, 0.03700000000003456, 0.34999999999990905, 0.7190000000000509, 0.3160000000000309, 0.32200000000000273, 0.0809999999999036, 0.40800000000001546, 0.48900000000003274, 0.4880000000000564, 0.32200000000000273, 0.16699999999991633, 0.32200000000000273, 0.48900000000003274, 0.4879999999999427, 0.32200000000000273, 0.16700000000003, 0.32200000000000273, 0.48900000000003274, 0.4879999999999427, 0.32300000000009277, 0.16599999999993997, 0.32200000000000273, 0.48900000000003274, 0.4879999999999427, 0.3229999999999791, 0.16600000000005366, 0.32200000000000273, 0.48900000000003274, 0.4879999999999427, 0.3229999999999791, 0.16600000000005366, 0.32200000000000273, 0.48900000000003274, 0.4879999999999427, 0.3229999999999791, 0.16600000000005366, 0.32200000000000273, 0.48899999999991905, 0.4880000000000564, 0.3229999999999791, 0.16600000000005366, 0.32200000000000273, 0.48899999999991905, 0.4880000000000564, 0.3229999999999791, 0.16600000000005366, 0.32200000000000273, 0.48899999999991905, 0.4880000000000564, 0.3229999999999791, 0.16599999999993997, 0.32200000000000273, 0.48900000000003274, 0.4880000000000564, 0.3229999999999791, 0.16599999999993997, 0.32200000000000273, 0.48900000000003274, 0.4880000000000564, 0.3229999999999791, 0.16599999999993997, 0.32200000000000273, 0.48900000000003274, 0.48900000000003274, 0.32200000000000273, 0.16599999999993997, 0.3229999999999791, 0.4880000000000564, 0.48900000000003274, 0.32200000000000273, 0.16599999999993997, 0.3229999999999791, 0.4880000000000564, 0.48899999999991905, 0.32200000000000273, 0.16600000000005366, 0.3229999999999791, 0.4880000000000564, 0.48899999999991905, 0.32200000000000273, 0.16600000000005366, 0.3229999999999791, 0.4880000000000564, 0.48899999999991905, 0.32200000000000273, 0.16600000000005366, 0.3229999999999791, 0.4879999999999427, 0.48900000000003274, 0.32200000000000273, 0.16600000000005366, 0.3229999999999791, 0.4879999999999427, 0.48900000000003274, 0.32200000000000273, 0.16600000000005366, 0.3229999999999791, 0.4879999999999427, 0.48900000000003274, 0.32200000000000273, 0.16700000000003, 0.32200000000000273, 0.48899999999991905, 0.4880000000000564, 0.32200000000000273, 0.16700000000003, 0.32200000000000273, 0.48899999999991905, 0.4880000000000564, 0.3229999999999791, 0.16600000000005366, 0.32200000000000273, 0.48899999999991905, 0.4880000000000564, 0.3229999999999791, 0.16599999999993997, 0.32200000000000273, 0.48900000000003274, 0.4880000000000564, 0.3229999999999791, 0.16599999999993997, 0.32200000000000273, 0.48900000000003274, 0.4880000000000564, 0.3229999999999791, 0.16599999999993997, 0.32200000000000273, 0.48900000000003274, 0.4879999999999427, 0.32300000000009277, 0.16599999999993997, 0.32200000000000273, 0.48900000000003274, 0.4879999999999427, 0.32300000000009277, 0.16599999999993997, 0.32200000000000273, 0.48900000000003274, 0.48899999999991905, 0.32200000000000273, 0.16600000000005366, 0.32200000000000273, 0.48900000000003274, 0.48899999999991905, 0.32200000000000273, 0.16600000000005366, 0.3229999999999791, 0.4880000000000564, 0.48899999999991905, 0.32200000000000273, 0.16600000000005366, 0.3229999999999791, 0.4879999999999427, 0.48900000000003274, 0.32200000000000273, 0.16600000000005366, 0.3229999999999791, 0.4879999999999427, 0.48900000000003274, 0.32200000000000273, 0.16600000000005366, 0.3229999999999791, 0.4879999999999427, 0.48900000000003274, 0.32200000000000273, 0.16599999999993997, 0.32300000000009277, 0.4879999999999427, 0.48900000000003274, 0.32200000000000273, 0.16599999999993997, 0.32300000000009277, 0.4879999999999427, 0.48900000000003274, 0.32200000000000273, 0.16699999999991633, 0.32200000000000273, 0.4880000000000564, 0.48900000000003274, 0.32200000000000273, 0.16699999999991633, 0.32200000000000273, 0.48900000000003274, 0.4880000000000564, 0.3229999999999791, 0.16599999999993997, 0.32200000000000273, 0.48900000000003274, 0.4879999999999427, 0.32300000000009277, 0.16599999999993997, 0.32200000000000273, 0.48900000000003274, 0.4879999999999427, 0.32300000000009277, 0.16599999999993997, 0.32200000000000273, 0.48900000000003274, 0.4879999999999427, 0.3229999999999791, 0.16600000000005366, 0.32200000000000273, 0.48900000000003274, 0.4879999999999427, 0.3229999999999791, 0.16600000000005366, 0.32200000000000273, 0.48900000000003274, 0.4879999999999427, 0.3229999999999791, 0.16600000000005366, 0.32200000000000273, 0.48900000000003274, 0.4879999999999427, 0.3229999999999791, 0.16600000000005366, 0.32200000000000273, 0.48899999999991905, 0.48900000000003274, 0.32200000000000273, 0.16600000000005366, 0.3229999999999791, 0.4879999999999427, 0.48900000000003274, 0.32200000000000273, 0.16600000000005366, 0.3229999999999791, 0.4879999999999427, 0.48900000000003274, 0.32200000000000273, 0.16599999999993997, 0.32300000000009277, 0.4879999999999427, 0.48900000000003274, 0.32200000000000273, 0.16599999999993997, 0.32300000000009277, 0.4879999999999427, 0.48900000000003274, 0.32200000000000273, 0.16599999999993997, 0.3229999999999791, 0.4880000000000564, 0.48900000000003274, 0.32200000000000273, 0.16599999999993997, 0.3229999999999791, 0.4880000000000564, 0.48900000000003274, 0.32200000000000273, 0.16699999999991633, 0.32200000000000273, 0.4880000000000564, 0.48899999999991905, 0.32200000000000273, 0.16700000000003, 0.32200000000000273, 0.48900000000003274, 0.4879999999999427, 0.32200000000000273, 0.16700000000003, 0.32200000000000273, 0.48900000000003274, 0.4879999999999427, 0.3229999999999791, 0.16600000000005366, 0.32200000000000273, 0.48900000000003274, 0.4879999999999427, 0.3229999999999791, 0.16600000000005366, 0.32200000000000273, 0.48900000000003274, 0.4879999999999427, 0.3229999999999791, 0.16600000000005366, 0.32200000000000273, 0.48899999999991905, 0.4880000000000564, 0.3229999999999791, 0.16600000000005366, 0.32200000000000273, 0.48899999999991905, 0.4880000000000564, 0.3229999999999791, 0.16600000000005366, 0.32200000000000273, 0.48899999999991905, 0.4880000000000564, 0.3229999999999791, 0.16599999999993997, 0.32200000000000273, 0.48900000000003274, 0.48900000000003274, 0.32200000000000273, 0.16599999999993997, 0.32300000000009277, 0.4879999999999427, 0.48900000000003274, 0.32200000000000273, 0.16599999999993997, 0.3229999999999791, 0.4880000000000564, 0.48900000000003274, 0.32200000000000273, 0.16599999999993997, 0.3229999999999791, 0.4880000000000564, 0.48900000000003274, 0.32200000000000273, 0.16599999999993997, 0.3229999999999791, 0.4880000000000564, 0.48900000000003274, 0.32199999999988904, 0.16600000000005366, 0.3229999999999791, 0.4880000000000564, 0.48899999999991905, 0.32200000000000273, 0.16600000000005366, 0.3229999999999791, 0.4880000000000564, 0.48899999999991905, 0.32200000000000273, 0.16600000000005366, 0.3229999999999791, 0.4880000000000564, 0.48899999999991905, 0.32200000000000273, 0.16700000000003, 0.32200000000000273, 0.48900000000003274, 0.4879999999999427, 0.32200000000000273, 0.16700000000003, 0.32200000000000273, 0.48900000000003274, 0.4879999999999427, 0.3229999999999791, 0.16600000000005366, 0.32200000000000273, 0.48899999999991905, 0.4880000000000564, 0.3229999999999791, 0.16600000000005366, 0.32200000000000273, 0.48899999999991905, 0.4880000000000564, 0.3229999999999791, 0.16600000000005366, 0.32200000000000273, 0.48899999999991905, 0.4880000000000564, 0.3229999999999791, 0.16599999999993997, 0.32200000000000273, 0.48900000000003274, 0.4880000000000564, 0.3229999999999791, 0.16599999999993997, 0.32200000000000273, 0.48900000000003274, 0.4880000000000564, 0.3229999999999791, 0.16599999999993997, 0.32200000000000273, 0.7190000000000509, 0.21500000000003183, 0.32199999999988904, 0.1830000000001064, 0.30599999999992633, 0.48900000000003274, 0.4879999999999427, 0.32200000000000273, 0.16700000000003, 0.32200000000000273, 0.48900000000003274, 0.4879999999999427, 0.32200000000000273, 0.16700000000003, 0.32200000000000273, 0.48900000000003274, 0.4879999999999427, 0.3229999999999791, 0.16600000000005366, 0.32200000000000273, 0.48900000000003274, 0.4879999999999427, 0.3229999999999791, 0.16600000000005366, 0.32200000000000273, 0.48900000000003274, 0.4879999999999427, 0.3229999999999791, 0.16600000000005366, 0.32200000000000273, 0.48899999999991905, 0.4880000000000564, 0.3229999999999791, 0.16600000000005366, 0.32200000000000273, 0.48899999999991905, 0.4880000000000564, 0.3229999999999791, 0.16600000000005366, 0.32200000000000273, 0.48899999999991905, 0.4880000000000564, 0.3229999999999791, 0.16599999999993997, 0.32200000000000273, 0.48900000000003274, 0.4880000000000564, 0.3229999999999791, 0.16599999999993997, 0.32200000000000273, 0.48900000000003274, 0.4880000000000564, 0.3229999999999791, 0.16599999999993997, 0.32200000000000273, 0.48900000000003274, 0.48900000000003274, 0.32200000000000273, 0.16599999999993997, 0.32200000000000273, 0.48900000000003274, 0.48900000000003274, 0.32200000000000273, 0.16599999999993997, 0.3229999999999791, 0.4880000000000564, 0.48899999999991905, 0.32200000000000273, 0.16600000000005366, 0.0, 0.7190000000000509, 0.5369999999999209, 0.0, 0.18200000000001637, 0.30700000000001637, 0.4879999999999427, 0.48900000000003274, 0.0, 0.3590000000000373, 0.1290000000000191, 0.23099999999999454, 0.36000000000001364, 0.3589999999999236, 0.3229999999999791, 0.03700000000003456, 0.32200000000000273, 0.36000000000001364, 0.3590000000000373, 0.36000000000001364, 0.32200000000000273, 0.036999999999920874, 0.3229999999999791, 0.3590000000000373, 0.36000000000001364, 0.3590000000000373, 0.3229999999999791, 0.036999999999920874, 0.32200000000000273, 0.36000000000001364, 0.3590000000000373, 0.36000000000001364, 0.32200000000000273, 0.03700000000003456, 0.3229999999999791, 0.3589999999999236, 0.36000000000001364, 0.3590000000000373, 0.3229999999999791, 0.03700000000003456, 0.32200000000000273, 0.36000000000001364, 0.36000000000001364, 0.3589999999999236, 0.32200000000000273, 0.038000000000010914, 0.32200000000000273, 0.36000000000001364, 0.3590000000000373, 0.36000000000001364, 0.32200000000000273, 0.036999999999920874, 0.3229999999999791, 0.3590000000000373, 0.36000000000001364, 0.3590000000000373, 0.3229999999999791, 0.03700000000003456, 0.32199999999988904, 0.36000000000001364, 0.3590000000000373, 0.36000000000001364, 0.32200000000000273, 0.03700000000003456, 0.3229999999999791, 0.3589999999999236, 0.36000000000001364, 0.3590000000000373, 0.3229999999999791, 0.03700000000003456, 0.32200000000000273, 0.36000000000001364, 0.36000000000001364, 0.3589999999999236, 0.3229999999999791, 0.03700000000003456, 0.32200000000000273, 0.36000000000001364, 0.3590000000000373, 0.36000000000001364, 0.32200000000000273, 0.036999999999920874, 0.3229999999999791, 0.3590000000000373, 0.36000000000001364, 0.3590000000000373, 0.3229999999999791, 0.03700000000003456, 0.32200000000000273, 0.35999999999989996, 0.3590000000000373, 0.36000000000001364, 0.32200000000000273, 0.038000000000010914, 0.32200000000000273, 0.3589999999999236, 0.36000000000001364, 0.36000000000001364, 0.32200000000000273, 0.03700000000003456, 0.3229999999999791, 0.3590000000000373, 0.36000000000001364, 0.3589999999999236, 0.32300000000009277, 0.036999999999920874, 0.32200000000000273, 0.36000000000001364, 0.3590000000000373, 0.36000000000001364, 0.32200000000000273, 0.036999999999920874, 0.3229999999999791, 0.3590000000000373, 0.36000000000001364, 0.3590000000000373, 0.3229999999999791, 0.03700000000003456, 0.32200000000000273, 0.35999999999989996, 0.36000000000001364, 0.3590000000000373, 0.32200000000000273, 0.038000000000010914, 0.32200000000000273, 0.36000000000001364, 0.3589999999999236, 0.36000000000001364, 0.32200000000000273, 0.03700000000003456, 0.3229999999999791, 0.3590000000000373, 0.36000000000001364, 0.3589999999999236, 0.32300000000009277, 0.036999999999920874, 0.32200000000000273, 0.36000000000001364, 0.3590000000000373, 0.36000000000001364, 0.32200000000000273, 0.036999999999920874, 0.0, 0.7200000000000273, 0.6660000000000537, 0.0, 0.05299999999999727, 0.43499999999994543, 0.48900000000003274, 0.4879999999999427, 0.0, 0.36000000000001364, 0.1290000000000191, 0.2300000000000182, 0.36000000000001364, 0.3589999999999236, 0.0, 0.2900000000000773, 0.06999999999993634, 0.22000000000002728, 0.28899999999998727, 0.2899999999999636, 0.28900000000010095, 0.3229999999999791, 0.28899999999998727, 0.2899999999999636, 0.2900000000000773, 0.28899999999998727, 0.2899999999999636, 0.28899999999998727, 0.3229999999999791, 0.28899999999998727, 0.2900000000000773, 0.28899999999998727, 0.2899999999999636, 0.2899999999999636, 0.28900000000010095, 0.3229999999999791, 0.28899999999998727, 0.2899999999999636, 0.28899999999998727, 0.2900000000000773, 0.2899999999999636, 0.28899999999998727, 0.3229999999999791, 0.28899999999998727, 0.2900000000000773, 0.28899999999998727, 0.2899999999999636, 0.2899999999999636, 0.28900000000010095, 0.3229999999999791, 0.28899999999998727, 0.2899999999999636, 0.28899999999998727, 0.2900000000000773, 0.28899999999998727, 0.2899999999999636, 0.32200000000000273, 0.2899999999999636, 0.2900000000000773, 0.28899999999998727, 0.2899999999999636, 0.28899999999998727, 0.2899999999999636, 0.32200000000000273, 0.2900000000000773, 0.2899999999999636, 0.28899999999998727, 0.2900000000000773, 0.28899999999998727, 0.2899999999999636, 0.32200000000000273, 0.2899999999999636, 0.2900000000000773, 0.28899999999998727, 0.2899999999999636, 0.28899999999998727, 0.2899999999999636, 0.32200000000000273, 0.2900000000000773, 0.2899999999999636, 0.28899999999998727, 0.2899999999999636, 0.28900000000010095, 0.2899999999999636, 0.32200000000000273, 0.2899999999999636, 0.2900000000000773, 0.28899999999998727, 0.2899999999999636, 0.28899999999998727, 0.2899999999999636, 0.32200000000000273, 0.2900000000000773, 0.2899999999999636, 0.28899999999998727, 0.2899999999999636, 0.28900000000010095, 0.2899999999999636, 0.32200000000000273, 0.2899999999999636, 0.2899999999999636, 0.28900000000010095, 0.2899999999999636, 0.28899999999998727, 0.2899999999999636, 0.32200000000000273, 0.2900000000000773, 0.28899999999998727, 0.2899999999999636, 0.2899999999999636, 0.28900000000010095, 0.2899999999999636, 0.32200000000000273, 0.2899999999999636, 0.28899999999998727, 0.2900000000000773, 0.2899999999999636, 0.28899999999998727, 0.2899999999999636, 0.32200000000000273, 0.2900000000000773, 0.28899999999998727, 0.2899999999999636, 0.2899999999999636, 0.28899999999998727, 0.2900000000000773, 0.32200000000000273, 0.2899999999999636, 0.28899999999998727, 0.2900000000000773, 0.2899999999999636, 0.28899999999998727, 0.2899999999999636, 0.32200000000000273, 0.2900000000000773, 0.28899999999998727, 0.2899999999999636, 0.2899999999999636, 0.28899999999998727, 0.2900000000000773, 0.32200000000000273, 0.2899999999999636, 0.28899999999998727, 0.2899999999999636, 0.2900000000000773, 0.28899999999998727, 0.2899999999999636, 0.32200000000000273, 0.2900000000000773, 0.28899999999998727, 0.2899999999999636, 0.2899999999999636, 0.28899999999998727, 0.2900000000000773, 0.32200000000000273, 0.2899999999999636, 0.28899999999998727, 0.2899999999999636, 0.28900000000010095, 0.2899999999999636, 0.2899999999999636, 0.32200000000000273, 0.2899999999999636, 0.28900000000010095, 0.2899999999999636, 0.28899999999998727, 0.2899999999999636, 0.2900000000000773, 0.32200000000000273, 0.2899999999999636, 0.28899999999998727, 0.2899999999999636, 0.28900000000010095, 0.2899999999999636, 0.2899999999999636, 0.32200000000000273, 0.2899999999999636, 0.28900000000010095, 0.2899999999999636, 0.28899999999998727, 0.2899999999999636, 0.2900000000000773, 0.32200000000000273, 0.2899999999999636, 0.28899999999998727, 0.2899999999999636, 0.28899999999998727, 0.2900000000000773, 0.2899999999999636, 0.32200000000000273, 0.2899999999999636, 0.28900000000010095, 0.2899999999999636, 0.28899999999998727, 0.2899999999999636, 0.2900000000000773, 0.32200000000000273, 0.2899999999999636, 0.28899999999998727, 0.2899999999999636, 0.28899999999998727, 0.2900000000000773, 0.28899999999998727, 0.3229999999999791, 0.2899999999999636, 0.28899999999998727, 0.2900000000000773, 0.28899999999998727, 0.2899999999999636, 0.28899999999998727, 0.32300000000009277, 0.28899999999998727, 0.2899999999999636, 0.2899999999999636, 0.28899999999998727, 0.2900000000000773, 0.28899999999998727, 0.3229999999999791, 0.28899999999998727, 0.2899999999999636, 0.2900000000000773, 0.28899999999998727, 0.2899999999999636, 0.28899999999998727, 0.3229999999999791, 0.28900000000010095, 0.2899999999999636, 0.2899999999999636, 0.28899999999998727, 0.2900000000000773, 0.28899999999998727, 0.3229999999999791, 0.28899999999998727, 0.2899999999999636, 0.2900000000000773, 0.28899999999998727, 0.2899999999999636, 0.28899999999998727, 0.3229999999999791, 0.28900000000010095, 0.2899999999999636, 0.2899999999999636, 0.28899999999998727, 0.2900000000000773, 0.28899999999998727, 0.3229999999999791, 0.28899999999998727, 0.2899999999999636, 0.2900000000000773, 0.28899999999998727, 0.2899999999999636, 0.28899999999998727, 0.3229999999999791, 0.28900000000010095, 0.2899999999999636, 0.28899999999998727, 0.2899999999999636, 0.2900000000000773, 0.28899999999998727, 0.3229999999999791, 0.28899999999998727, 0.2899999999999636, 0.28899999999998727, 0.2900000000000773, 0.2899999999999636, 0.28899999999998727, 0.3229999999999791, 0.28899999999998727, 0.2900000000000773, 0.28899999999998727, 0.2899999999999636, 0.2900000000000773, 0.28899999999998727, 0.3229999999999791, 0.28899999999998727, 0.2899999999999636, 0.28899999999998727, 0.2900000000000773, 0.2899999999999636, 0.28899999999998727, 0.3229999999999791, 0.28899999999998727, 0.2900000000000773, 0.28899999999998727, 0.2899999999999636, 0.2900000000000773, 0.28899999999998727, 0.3229999999999791, 0.28899999999998727, 0.2899999999999636, 0.28899999999998727, 0.2900000000000773, 0.2899999999999636, 0.28899999999998727, 0.3229999999999791, 0.28899999999998727, 0.2900000000000773, 0.28899999999998727, 0.2899999999999636, 0.2899999999999636, 0.28900000000010095, 0.3229999999999791, 0.28899999999998727, 0.2899999999999636, 0.28899999999998727, 0.2900000000000773, 0.28899999999998727, 0.2899999999999636, 0.3229999999999791, 0.28899999999998727, 0.2900000000000773, 0.28899999999998727, 0.2899999999999636, 0.28899999999998727, 0.2900000000000773, 0.32200000000000273, 0.2899999999999636, 0.2899999999999636, 0.28899999999998727, 0.2900000000000773, 0.28899999999998727, 0.2899999999999636, 0.32200000000000273, 0.2899999999999636, 0.2900000000000773, 0.28899999999998727, 0.2899999999999636, 0.28899999999998727, 0.2900000000000773, 0.32199999999988904, 0.2900000000000773, 0.2899999999999636, 0.28899999999998727, 0.2900000000000773, 0.28899999999998727, 0.2899999999999636, 0.32200000000000273, 0.2899999999999636, 0.2900000000000773, 0.28899999999998727, 0.2899999999999636, 0.28899999999998727, 0.2899999999999636, 0.32200000000000273, 0.2900000000000773, 0.2899999999999636, 0.28899999999998727, 0.2900000000000773, 0.28899999999998727, 0.2899999999999636, 0.32200000000000273, 0.2899999999999636, 0.2900000000000773, 0.28899999999998727, 0.2899999999999636, 0.28899999999998727, 0.2899999999999636, 0.32200000000000273, 0.2900000000000773, 0.28899999999998727, 0.2899999999999636, 0.2899999999999636, 0.28900000000010095, 0.2899999999999636, 0.32200000000000273, 0.2899999999999636, 0.28899999999998727, 0.2900000000000773, 0.2899999999999636, 0.28899999999998727, 0.2899999999999636, 0.32200000000000273, 0.2900000000000773, 0.28899999999998727, 0.2899999999999636, 0.2899999999999636, 0.28900000000010095, 0.2899999999999636, 0.32200000000000273, 0.2899999999999636, 0.28899999999998727, 0.2900000000000773, 0.2899999999999636, 0.28899999999998727, 0.2899999999999636, 0.32200000000000273, 0.2900000000000773, 0.28899999999998727, 0.2899999999999636, 0.2899999999999636, 0.28900000000010095, 0.2899999999999636, 0.32200000000000273, 0.2899999999999636, 0.28899999999998727, 0.2900000000000773, 0.2899999999999636, 0.28899999999998727, 0.2899999999999636, 0.32200000000000273, 0.2900000000000773, 0.28899999999998727, 0.2899999999999636, 0.2899999999999636, 0.28899999999998727, 0.2900000000000773, 0.32200000000000273, 0.2899999999999636, 0.28899999999998727, 0.2900000000000773, 0.28899999999998727, 0.2899999999999636, 0.2899999999999636, 0.32200000000000273, 0.2900000000000773, 0.28899999999998727, 0.2899999999999636, 0.28899999999998727, 0.2899999999999636, 0.2900000000000773, 0.32200000000000273, 0.2899999999999636, 0.28899999999998727, 0.2899999999999636, 0.28900000000010095, 0.2899999999999636, 0.2899999999999636, 0.32200000000000273, 1.4220000000000255, 0.3229999999999791, 0.7190000000000509, 0.37999999999999545, 0.3229999999999791, 0.01599999999996271, 0.47199999999998, 0.48900000000003274, 0.4880000000000564, 0.3229999999999791, 0.16599999999993997, 0.32200000000000273, 0.48900000000003274, 0.48900000000003274, 0.32200000000000273, 0.16599999999993997, 0.32200000000000273, 0.48900000000003274, 0.48900000000003274, 0.32200000000000273, 0.16599999999993997, 0.32200000000000273, 0.48900000000003274, 0.48900000000003274, 0.32200000000000273, 0.16599999999993997, 0.3229999999999791, 0.4880000000000564, 0.48899999999991905, 0.32200000000000273, 0.16600000000005366, 0.3229999999999791, 0.4880000000000564, 0.48899999999991905, 0.32200000000000273, 0.16600000000005366, 0.3229999999999791, 0.4880000000000564, 0.48899999999991905, 0.32200000000000273, 0.16600000000005366, 0.3229999999999791, 0.4879999999999427, 0.48900000000003274, 0.32200000000000273, 0.16600000000005366, 0.3229999999999791, 0.4879999999999427, 0.48900000000003274, 0.32200000000000273, 0.16600000000005366, 0.3229999999999791, 0.4879999999999427, 0.48900000000003274, 0.32200000000000273, 0.16600000000005366, 0.3229999999999791, 0.4879999999999427, 0.48900000000003274, 0.32200000000000273, 0.16599999999993997, 0.32300000000009277, 0.4879999999999427, 0.48900000000003274, 0.32200000000000273, 0.16700000000003, 0.32200000000000273, 0.4879999999999427, 0.48900000000003274, 0.32200000000000273, 0.16699999999991633, 0.32200000000000273, 0.48900000000003274, 0.4880000000000564, 0.3229999999999791, 0.16599999999993997, 0.32200000000000273, 0.48900000000003274, 0.4880000000000564, 0.3229999999999791, 0.16599999999993997, 0.32200000000000273, 0.48900000000003274, 0.4879999999999427, 0.32300000000009277, 0.16599999999993997, 0.32200000000000273, 0.48900000000003274, 0.4879999999999427, 0.32300000000009277, 0.16599999999993997, 0.32200000000000273, 0.48900000000003274, 0.4879999999999427, 0.3229999999999791, 0.16600000000005366, 0.32200000000000273, 0.48900000000003274, 0.4879999999999427, 0.3229999999999791, 0.16600000000005366, 0.32200000000000273, 0.48900000000003274, 0.4879999999999427, 0.3229999999999791, 0.16600000000005366, 0.32200000000000273, 0.48899999999991905, 0.48900000000003274, 0.32200000000000273, 0.16600000000005366, 0.3229999999999791, 0.4879999999999427, 0.48900000000003274, 0.32200000000000273, 0.16600000000005366, 0.3229999999999791, 0.4879999999999427, 0.48900000000003274, 0.32200000000000273, 0.16599999999993997, 0.32300000000009277, 0.4879999999999427, 0.48900000000003274, 0.32200000000000273, 0.16599999999993997, 0.32300000000009277, 0.4879999999999427, 0.48900000000003274, 0.32200000000000273, 0.16599999999993997, 0.3229999999999791, 0.4880000000000564, 0.48900000000003274, 0.32200000000000273, 0.16599999999993997, 0.3229999999999791, 0.4880000000000564, 0.48900000000003274, 0.32200000000000273, 0.16599999999993997, 0.3229999999999791, 0.4880000000000564, 0.48899999999991905, 0.32200000000000273, 0.16700000000003, 0.32200000000000273, 0.48900000000003274, 0.4879999999999427, 0.32200000000000273, 0.16700000000003, 0.32200000000000273, 0.48900000000003274, 0.4879999999999427, 0.3229999999999791, 0.16600000000005366, 0.32200000000000273, 0.48900000000003274, 0.4879999999999427, 0.3229999999999791, 0.16600000000005366, 0.32200000000000273, 0.48900000000003274, 0.4879999999999427, 0.3229999999999791, 0.16600000000005366, 0.32200000000000273, 0.48900000000003274, 0.4879999999999427, 0.3229999999999791, 0.16600000000005366, 0.32200000000000273, 0.48899999999991905, 0.4880000000000564, 0.3229999999999791, 0.16600000000005366, 0.32200000000000273, 0.48899999999991905, 0.4880000000000564, 0.3229999999999791, 0.16600000000005366, 0.32200000000000273, 0.48899999999991905, 0.48900000000003274, 0.32200000000000273, 0.16599999999993997, 0.0, 0.7190000000000509, 0.5370000000000346, 0.0, 0.18200000000001637, 0.3069999999999027, 0.4880000000000564, 0.48900000000003274, 0.0, 0.3589999999999236, 0.1290000000000191, 0.23099999999999454, 0.3590000000000373, 0.36000000000001364, 0.32200000000000273, 0.038000000000010914, 0.32200000000000273, 0.35999999999989996, 0.3590000000000373, 0.36000000000001364, 0.32200000000000273, 0.03700000000003456, 0.3229999999999791, 0.3590000000000373, 0.35999999999989996, 0.3590000000000373, 0.3229999999999791, 0.03700000000003456, 0.32200000000000273, 0.36000000000001364, 0.3589999999999236, 0.36000000000001364, 0.32200000000000273, 0.03700000000003456, 0.3229999999999791, 0.3590000000000373, 0.36000000000001364, 0.3589999999999236, 0.32300000000009277, 0.036999999999920874, 0.32200000000000273, 0.36000000000001364, 0.3590000000000373, 0.36000000000001364, 0.32200000000000273, 0.036999999999920874, 0.32300000000009277, 0.3589999999999236, 0.36000000000001364, 0.36000000000001364, 0.32200000000000273, 0.03700000000003456, 0.32200000000000273, 0.36000000000001364, 0.35999999999989996, 0.3590000000000373, 0.3229999999999791, 0.03700000000003456, 0.32200000000000273, 0.36000000000001364, 0.3590000000000373, 0.35999999999989996, 0.32200000000000273, 0.03700000000003456, 0.3229999999999791, 0.3590000000000373, 0.36000000000001364, 0.3589999999999236, 0.32300000000009277, 0.036999999999920874, 0.32200000000000273, 0.36000000000001364, 0.3590000000000373, 0.36000000000001364, 0.32200000000000273, 0.038000000000010914, 0.32200000000000273, 0.35999999999989996, 0.3590000000000373, 0.36000000000001364, 0.32200000000000273, 0.03700000000003456, 0.3229999999999791, 0.3590000000000373, 0.35999999999989996, 0.3590000000000373, 0.3229999999999791, 0.03700000000003456, 0.32200000000000273, 0.36000000000001364, 0.3590000000000373, 0.35999999999989996, 0.32200000000000273, 0.03700000000003456, 0.3229999999999791, 0.3590000000000373, 0.36000000000001364, 0.3589999999999236, 0.32300000000009277, 0.036999999999920874]\n"
     ]
    }
   ],
   "source": [
    "# simu 6\n",
    "import os\n",
    "import matplotlib.pyplot as plt\n",
    "import numpy as np\n",
    "%matplotlib\n",
    "directory = \"/home/zhaoliang/Documents/ndnSIM/ndnSIM-scenario-template/data/simu6/\"\n",
    "files = os.listdir(directory)\n",
    "\n",
    "\n",
    "for file in files:\n",
    " \n",
    "    if file != \"simple.txt\":\n",
    "        continue\n",
    "        \n",
    "    print file\n",
    "    with open(directory + file, 'r') as f:\n",
    "        data = []\n",
    "        lines = f.readlines()\n",
    "        for line in lines[3:]:\n",
    "            \n",
    "            data.append(float(line.rstrip()))\n",
    "#         print data\n",
    "            \n",
    "        plt.title(\"interval time of interests\")\n",
    "        plt.xlabel(\"interest sequence number\")\n",
    "        plt.ylabel(\"interval time[s]\")\n",
    "        plt.ylim([0,1])\n",
    "        # 1 \n",
    "        # 2 segment fetch time\n",
    "        # 3 segment average bitrate\n",
    "        # 4 interest requesting bitrate of content\n",
    "        # 5 segment download time\n",
    "        \n",
    "        \n",
    "#         print data\n",
    "        data = data[1:]\n",
    "        prev = data[0]\n",
    "        cur = 0\n",
    "        diff = []\n",
    "#         count = 0\n",
    "        for i in data:\n",
    "#             print i\n",
    "            cur = i\n",
    "            diff.append(cur-prev)\n",
    "            prev = cur\n",
    "            \n",
    "#             if i < 0.6:\n",
    "#                 count =count + 1\n",
    "#                 if count > 10:\n",
    "#                     print i\n",
    "#                     count = 0\n",
    "            \n",
    "        \n",
    "        print diff\n",
    "        plt.plot(diff[1500:1600],label=\"consumer1\")\n",
    "#         plt.plot(diff,label=\"consumer1\")\n",
    "            \n",
    "            \n",
    "            \n",
    "            \n",
    "        \n",
    "        "
   ]
  },
  {
   "cell_type": "code",
   "execution_count": null,
   "metadata": {
    "collapsed": true
   },
   "outputs": [],
   "source": []
  },
  {
   "cell_type": "code",
   "execution_count": null,
   "metadata": {
    "collapsed": true
   },
   "outputs": [],
   "source": []
  }
 ],
 "metadata": {
  "kernelspec": {
   "display_name": "Python 2",
   "language": "python",
   "name": "python2"
  },
  "language_info": {
   "codemirror_mode": {
    "name": "ipython",
    "version": 2
   },
   "file_extension": ".py",
   "mimetype": "text/x-python",
   "name": "python",
   "nbconvert_exporter": "python",
   "pygments_lexer": "ipython2",
   "version": "2.7.13"
  }
 },
 "nbformat": 4,
 "nbformat_minor": 2
}
