{
 "cells": [
  {
   "cell_type": "code",
   "execution_count": 46,
   "metadata": {
    "collapsed": false
   },
   "outputs": [
    {
     "name": "stdout",
     "output_type": "stream",
     "text": [
      "Using matplotlib backend: TkAgg\n"
     ]
    }
   ],
   "source": [
    "import os\n",
    "import matplotlib.pyplot as plt\n",
    "import numpy as np\n",
    "%matplotlib\n",
    "\n",
    "directory = \"/home/zhaoliang/Documents/ndnSIM/ndnSIM-scenario-template/data/mean/\"\n",
    "files = os.listdir(directory)\n",
    "\n",
    "\n",
    "for file in files:\n",
    "    with open(directory + file, 'r') as f:\n",
    "        data = []\n",
    "        lines = f.readlines()\n",
    "        for line in lines:\n",
    "            l = line.rstrip().split(\"\\t\")\n",
    "            if len(l) != 4:\n",
    "                continue\n",
    "            data.append(l)\n",
    "#         print data\n",
    "\n",
    "        plt.title(\"segment fetch time\")\n",
    "        plt.xlabel(\"time [s]\")\n",
    "        plt.ylabel(\"segment fetch time [s]\")\n",
    "        npdata = np.array(data)\n",
    "        npdata = npdata.transpose()\n",
    "        plt.plot(npdata[0],npdata[1],label=float(file.split(\".txt\")[0]))\n",
    "        plt.legend(loc='upper left')\n",
    "        \n",
    "#             print lineA"
   ]
  },
  {
   "cell_type": "code",
   "execution_count": 47,
   "metadata": {
    "collapsed": false
   },
   "outputs": [
    {
     "name": "stdout",
     "output_type": "stream",
     "text": [
      "Using matplotlib backend: TkAgg\n"
     ]
    }
   ],
   "source": [
    "import os\n",
    "import matplotlib.pyplot as plt\n",
    "import numpy as np\n",
    "%matplotlib\n",
    "\n",
    "directory = \"/home/zhaoliang/Documents/ndnSIM/ndnSIM-scenario-template/data/mean/\"\n",
    "files = os.listdir(directory)\n",
    "\n",
    "\n",
    "for file in files:\n",
    "    with open(directory + file, 'r') as f:\n",
    "        data = []\n",
    "        lines = f.readlines()\n",
    "        for line in lines:\n",
    "            l = line.rstrip().split(\"\\t\")\n",
    "            if len(l) != 4:\n",
    "                continue\n",
    "            data.append(l)\n",
    "#         print data\n",
    "\n",
    "        plt.title(\"segment average bitrate\")\n",
    "        plt.xlabel(\"time [s]\")\n",
    "        plt.ylabel(\"average bitrate [bps]\")\n",
    "        npdata = np.array(data)\n",
    "        npdata = npdata.transpose()\n",
    "        plt.plot(npdata[0],npdata[2],label=float(file.split(\".txt\")[0]))\n",
    "        plt.legend(loc='upper left')\n",
    "        \n",
    "#             print lineA"
   ]
  },
  {
   "cell_type": "code",
   "execution_count": null,
   "metadata": {
    "collapsed": true
   },
   "outputs": [],
   "source": [
    "import os\n",
    "import matplotlib.pyplot as plt\n",
    "import numpy as np\n",
    "%matplotlib\n",
    "\n",
    "directory = \"/home/zhaoliang/Documents/ndnSIM/ndnSIM-scenario-template/data/mean/\"\n",
    "files = os.listdir(directory)\n",
    "\n",
    "\n",
    "for file in files:\n",
    "    with open(directory + file, 'r') as f:\n",
    "        data = []\n",
    "        lines = f.readlines()\n",
    "        for line in lines:\n",
    "            l = line.rstrip().split(\"\\t\")\n",
    "            if len(l) != 4:\n",
    "                continue\n",
    "            data.append(l)\n",
    "#         print data\n",
    "\n",
    "        plt.title(\"interest requesting bitrate of content\")\n",
    "        plt.xlabel(\"time [s]\")\n",
    "        plt.ylabel(\"requesting bitrate [bps]\")\n",
    "        npdata = np.array(data)\n",
    "        npdata = npdata.transpose()\n",
    "        plt.plot(npdata[0],npdata[2],label=float(file.split(\".txt\")[0]))\n",
    "        plt.legend(loc='upper left')\n",
    "        \n",
    "#             print lineA"
   ]
  }
 ],
 "metadata": {
  "kernelspec": {
   "display_name": "Python 2",
   "language": "python",
   "name": "python2"
  },
  "language_info": {
   "codemirror_mode": {
    "name": "ipython",
    "version": 2
   },
   "file_extension": ".py",
   "mimetype": "text/x-python",
   "name": "python",
   "nbconvert_exporter": "python",
   "pygments_lexer": "ipython2",
   "version": "2.7.13"
  }
 },
 "nbformat": 4,
 "nbformat_minor": 2
}
