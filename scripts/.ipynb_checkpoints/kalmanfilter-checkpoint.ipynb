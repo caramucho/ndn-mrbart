{
 "cells": [
  {
   "cell_type": "code",
   "execution_count": 1,
   "metadata": {
    "collapsed": false
   },
   "outputs": [
    {
     "name": "stdout",
     "output_type": "stream",
     "text": [
      "Using matplotlib backend: TkAgg\n"
     ]
    }
   ],
   "source": [
    "import numpy as np\n",
    "import os\n",
    "import matplotlib.pyplot as plt\n",
    "%matplotlib"
   ]
  },
  {
   "cell_type": "code",
   "execution_count": 2,
   "metadata": {
    "collapsed": true
   },
   "outputs": [],
   "source": [
    "# csvfile = \"/home/zhaoliang/Documents/ndnSIM/ndnSIM-scenario-template/data/u-ips2.csv\"\n",
    "csvfile = \"/home/zhaoliang/Documents/ndnSIM/ndnSIM-scenario-template/data/u-ips2.csv\"\n",
    "\n",
    "with open(csvfile, 'r') as f:\n",
    "    data = []\n",
    "    lines = f.readlines()\n",
    "    for line in lines:\n",
    "        l = map(lambda x: float(x),line.rstrip().split(\",\"))\n",
    "#         l = line.rstrip().split(\",\")\n",
    "#         print l\n",
    "        if l not in data:\n",
    "            data.append(l)\n",
    "#     print data\n",
    "    npdata = np.array(data)\n",
    "    npdata = npdata.transpose()"
   ]
  },
  {
   "cell_type": "code",
   "execution_count": 68,
   "metadata": {
    "collapsed": true
   },
   "outputs": [],
   "source": [
    "datafile = \"/home/zhaoliang/Documents/ndnSIM/ndnSIM-scenario-template/data/simu7/abw-1mbpsbn-0.5mbpsct.txt\"\n",
    "with open(datafile, 'r') as f:\n",
    "    data = []\n",
    "    lines = f.readlines()\n",
    "    for line in lines:\n",
    "        l = line.rstrip().split(\"\\t\")\n",
    "        if len(l) != 2:\n",
    "            continue\n",
    "        data.append(l)\n",
    "    npdata = np.array(data)\n",
    "    npdata = npdata.transpose()"
   ]
  },
  {
   "cell_type": "code",
   "execution_count": 11,
   "metadata": {
    "collapsed": true
   },
   "outputs": [],
   "source": [
    "def model(u):\n",
    "    abw = 0.5\n",
    "    c = 1\n",
    "    if u < abw:\n",
    "        return 0\n",
    "    else: \n",
    "        return 1/c*u - (abw/1)"
   ]
  },
  {
   "cell_type": "code",
   "execution_count": 20,
   "metadata": {
    "collapsed": false
   },
   "outputs": [
    {
     "name": "stdout",
     "output_type": "stream",
     "text": [
      "10.4106\n",
      "0.0639946348733 0.0103433681073\n",
      "0.00221957588679\n",
      "0.0980918033026 0.010727680432\n",
      "0.00174270327996\n",
      "0.135498857971 0.0112481992683\n",
      "0.00160632040052\n",
      "0.176934229423 0.0118552992695\n",
      "0.00154889462916\n",
      "0.222564892745 0.0125058761841\n",
      "0.00152032170602\n",
      "0.272178146115 0.0131697739965\n",
      "0.00150561578439\n",
      "0.325363697247 0.0138305252929\n",
      "0.00149929920459\n",
      "0.381647839839 0.0144826853676\n",
      "0.00149901247115\n",
      "0.440569026306 0.0151280506782\n",
      "0.00150351094604\n",
      "0.501708759784 0.0157721764393\n",
      "0.00151197407184\n",
      "0.564696809722 0.016421769656\n",
      "0.00152376273672\n",
      "0.62920567421 0.017083026821\n",
      "0.00153833859096\n",
      "0.694943184445 0.0177607620342\n",
      "0.00155524134081\n",
      "0.761647226406 0.0184581097632\n",
      "0.00161341083099\n",
      "0.852219034029 0.0194581150651\n",
      "0.00158505266204\n",
      "0.911402512679 0.0201032318439\n",
      "0.0016123783051\n",
      "0.973720121993 0.020797728608\n",
      "0.00159817255479\n",
      "1.01382865763 0.0212424187365\n",
      "0.001631776988\n",
      "1.06351342683 0.0218063005103\n",
      "0.0016198815592\n",
      "1.09472897559 0.0221598711767\n",
      "0.00165553662585\n",
      "1.13877382325 0.0226699877947\n",
      "0.00164383184781\n",
      "1.16585074039 0.0229833548797\n",
      "0.00168077589366\n",
      "1.20771318031 0.0234778358829\n",
      "0.00166887668349\n",
      "1.23295890772 0.0237759600017\n",
      "0.00170694909098\n",
      "1.27396252159 0.0242691961436\n",
      "0.00169479304665\n",
      "1.29793322942 0.0245575149295\n",
      "0.00173393656773\n",
      "1.33842197644 0.0250526851511\n",
      "0.0017215240339\n",
      "1.36193283035 0.0253402095695\n",
      "0.00176170098316\n",
      "1.40281306543 0.0258477047155\n",
      "0.00174904518099\n",
      "1.42613663832 0.0261372450142\n",
      "0.00179022376942\n",
      "1.46683030217 0.0266492996122\n",
      "0.00177734021186\n",
      "1.48959573313 0.0269357595496\n",
      "0.00181949216541\n",
      "1.53022918762 0.027453350488\n",
      "0.00180639609458\n",
      "1.55250447445 0.02773709389\n",
      "0.00184949601952\n",
      "1.59367955967 0.0282674379971\n",
      "0.00183620176426\n",
      "1.6158282576 0.0285527179839\n",
      "0.00188022679725\n",
      "1.65664198937 0.02908373928\n",
      "0.00191573455085\n",
      "1.70792234056 0.0297571666216\n",
      "0.00189913341326\n",
      "1.73462920448 0.0301078883132\n",
      "0.00194416533518\n",
      "1.77919371146 0.0306980748487\n",
      "0.00193011405356\n",
      "1.80178633049 0.0309972784142\n",
      "0.00197673698451\n",
      "1.8444468964 0.0315666189173\n",
      "0.00196275580406\n",
      "1.86554141652 0.0318481427181\n",
      "0.00201028959244\n",
      "1.90671563959 0.0324015429137\n",
      "0.00204826144645\n",
      "1.95946199916 0.0331151402641\n",
      "0.00203121147574\n",
      "1.98471151655 0.0334567370842\n",
      "0.00140508214372\n",
      "1.62385652985 0.0293797653646\n"
     ]
    }
   ],
   "source": [
    "t = 0\n",
    "a=np.array([100,-1])\n",
    "p=np.array([[100.0,0],\n",
    "             [0,10]])\n",
    "# u=np.array([-float(a[1])/float(a[0]),1])\n",
    "# y = np.zeros(100)\n",
    "H = 0.001 #观测误差var\n",
    "Q = np.array([[0.0001,0],[0,0.0001]])\n",
    "for uips in npdata.transpose():\n",
    "    ips = float(uips[1])\n",
    "    u0 = float(uips[0])\n",
    "#     ips = model(u0)\n",
    "#     if ips == 0:\n",
    "#         continue;\n",
    "#     if ips == 0:\n",
    "#         gain = 1.25\n",
    "#     else:\n",
    "#         gain = 1\n",
    "#     if ips == 0:\n",
    "#         continue;\n",
    "#     B = -float(a[1])/float(a[0])\n",
    "#     print u0 , B,  a , v\n",
    "    u = np.array([u0, 1])\n",
    "    \n",
    "#     if u0 < B:\n",
    "#         v = ips - 0\n",
    "#     else:\n",
    "    v = ips - np.matmul(u,np.transpose(a))\n",
    "    f = np.matmul(np.matmul(np.transpose(u), p), u) + H\n",
    "    k = np.matmul(p,np.transpose(u)) * float(1/f)\n",
    "#     ppost = p - np.matmul((k.T * f), k) #??\n",
    "    ahat = a + k * v\n",
    "#     print k ,u\n",
    "    phat = p - np.matmul(k, u) * p #??\n",
    "    a = ahat\n",
    "    p = phat + Q\n",
    "    print -float(a[1])/float(a[0]), 1/float(a[0])\n",
    "#     print p\n",
    "    t = t + 1"
   ]
  },
  {
   "cell_type": "code",
   "execution_count": 3,
   "metadata": {
    "collapsed": false
   },
   "outputs": [
    {
     "name": "stdout",
     "output_type": "stream",
     "text": [
      "[[ 0.064      0.128      0.192      0.256      0.32       0.384      0.448\n",
      "   0.512      0.576      0.64       0.704      0.768      0.832      0.896\n",
      "   1.024      1.024      1.088      1.088      1.152      1.152      1.216\n",
      "   1.216      1.28       1.28       1.344      1.344      1.408      1.408\n",
      "   1.472      1.472      1.536      1.536      1.6        1.6        1.664\n",
      "   1.664      1.728      1.792      1.792      1.856      1.856      1.92\n",
      "   1.92       1.984      2.048      2.048      1.024    ]\n",
      " [ 0.         0.         0.         0.         0.         0.         0.         0.\n",
      "   0.         0.         0.         0.         0.         0.         0.0491803\n",
      "   0.0847458  0.122807   0.142857   0.185185   0.207547   0.254902   0.28\n",
      "   0.306122   0.333333   0.361702   0.422222   0.454545   0.488372\n",
      "   0.488372   0.52381    0.560976   0.6        0.641026   0.684211\n",
      "   0.684211   0.72973    0.777778   0.828571   0.882353   0.882353\n",
      "   0.939394   0.939394   1.         1.06452    1.06452    1.13333\n",
      "   0.0666667]]\n"
     ]
    },
    {
     "data": {
      "text/plain": [
       "[<matplotlib.lines.Line2D at 0x7f8d52a184d0>]"
      ]
     },
     "execution_count": 3,
     "metadata": {},
     "output_type": "execute_result"
    }
   ],
   "source": [
    "# print npdata.transpose\n",
    "print npdata\n",
    "plt.plot(npdata[0],npdata[1])"
   ]
  },
  {
   "cell_type": "code",
   "execution_count": null,
   "metadata": {
    "collapsed": true
   },
   "outputs": [],
   "source": []
  }
 ],
 "metadata": {
  "kernelspec": {
   "display_name": "Python 2",
   "language": "python",
   "name": "python2"
  },
  "language_info": {
   "codemirror_mode": {
    "name": "ipython",
    "version": 2
   },
   "file_extension": ".py",
   "mimetype": "text/x-python",
   "name": "python",
   "nbconvert_exporter": "python",
   "pygments_lexer": "ipython2",
   "version": "2.7.13"
  }
 },
 "nbformat": 4,
 "nbformat_minor": 2
}
