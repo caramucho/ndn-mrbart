{
 "cells": [
  {
   "cell_type": "code",
   "execution_count": 44,
   "metadata": {
    "collapsed": false
   },
   "outputs": [
    {
     "name": "stdout",
     "output_type": "stream",
     "text": [
      "Using matplotlib backend: TkAgg\n"
     ]
    }
   ],
   "source": [
    "import os\n",
    "import matplotlib.pyplot as plt\n",
    "import numpy as np\n",
    "%matplotlib\n",
    "\n",
    "directory = \"/home/zhaoliang/Documents/ndnSIM/ndnSIM-scenario-template/data/mean/\"\n",
    "files = os.listdir(directory)\n",
    "\n",
    "\n",
    "for file in files:\n",
    "    with open(directory + file, 'r') as f:\n",
    "        data = []\n",
    "        lines = f.readlines()\n",
    "        for line in lines:\n",
    "            l = line.rstrip().split(\"\\t\")\n",
    "            if len(l) != 4:\n",
    "                continue\n",
    "            data.append(l)\n",
    "#         print data\n",
    "        plt.title(\"segment fetch time\")\n",
    "        plt.xlabel(\"time [s]\")\n",
    "        plt.ylabel(\"segment fetch time [s]\")\n",
    "        npdata = np.array(data)\n",
    "        npdata = npdata.transpose()\n",
    "        plt.plot(npdata[0],npdata[1],label=float(file.split(\".txt\")[0]))\n",
    "        plt.legend(loc='upper left')\n",
    "    \n",
    "\n",
    "\n",
    "        \n",
    "#             print lineA"
   ]
  },
  {
   "cell_type": "code",
   "execution_count": 45,
   "metadata": {
    "collapsed": false
   },
   "outputs": [
    {
     "name": "stdout",
     "output_type": "stream",
     "text": [
      "Using matplotlib backend: TkAgg\n"
     ]
    }
   ],
   "source": [
    "import os\n",
    "import matplotlib.pyplot as plt\n",
    "import numpy as np\n",
    "%matplotlib\n",
    "\n",
    "directory = \"/home/zhaoliang/Documents/ndnSIM/ndnSIM-scenario-template/data/mean/\"\n",
    "files = os.listdir(directory)\n",
    "\n",
    "\n",
    "for file in files:\n",
    "    with open(directory + file, 'r') as f:\n",
    "        data = []\n",
    "        lines = f.readlines()\n",
    "        for line in lines:\n",
    "            l = line.rstrip().split(\"\\t\")\n",
    "            if len(l) != 4:\n",
    "                continue\n",
    "            data.append(l)\n",
    "#         print data\n",
    "        \n",
    "        plt.title(\"segment average bitrate\")\n",
    "        plt.xlabel(\"time [s]\")\n",
    "        plt.ylabel(\"average bitrate [bps]\")\n",
    "        plt.ylim([0,380000])\n",
    "        npdata = np.array(data)\n",
    "        npdata = npdata.transpose()\n",
    "        plt.plot(npdata[0],npdata[2],label=float(file.split(\".txt\")[0]))\n",
    "        plt.legend(loc='upper left')\n",
    "        \n",
    "#             print lineA"
   ]
  },
  {
   "cell_type": "code",
   "execution_count": 36,
   "metadata": {
    "collapsed": false
   },
   "outputs": [
    {
     "name": "stdout",
     "output_type": "stream",
     "text": [
      "Using matplotlib backend: TkAgg\n"
     ]
    }
   ],
   "source": [
    "import os\n",
    "import matplotlib.pyplot as plt\n",
    "import numpy as np\n",
    "%matplotlib\n",
    "\n",
    "directory = \"/home/zhaoliang/Documents/ndnSIM/ndnSIM-scenario-template/data/mean/\"\n",
    "files = os.listdir(directory)\n",
    "\n",
    "\n",
    "for file in files:\n",
    "    with open(directory + file, 'r') as f:\n",
    "        data = []\n",
    "        lines = f.readlines()\n",
    "        for line in lines:\n",
    "            l = line.rstrip().split(\"\\t\")\n",
    "            if len(l) != 4:\n",
    "                continue\n",
    "            data.append(l)\n",
    "#         print data\n",
    "\n",
    "        plt.title(\"interest requesting bitrate of content\")\n",
    "        plt.xlabel(\"time [s]\")\n",
    "        plt.ylabel(\"requesting bitrate [bps]\")\n",
    "        npdata = np.array(data)\n",
    "        npdata = npdata.transpose()\n",
    "        plt.plot(npdata[0],npdata[3],label=float(file.split(\".txt\")[0]))\n",
    "        plt.legend(loc='upper left')\n",
    "        \n",
    "#             print lineA"
   ]
  },
  {
   "cell_type": "code",
   "execution_count": 63,
   "metadata": {
    "collapsed": false
   },
   "outputs": [
    {
     "name": "stdout",
     "output_type": "stream",
     "text": [
      "Using matplotlib backend: TkAgg\n"
     ]
    }
   ],
   "source": [
    "import os\n",
    "import matplotlib.pyplot as plt\n",
    "import numpy as np\n",
    "%matplotlib\n",
    "\n",
    "directory = \"/home/zhaoliang/Documents/ndnSIM/ndnSIM-scenario-template/data/simu2/\"\n",
    "files = os.listdir(directory)\n",
    "\n",
    "\n",
    "for file in files:\n",
    "    with open(directory + file, 'r') as f:\n",
    "        data = []\n",
    "        lines = f.readlines()\n",
    "        for line in lines:\n",
    "            l = line.rstrip().split(\"\\t\")\n",
    "            if len(l) != 5:\n",
    "                continue\n",
    "            data.append(l)\n",
    "\n",
    "        plt.title(\"segment fetch time\")\n",
    "        plt.xlabel(\"time [s]\")\n",
    "        plt.ylabel(\"segment fetch time [s]\")\n",
    "        npdata = np.array(data)\n",
    "        npdata1 = npdata[npdata[:,0]==\"1\"]\n",
    "        npdata1 = npdata1.transpose()\n",
    "        \n",
    "        plt.plot(npdata1[1],npdata1[2],label=\"consumer1\")\n",
    "        npdata2 = npdata[npdata[:,0]==\"2\"]\n",
    "        \n",
    "        npdata2 = npdata2.transpose()\n",
    "        plt.plot(npdata2[1],npdata2[2],label=\"consumer2\")\n",
    "        \n",
    "        plt.legend(loc='upper left')\n",
    "    \n",
    "\n",
    "\n",
    "        \n",
    "#             print lineA"
   ]
  },
  {
   "cell_type": "code",
   "execution_count": 64,
   "metadata": {
    "collapsed": false
   },
   "outputs": [
    {
     "name": "stdout",
     "output_type": "stream",
     "text": [
      "Using matplotlib backend: TkAgg\n",
      "[['1' '1' '1' ..., '1' '1' '1']\n",
      " ['1.54867' '2.97089' '4.563' ..., '994.956' '996.786' '998.616']\n",
      " ['0.252894' '0.382142' '0.686554' ..., '1.49518' '1.49518' '1.49518']\n",
      " ['432751' '466005' '442733' ..., '374870' '376542' '376542']\n",
      " ['45000' '89000' '131000' ..., '263000' '263000' '263000']]\n"
     ]
    }
   ],
   "source": [
    "import os\n",
    "import matplotlib.pyplot as plt\n",
    "import numpy as np\n",
    "%matplotlib\n",
    "\n",
    "directory = \"/home/zhaoliang/Documents/ndnSIM/ndnSIM-scenario-template/data/simu2/\"\n",
    "files = os.listdir(directory)\n",
    "\n",
    "\n",
    "for file in files:\n",
    "    with open(directory + file, 'r') as f:\n",
    "        data = []\n",
    "        lines = f.readlines()\n",
    "        for line in lines:\n",
    "            l = line.rstrip().split(\"\\t\")\n",
    "            if len(l) != 5:\n",
    "                continue\n",
    "            data.append(l)\n",
    "        \n",
    "        plt.title(\"segment average bitrate\")\n",
    "        plt.xlabel(\"time [s]\")\n",
    "        plt.ylabel(\"average bitrate [bps]\")\n",
    "#         plt.ylim([0,380000])\n",
    "        npdata = np.array(data)\n",
    "        \n",
    "        npdata1 = npdata[npdata[:,0]==\"1\"]\n",
    "        npdata1 = npdata1.transpose()\n",
    "        print npdata1\n",
    "        \n",
    "        plt.plot(npdata1[1],npdata1[3],label=\"consumer1\")\n",
    "        \n",
    "        npdata2 = npdata[npdata[:,0]==\"2\"]\n",
    "        npdata2 = npdata2.transpose()\n",
    "        plt.plot(npdata2[1],npdata2[3],label=\"consumer2\")\n",
    "\n",
    "        plt.legend(loc='upper left')\n",
    "        \n",
    "#             print lineA"
   ]
  },
  {
   "cell_type": "code",
   "execution_count": 65,
   "metadata": {
    "collapsed": false
   },
   "outputs": [
    {
     "name": "stdout",
     "output_type": "stream",
     "text": [
      "Using matplotlib backend: TkAgg\n",
      "[['1' '1' '1' ..., '1' '1' '1']\n",
      " ['1.54867' '2.97089' '4.563' ..., '994.956' '996.786' '998.616']\n",
      " ['0.252894' '0.382142' '0.686554' ..., '1.49518' '1.49518' '1.49518']\n",
      " ['432751' '466005' '442733' ..., '374870' '376542' '376542']\n",
      " ['45000' '89000' '131000' ..., '263000' '263000' '263000']]\n"
     ]
    }
   ],
   "source": [
    "import os\n",
    "import matplotlib.pyplot as plt\n",
    "import numpy as np\n",
    "%matplotlib\n",
    "\n",
    "directory = \"/home/zhaoliang/Documents/ndnSIM/ndnSIM-scenario-template/data/simu2/\"\n",
    "files = os.listdir(directory)\n",
    "\n",
    "\n",
    "for file in files:\n",
    "    with open(directory + file, 'r') as f:\n",
    "        data = []\n",
    "        lines = f.readlines()\n",
    "        for line in lines:\n",
    "            l = line.rstrip().split(\"\\t\")\n",
    "            if len(l) != 5:\n",
    "                continue\n",
    "            data.append(l)\n",
    "        \n",
    "        plt.title(\"interest requesting bitrate of content\")\n",
    "        plt.xlabel(\"time [s]\")\n",
    "        plt.ylabel(\"requesting bitrate [bps]\")\n",
    "#         plt.ylim([0,380000])\n",
    "        npdata = np.array(data)\n",
    "        \n",
    "        npdata1 = npdata[npdata[:,0]==\"1\"]\n",
    "        npdata1 = npdata1.transpose()\n",
    "        print npdata1\n",
    "        \n",
    "        plt.plot(npdata1[1],npdata1[4],label=\"consumer1\")\n",
    "        \n",
    "        npdata2 = npdata[npdata[:,0]==\"2\"]\n",
    "        npdata2 = npdata2.transpose()\n",
    "        plt.plot(npdata2[1],npdata2[4],label=\"consumer2\")\n",
    "\n",
    "        plt.legend(loc='upper left')\n",
    "        \n",
    "#             print lineA"
   ]
  },
  {
   "cell_type": "code",
   "execution_count": 2,
   "metadata": {
    "collapsed": false
   },
   "outputs": [
    {
     "name": "stdout",
     "output_type": "stream",
     "text": [
      "Using matplotlib backend: TkAgg\n"
     ]
    }
   ],
   "source": [
    "import os\n",
    "import matplotlib.pyplot as plt\n",
    "import numpy as np\n",
    "%matplotlib\n",
    "\n",
    "directory = \"/home/zhaoliang/Documents/ndnSIM/ndnSIM-scenario-template/data/simu3/\"\n",
    "files = os.listdir(directory)\n",
    "\n",
    "\n",
    "for file in files:\n",
    "    with open(directory + file, 'r') as f:\n",
    "        data = []\n",
    "        lines = f.readlines()\n",
    "        for line in lines:\n",
    "            l = line.rstrip().split(\"\\t\")\n",
    "            if len(l) != 5:\n",
    "                continue\n",
    "            data.append(l)\n",
    "\n",
    "        plt.title(\"segment fetch time\")\n",
    "        plt.xlabel(\"time [s]\")\n",
    "        plt.ylabel(\"segment fetch time [s]\")\n",
    "        npdata = np.array(data)\n",
    "        npdata1 = npdata[npdata[:,0]==\"1\"]\n",
    "        npdata1 = npdata1.transpose()\n",
    "        plt.plot(npdata1[1],npdata1[2],label=\"consumer1\")\n",
    "        \n",
    "        npdata2 = npdata[npdata[:,0]==\"2\"]\n",
    "        npdata2 = npdata2.transpose()\n",
    "        plt.plot(npdata2[1],npdata2[2],label=\"consumer2\")\n",
    "        \n",
    "        subnpdata = npdata[npdata[:,0]==\"3\"]\n",
    "        subnpdata = subnpdata.transpose()\n",
    "        plt.plot(subnpdata[1],subnpdata[2],label=\"consumer3\")\n",
    "        \n",
    "        subnpdata = npdata[npdata[:,0]==\"4\"]\n",
    "        subnpdata = subnpdata.transpose()\n",
    "        plt.plot(subnpdata[1],subnpdata[2],label=\"consumer4\")\n",
    "        \n",
    "        subnpdata = npdata[npdata[:,0]==\"5\"]\n",
    "        subnpdata = subnpdata.transpose()\n",
    "        plt.plot(subnpdata[1],subnpdata[2],label=\"consumer5\")\n",
    "        \n",
    "        plt.legend(loc='upper left')\n",
    "    \n",
    "\n",
    "\n",
    "        \n",
    "#             print lineA"
   ]
  },
  {
   "cell_type": "code",
   "execution_count": 3,
   "metadata": {
    "collapsed": false
   },
   "outputs": [
    {
     "name": "stdout",
     "output_type": "stream",
     "text": [
      "Using matplotlib backend: TkAgg\n"
     ]
    }
   ],
   "source": [
    "import os\n",
    "import matplotlib.pyplot as plt\n",
    "import numpy as np\n",
    "%matplotlib\n",
    "\n",
    "directory = \"/home/zhaoliang/Documents/ndnSIM/ndnSIM-scenario-template/data/simu3/\"\n",
    "files = os.listdir(directory)\n",
    "\n",
    "\n",
    "for file in files:\n",
    "    with open(directory + file, 'r') as f:\n",
    "        data = []\n",
    "        lines = f.readlines()\n",
    "        for line in lines:\n",
    "            l = line.rstrip().split(\"\\t\")\n",
    "            if len(l) != 5:\n",
    "                continue\n",
    "            data.append(l)\n",
    "\n",
    "        plt.title(\"segment average bitrate\")\n",
    "        plt.xlabel(\"time [s]\")\n",
    "        plt.ylabel(\"average bitrate [bps]\")\n",
    "        npdata = np.array(data)\n",
    "        npdata1 = npdata[npdata[:,0]==\"1\"]\n",
    "        npdata1 = npdata1.transpose()\n",
    "        plt.plot(npdata1[1],npdata1[3],label=\"consumer1\")\n",
    "        \n",
    "        npdata2 = npdata[npdata[:,0]==\"2\"]\n",
    "        npdata2 = npdata2.transpose()\n",
    "        plt.plot(npdata2[1],npdata2[3],label=\"consumer2\")\n",
    "        \n",
    "        subnpdata = npdata[npdata[:,0]==\"3\"]\n",
    "        subnpdata = subnpdata.transpose()\n",
    "        plt.plot(subnpdata[1],subnpdata[3],label=\"consumer3\")\n",
    "        \n",
    "        subnpdata = npdata[npdata[:,0]==\"4\"]\n",
    "        subnpdata = subnpdata.transpose()\n",
    "        plt.plot(subnpdata[1],subnpdata[3],label=\"consumer4\")\n",
    "        \n",
    "        subnpdata = npdata[npdata[:,0]==\"5\"]\n",
    "        subnpdata = subnpdata.transpose()\n",
    "        plt.plot(subnpdata[1],subnpdata[3],label=\"consumer5\")\n",
    "        \n",
    "        plt.legend(loc='upper left')\n",
    "    \n",
    "\n",
    "\n",
    "        \n",
    "#             print lineA"
   ]
  },
  {
   "cell_type": "code",
   "execution_count": null,
   "metadata": {
    "collapsed": true
   },
   "outputs": [],
   "source": [
    "import os\n",
    "import matplotlib.pyplot as plt\n",
    "import numpy as np\n",
    "%matplotlib\n",
    "\n",
    "directory = \"/home/zhaoliang/Documents/ndnSIM/ndnSIM-scenario-template/data/simu3/\"\n",
    "files = os.listdir(directory)\n",
    "\n",
    "\n",
    "for file in files:\n",
    "    with open(directory + file, 'r') as f:\n",
    "        data = []\n",
    "        lines = f.readlines()\n",
    "        for line in lines:\n",
    "            l = line.rstrip().split(\"\\t\")\n",
    "            if len(l) != 5:\n",
    "                continue\n",
    "            data.append(l)\n",
    "\n",
    "        plt.title(\"interest requesting bitrate of content\")\n",
    "        plt.xlabel(\"time [s]\")\n",
    "        plt.ylabel(\"requesting bitrate [bps]\")\n",
    "        npdata = np.array(data)\n",
    "        npdata1 = npdata[npdata[:,0]==\"1\"]\n",
    "        npdata1 = npdata1.transpose()\n",
    "        plt.plot(npdata1[1],npdata1[4],label=\"consumer1\")\n",
    "        \n",
    "        npdata2 = npdata[npdata[:,0]==\"2\"]\n",
    "        npdata2 = npdata2.transpose()\n",
    "        plt.plot(npdata2[1],npdata2[4],label=\"consumer2\")\n",
    "        \n",
    "        subnpdata = npdata[npdata[:,0]==\"3\"]\n",
    "        subnpdata = subnpdata.transpose()\n",
    "        plt.plot(subnpdata[1],subnpdata[4],label=\"consumer3\")\n",
    "        \n",
    "        subnpdata = npdata[npdata[:,0]==\"4\"]\n",
    "        subnpdata = subnpdata.transpose()\n",
    "        plt.plot(subnpdata[1],subnpdata[4],label=\"consumer4\")\n",
    "        \n",
    "        subnpdata = npdata[npdata[:,0]==\"5\"]\n",
    "        subnpdata = subnpdata.transpose()\n",
    "        plt.plot(subnpdata[1],subnpdata[4],label=\"consumer5\")\n",
    "        \n",
    "        plt.legend(loc='upper left')\n",
    "    \n",
    "\n",
    "\n",
    "        \n",
    "#             print lineA"
   ]
  }
 ],
 "metadata": {
  "kernelspec": {
   "display_name": "Python 2",
   "language": "python",
   "name": "python2"
  },
  "language_info": {
   "codemirror_mode": {
    "name": "ipython",
    "version": 2
   },
   "file_extension": ".py",
   "mimetype": "text/x-python",
   "name": "python",
   "nbconvert_exporter": "python",
   "pygments_lexer": "ipython2",
   "version": "2.7.13"
  }
 },
 "nbformat": 4,
 "nbformat_minor": 2
}
